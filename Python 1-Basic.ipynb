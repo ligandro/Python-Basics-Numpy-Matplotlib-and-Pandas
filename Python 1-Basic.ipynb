{
 "cells": [
  {
   "cell_type": "markdown",
   "id": "67a6754b-cbf1-41e5-be45-ba4495b1c8bc",
   "metadata": {},
   "source": [
    "# Intro\n"
   ]
  },
  {
   "cell_type": "markdown",
   "id": "4e715bb0-86a4-4795-80d0-302073733079",
   "metadata": {},
   "source": [
    "a = b+c\n"
   ]
  },
  {
   "cell_type": "markdown",
   "id": "ebe4e7a4-345a-4346-8f8f-2fbc1d9caef7",
   "metadata": {},
   "source": [
    "fmfgf\n"
   ]
  },
  {
   "cell_type": "code",
   "execution_count": 2,
   "id": "1da3542c-b730-4a85-a3d0-bd9a983b2452",
   "metadata": {},
   "outputs": [],
   "source": [
    "x = 7.2"
   ]
  },
  {
   "cell_type": "code",
   "execution_count": 3,
   "id": "2a0f7a59-b992-4853-98fa-4892ea9b0a13",
   "metadata": {},
   "outputs": [],
   "source": [
    "y = 2"
   ]
  },
  {
   "cell_type": "code",
   "execution_count": 4,
   "id": "90c725f4-705d-4fa8-98cd-265e6f15ac29",
   "metadata": {},
   "outputs": [
    {
     "data": {
      "text/plain": [
       "9.2"
      ]
     },
     "execution_count": 4,
     "metadata": {},
     "output_type": "execute_result"
    }
   ],
   "source": [
    "x + y"
   ]
  },
  {
   "cell_type": "code",
   "execution_count": 5,
   "id": "d2d89ef1-5071-4084-87c6-7c70857e2cb2",
   "metadata": {},
   "outputs": [],
   "source": [
    "del(x)"
   ]
  },
  {
   "cell_type": "code",
   "execution_count": 7,
   "id": "730ba221-5ae7-445c-ac60-4b1c196a9cd5",
   "metadata": {},
   "outputs": [
    {
     "ename": "NameError",
     "evalue": "name 'x' is not defined",
     "output_type": "error",
     "traceback": [
      "\u001b[0;31m---------------------------------------------------------------------------\u001b[0m",
      "\u001b[0;31mNameError\u001b[0m                                 Traceback (most recent call last)",
      "\u001b[0;32m/var/folders/y9/7jjg2kks2396zw687mh2t7vc0000gn/T/ipykernel_879/1629993301.py\u001b[0m in \u001b[0;36m<module>\u001b[0;34m\u001b[0m\n\u001b[0;32m----> 1\u001b[0;31m \u001b[0mprint\u001b[0m \u001b[0;34m(\u001b[0m\u001b[0mx\u001b[0m\u001b[0;34m)\u001b[0m\u001b[0;34m\u001b[0m\u001b[0;34m\u001b[0m\u001b[0m\n\u001b[0m",
      "\u001b[0;31mNameError\u001b[0m: name 'x' is not defined"
     ]
    }
   ],
   "source": [
    "print (x)\n"
   ]
  },
  {
   "cell_type": "code",
   "execution_count": 8,
   "id": "8f8fffe3-e2a1-457f-ba0a-647a5f3cdbfe",
   "metadata": {},
   "outputs": [
    {
     "name": "stdout",
     "output_type": "stream",
     "text": [
      "Variable   Type    Data/Info\n",
      "----------------------------\n",
      "y          int     2\n"
     ]
    }
   ],
   "source": [
    "%whos"
   ]
  },
  {
   "cell_type": "code",
   "execution_count": 11,
   "id": "6df708aa-ea46-4e4d-ba1e-afdb58c896f7",
   "metadata": {},
   "outputs": [
    {
     "name": "stdout",
     "output_type": "stream",
     "text": [
      "<class 'int'>\n"
     ]
    }
   ],
   "source": [
    "print(type(y))"
   ]
  },
  {
   "cell_type": "code",
   "execution_count": 12,
   "id": "7c56bdc1-fd6f-4adf-87f4-940de3666367",
   "metadata": {},
   "outputs": [
    {
     "name": "stdout",
     "output_type": "stream",
     "text": [
      "<class 'complex'>\n"
     ]
    }
   ],
   "source": [
    "c = 2 + 4j\n",
    "print(type(c))"
   ]
  },
  {
   "cell_type": "code",
   "execution_count": 13,
   "id": "c2dd5b19-7e94-4113-824f-4895f2be558f",
   "metadata": {},
   "outputs": [
    {
     "name": "stdout",
     "output_type": "stream",
     "text": [
      "<class 'str'>\n"
     ]
    }
   ],
   "source": [
    "s = \"Name\"\n",
    "print(type(s))"
   ]
  },
  {
   "cell_type": "markdown",
   "id": "e03f59b6-3f33-4a06-b175-2e4461e955ca",
   "metadata": {},
   "source": [
    "# Operators\n"
   ]
  },
  {
   "cell_type": "code",
   "execution_count": 14,
   "id": "d221b4af-87fb-4f54-8cac-8325b14590b7",
   "metadata": {},
   "outputs": [
    {
     "name": "stdout",
     "output_type": "stream",
     "text": [
      "Variable   Type       Data/Info\n",
      "-------------------------------\n",
      "c          complex    (2+4j)\n",
      "s          str        Name\n",
      "y          int        2\n"
     ]
    }
   ],
   "source": [
    "%whos"
   ]
  },
  {
   "cell_type": "code",
   "execution_count": 15,
   "id": "43b8ff40-6078-44d2-9d77-3160039008c6",
   "metadata": {},
   "outputs": [
    {
     "name": "stdout",
     "output_type": "stream",
     "text": [
      "3\n",
      "1\n",
      "0.6666666666666666\n",
      "4\n"
     ]
    }
   ],
   "source": [
    "sum = y + 1\n",
    "sub = y - 1\n",
    "div = y/3\n",
    "pow = y**2\n",
    "print(sum)\n",
    "print(sub)\n",
    "print(div)\n",
    "print(pow)"
   ]
  },
  {
   "cell_type": "code",
   "execution_count": 16,
   "id": "03c91300-0cc0-43a3-b4b9-9e98ebed7da3",
   "metadata": {},
   "outputs": [
    {
     "name": "stdout",
     "output_type": "stream",
     "text": [
      "NameLiga\n"
     ]
    }
   ],
   "source": [
    "s1 = s +\"Liga\"\n",
    "print(s1)"
   ]
  },
  {
   "cell_type": "markdown",
   "id": "38b5c921-ddb3-47c4-9016-265b2355e640",
   "metadata": {},
   "source": [
    "BOOL AND COMPARATORS"
   ]
  },
  {
   "cell_type": "code",
   "execution_count": 17,
   "id": "b953cc3f-ff4d-4c59-8acf-c434c3f080f1",
   "metadata": {},
   "outputs": [
    {
     "name": "stdout",
     "output_type": "stream",
     "text": [
      "False\n",
      "False\n",
      "True\n"
     ]
    }
   ],
   "source": [
    "A = True\n",
    "C = False \n",
    "B = True\n",
    "print(not(A))\n",
    "print(A and C)\n",
    "print( A or B)"
   ]
  },
  {
   "cell_type": "code",
   "execution_count": 18,
   "id": "6d2630fc-0772-41b0-8423-7de94e640fc1",
   "metadata": {},
   "outputs": [
    {
     "name": "stdout",
     "output_type": "stream",
     "text": [
      "True False\n"
     ]
    }
   ],
   "source": [
    "c = 2<3\n",
    "d= 3 == 4\n",
    "print(c,d)"
   ]
  },
  {
   "cell_type": "code",
   "execution_count": 19,
   "id": "5634d99c-2b4c-43f6-a295-baf5176d7a89",
   "metadata": {},
   "outputs": [
    {
     "name": "stdout",
     "output_type": "stream",
     "text": [
      "True\n"
     ]
    }
   ],
   "source": [
    "print( 3 == 3.0)"
   ]
  },
  {
   "cell_type": "markdown",
   "id": "0f1bf2fb-4997-4556-9a8f-90732ee44b29",
   "metadata": {},
   "source": [
    "# SOME IMP FUNCTIONS\n"
   ]
  },
  {
   "cell_type": "code",
   "execution_count": 21,
   "id": "fe3ef791-f5d7-4f0a-a9f3-e067f5413a1a",
   "metadata": {},
   "outputs": [
    {
     "name": "stdout",
     "output_type": "stream",
     "text": [
      "1\n"
     ]
    }
   ],
   "source": [
    "print( round(1.23))"
   ]
  },
  {
   "cell_type": "code",
   "execution_count": 22,
   "id": "4fb7fe4f-1ffd-42a0-9457-71f8ec92a823",
   "metadata": {},
   "outputs": [
    {
     "name": "stdout",
     "output_type": "stream",
     "text": [
      "1.23\n"
     ]
    }
   ],
   "source": [
    "print(round(1.234,2))"
   ]
  },
  {
   "cell_type": "code",
   "execution_count": 24,
   "id": "b2c182c9-1511-466e-9da4-af4fdd71adc9",
   "metadata": {},
   "outputs": [
    {
     "name": "stdout",
     "output_type": "stream",
     "text": [
      "(10, 1)\n"
     ]
    }
   ],
   "source": [
    "print(divmod(21,2))"
   ]
  },
  {
   "cell_type": "code",
   "execution_count": 25,
   "id": "2263e9ee-80fc-4e1f-b7fb-83dbf5adb0d8",
   "metadata": {},
   "outputs": [
    {
     "data": {
      "text/plain": [
       "tuple"
      ]
     },
     "execution_count": 25,
     "metadata": {},
     "output_type": "execute_result"
    }
   ],
   "source": [
    "type((10,1))"
   ]
  },
  {
   "cell_type": "code",
   "execution_count": 26,
   "id": "7a691544-00ce-4690-9e1f-bb64eef8a519",
   "metadata": {},
   "outputs": [
    {
     "name": "stdin",
     "output_type": "stream",
     "text": [
      "Enter number : 1\n",
      "Enter string: Lig\n"
     ]
    }
   ],
   "source": [
    "x = input(\"Enter number :\")\n",
    "y = input (\"Enter string:\")"
   ]
  },
  {
   "cell_type": "code",
   "execution_count": 27,
   "id": "807f3c02-05b6-46de-b7f6-db33c8ae93ee",
   "metadata": {},
   "outputs": [
    {
     "name": "stdout",
     "output_type": "stream",
     "text": [
      "1 Lig\n"
     ]
    }
   ],
   "source": [
    "print(x,y)\n"
   ]
  },
  {
   "cell_type": "code",
   "execution_count": 30,
   "id": "e8978790-a52b-45c5-9db5-5071fb3b0f30",
   "metadata": {},
   "outputs": [
    {
     "name": "stdin",
     "output_type": "stream",
     "text": [
      "Enter : 12\n"
     ]
    }
   ],
   "source": [
    "y = str(input(\"Enter :\"))"
   ]
  },
  {
   "cell_type": "code",
   "execution_count": 32,
   "id": "77a8cfbe-ac3a-41b6-b934-d40ad4e7350a",
   "metadata": {},
   "outputs": [
    {
     "name": "stdout",
     "output_type": "stream",
     "text": [
      "12liga\n"
     ]
    }
   ],
   "source": [
    "print(y + \"liga\")"
   ]
  },
  {
   "cell_type": "markdown",
   "id": "45618c77-5ee3-4db2-9bee-4205933b0148",
   "metadata": {},
   "source": [
    "# CONTROL FLOW\n"
   ]
  },
  {
   "cell_type": "code",
   "execution_count": 33,
   "id": "11081893-364e-4675-8ed8-50500f7620dc",
   "metadata": {},
   "outputs": [
    {
     "name": "stdin",
     "output_type": "stream",
     "text": [
      "Enter no1 : 12\n",
      "Enter no2 : 13\n"
     ]
    },
    {
     "name": "stdout",
     "output_type": "stream",
     "text": [
      " a is less than b\n"
     ]
    }
   ],
   "source": [
    "a = float(input(\"Enter no1 :\"))\n",
    "b = float(input(\"Enter no2 :\"))\n",
    "if a > b:\n",
    "    print(\"a is greater than b\")\n",
    "elif a == b :\n",
    "    print (\" a is equal to b\")\n",
    "else :\n",
    "    print(\" a is less than b\")"
   ]
  },
  {
   "cell_type": "code",
   "execution_count": 35,
   "id": "26eeafe2-7d88-4afd-857e-8988bb776c00",
   "metadata": {},
   "outputs": [
    {
     "name": "stdout",
     "output_type": "stream",
     "text": [
      "Still inside loop\n",
      "Still inside loop\n",
      "Still inside loop\n",
      "Break\n",
      "Done\n"
     ]
    }
   ],
   "source": [
    "i = 1\n",
    "while True : \n",
    "    if i%4 == 0 :\n",
    "        print(\"Break\")\n",
    "        break\n",
    "    else :\n",
    "        i += 1\n",
    "    print(\"Still inside loop\")\n",
    "print(\"Done\")\n",
    "        "
   ]
  },
  {
   "cell_type": "code",
   "execution_count": 39,
   "id": "d42bafbc-8565-4155-9315-50b89ededaa5",
   "metadata": {},
   "outputs": [
    {
     "name": "stdout",
     "output_type": "stream",
     "text": [
      "20\n",
      "BANANA\n",
      "APPLE\n",
      "Loop ended\n"
     ]
    }
   ],
   "source": [
    "S = { \"APPLE\", 20,\"BANANA\"}\n",
    "for x in S :\n",
    "     print(x,sep = \",\")\n",
    "print(\"Loop ended\")"
   ]
  },
  {
   "cell_type": "code",
   "execution_count": 40,
   "id": "622c3eeb-b97b-44ae-b71f-412eeeb762f9",
   "metadata": {},
   "outputs": [
    {
     "name": "stdout",
     "output_type": "stream",
     "text": [
      "APPLE  44\n",
      "BANANA  12\n"
     ]
    }
   ],
   "source": [
    "D = { \"APPLE \" : 44,\"BANANA \" : 12}\n",
    "for x in D:\n",
    "    print ( x , D[x])"
   ]
  },
  {
   "cell_type": "code",
   "execution_count": 48,
   "id": "3bab01c5-df37-40a8-bddc-234dcc060080",
   "metadata": {},
   "outputs": [
    {
     "name": "stdout",
     "output_type": "stream",
     "text": [
      "[1, 1, 4, 4, 4]\n"
     ]
    }
   ],
   "source": [
    "L = [ 1,6,5,4,3]\n",
    "for j in range(len(L)):\n",
    "    m = L[j]\n",
    "    i = j\n",
    "    c = j\n",
    "    for i in range(j,len(L)):\n",
    "        if L[i] < m:\n",
    "            m = L[i]\n",
    "            i = c\n",
    "        c += 1\n",
    "    tmp = L[j]\n",
    "    L[j] = m\n",
    "    L[i] = tmp\n",
    "print(L)"
   ]
  },
  {
   "cell_type": "markdown",
   "id": "f64d3c16-aeb6-4ffe-9172-f40ce235a18d",
   "metadata": {},
   "source": [
    "## FUNCTIONS\n"
   ]
  },
  {
   "cell_type": "code",
   "execution_count": 5,
   "id": "8f62838c-f0dd-4ced-83e1-095b57cf0a41",
   "metadata": {},
   "outputs": [],
   "source": [
    "def prisuc2():\n",
    "    \"\"\" this function prints hellow\"\"\"\n",
    "    print(\"hellow\")"
   ]
  },
  {
   "cell_type": "code",
   "execution_count": 6,
   "id": "db86a013-beb1-405f-9c17-e096a5431489",
   "metadata": {},
   "outputs": [
    {
     "name": "stdout",
     "output_type": "stream",
     "text": [
      "hellow\n"
     ]
    }
   ],
   "source": [
    "prisuc2()"
   ]
  },
  {
   "cell_type": "code",
   "execution_count": 8,
   "id": "e3914694-5125-4985-9132-ceda05091aff",
   "metadata": {},
   "outputs": [
    {
     "data": {
      "text/plain": [
       "\u001b[0;31mSignature:\u001b[0m \u001b[0mprisuc2\u001b[0m\u001b[0;34m(\u001b[0m\u001b[0;34m)\u001b[0m\u001b[0;34m\u001b[0m\u001b[0;34m\u001b[0m\u001b[0m\n",
       "\u001b[0;31mDocstring:\u001b[0m this function prints hellow\n",
       "\u001b[0;31mFile:\u001b[0m      /var/folders/y9/7jjg2kks2396zw687mh2t7vc0000gn/T/ipykernel_794/3426281411.py\n",
       "\u001b[0;31mType:\u001b[0m      function\n"
      ]
     },
     "metadata": {},
     "output_type": "display_data"
    }
   ],
   "source": [
    "prisuc2?\n"
   ]
  },
  {
   "cell_type": "code",
   "execution_count": 9,
   "id": "276e2ce4-9f4e-4265-ab9a-b68911cda3d4",
   "metadata": {},
   "outputs": [
    {
     "data": {
      "text/plain": [
       "\u001b[0;31mSignature:\u001b[0m \u001b[0mlen\u001b[0m\u001b[0;34m(\u001b[0m\u001b[0mobj\u001b[0m\u001b[0;34m,\u001b[0m \u001b[0;34m/\u001b[0m\u001b[0;34m)\u001b[0m\u001b[0;34m\u001b[0m\u001b[0;34m\u001b[0m\u001b[0m\n",
       "\u001b[0;31mDocstring:\u001b[0m Return the number of items in a container.\n",
       "\u001b[0;31mType:\u001b[0m      builtin_function_or_method\n"
      ]
     },
     "metadata": {},
     "output_type": "display_data"
    }
   ],
   "source": [
    "len?"
   ]
  },
  {
   "cell_type": "code",
   "execution_count": 10,
   "id": "29934489-397c-4e6c-8497-a0b90e94e8b4",
   "metadata": {},
   "outputs": [],
   "source": [
    "def checkArgs(a,b,c):\n",
    "    if isinstance(a,(int,float)) and isinstance(b,(int,float)) and  isinstance(c,(int,float)) :\n",
    "        print((a + b+c)**2)\n",
    "    else :\n",
    "        print(\"nO\")\n",
    "    "
   ]
  },
  {
   "cell_type": "code",
   "execution_count": 11,
   "id": "67807e4d-170d-417d-a764-8f48073efacc",
   "metadata": {},
   "outputs": [
    {
     "name": "stdout",
     "output_type": "stream",
     "text": [
      "36\n"
     ]
    }
   ],
   "source": [
    "checkArgs(1,2,3)"
   ]
  },
  {
   "cell_type": "code",
   "execution_count": 13,
   "id": "1cb98f7f-5fe7-4d12-9fa8-a0092a29ad06",
   "metadata": {},
   "outputs": [
    {
     "name": "stdout",
     "output_type": "stream",
     "text": [
      "nO\n"
     ]
    }
   ],
   "source": [
    "checkArgs(1,2,\"a\")"
   ]
  },
  {
   "cell_type": "code",
   "execution_count": 14,
   "id": "7ce9fd33-4e92-411b-a56f-97ccfff10d36",
   "metadata": {},
   "outputs": [],
   "source": [
    "def sum(a,b):\n",
    "    sums = a + b\n",
    "    return sums\n"
   ]
  },
  {
   "cell_type": "code",
   "execution_count": 15,
   "id": "9ddb8591-b688-4510-8716-2ec211bf797a",
   "metadata": {},
   "outputs": [
    {
     "data": {
      "text/plain": [
       "3"
      ]
     },
     "execution_count": 15,
     "metadata": {},
     "output_type": "execute_result"
    }
   ],
   "source": [
    "sum(1,2)"
   ]
  },
  {
   "cell_type": "code",
   "execution_count": 24,
   "id": "6361c33c-ce6a-4fca-95e2-8c852260bb08",
   "metadata": {},
   "outputs": [],
   "source": [
    "# for variable no of arguments\n",
    "def add(*args):\n",
    "    sum = 0 \n",
    "    for i in range(len(args)):\n",
    "        sum = sum + args[i]\n",
    "    return sum\n",
    "    "
   ]
  },
  {
   "cell_type": "code",
   "execution_count": 25,
   "id": "c1b87ce0-678c-49f1-84c7-48c1040edcde",
   "metadata": {},
   "outputs": [
    {
     "data": {
      "text/plain": [
       "10"
      ]
     },
     "execution_count": 25,
     "metadata": {},
     "output_type": "execute_result"
    }
   ],
   "source": [
    "add(1,2,3,4)"
   ]
  },
  {
   "cell_type": "code",
   "execution_count": 26,
   "id": "56949dc8-3109-4e3a-915b-1724638a9907",
   "metadata": {},
   "outputs": [
    {
     "data": {
      "text/plain": [
       "14"
      ]
     },
     "execution_count": 26,
     "metadata": {},
     "output_type": "execute_result"
    }
   ],
   "source": [
    "add(9,5)"
   ]
  },
  {
   "cell_type": "code",
   "execution_count": 28,
   "id": "06c3a3ff-50bc-4396-9afd-3bb1ef41fc7a",
   "metadata": {},
   "outputs": [],
   "source": [
    "# variable no of arguments but in order\n",
    "def f(**c):   #double star indicates key value list\n",
    "    for x in c:\n",
    "        print(x,c[x])\n",
    "        "
   ]
  },
  {
   "cell_type": "code",
   "execution_count": 30,
   "id": "0c5c02a0-d182-483a-8065-39802db03a7e",
   "metadata": {},
   "outputs": [
    {
     "name": "stdout",
     "output_type": "stream",
     "text": [
      "a 1\n",
      "b 2\n"
     ]
    }
   ],
   "source": [
    "f(a = 1, b = 2) #generates a dictionary"
   ]
  },
  {
   "cell_type": "code",
   "execution_count": 32,
   "id": "5654047e-21e3-4dd9-9991-3795bd57b19b",
   "metadata": {},
   "outputs": [],
   "source": [
    "#default values \n",
    "def sum ( a, b = 2):\n",
    "    print(a+b)\n",
    "    "
   ]
  },
  {
   "cell_type": "code",
   "execution_count": 33,
   "id": "f11b8921-1989-4ccf-b68a-bf80904018e9",
   "metadata": {},
   "outputs": [
    {
     "name": "stdout",
     "output_type": "stream",
     "text": [
      "3\n",
      "5\n"
     ]
    }
   ],
   "source": [
    "sum(1,) # b automically becomes 2\n",
    "sum(2,3)"
   ]
  },
  {
   "cell_type": "code",
   "execution_count": 6,
   "id": "811e7505-5dd7-4235-8b90-9d50461b4942",
   "metadata": {},
   "outputs": [
    {
     "data": {
      "text/plain": [
       "'I know how to interact with the docstrings of a function.'"
      ]
     },
     "execution_count": 6,
     "metadata": {},
     "output_type": "execute_result"
    }
   ],
   "source": [
    "def fun_docs():\n",
    "    \"\"\"I know how to interact with the docstrings of a function.\"\"\"\n",
    "    \n",
    "    return None\n",
    "\n",
    "fun_docs.__doc__"
   ]
  },
  {
   "cell_type": "markdown",
   "id": "8f67f1b9-7205-4f53-8ae9-a8f71bb20f56",
   "metadata": {},
   "source": [
    "# MODULES"
   ]
  },
  {
   "cell_type": "code",
   "execution_count": 35,
   "id": "2b64ec88-1349-4012-9d9b-ce52328f4ff6",
   "metadata": {},
   "outputs": [
    {
     "ename": "ModuleNotFoundError",
     "evalue": "No module named 'myuniversalFUNC'",
     "output_type": "error",
     "traceback": [
      "\u001b[0;31m---------------------------------------------------------------------------\u001b[0m",
      "\u001b[0;31mModuleNotFoundError\u001b[0m                       Traceback (most recent call last)",
      "\u001b[0;32m/var/folders/y9/7jjg2kks2396zw687mh2t7vc0000gn/T/ipykernel_794/2549638512.py\u001b[0m in \u001b[0;36m<module>\u001b[0;34m\u001b[0m\n\u001b[1;32m      1\u001b[0m \u001b[0;32mimport\u001b[0m \u001b[0msys\u001b[0m\u001b[0;34m\u001b[0m\u001b[0;34m\u001b[0m\u001b[0m\n\u001b[1;32m      2\u001b[0m \u001b[0msys\u001b[0m\u001b[0;34m.\u001b[0m\u001b[0mpath\u001b[0m\u001b[0;34m.\u001b[0m\u001b[0mappend\u001b[0m\u001b[0;34m(\u001b[0m\u001b[0;34m'C:/py/'\u001b[0m\u001b[0;34m)\u001b[0m\u001b[0;34m\u001b[0m\u001b[0;34m\u001b[0m\u001b[0m\n\u001b[0;32m----> 3\u001b[0;31m \u001b[0;32mimport\u001b[0m \u001b[0mmyuniversalFUNC\u001b[0m  \u001b[0;32mas\u001b[0m \u001b[0mfu\u001b[0m\u001b[0;34m\u001b[0m\u001b[0;34m\u001b[0m\u001b[0m\n\u001b[0m",
      "\u001b[0;31mModuleNotFoundError\u001b[0m: No module named 'myuniversalFUNC'"
     ]
    }
   ],
   "source": [
    "import sys\n",
    "sys.path.append('C:/py/')\n",
    "import myuniversalFUNC  as fu"
   ]
  },
  {
   "cell_type": "markdown",
   "id": "73ad50d4-6689-4c99-9df5-21a99bd16752",
   "metadata": {},
   "source": [
    "# STRING\n"
   ]
  },
  {
   "cell_type": "code",
   "execution_count": 38,
   "id": "c665256b-d9e7-420c-a6af-a2409208fe89",
   "metadata": {},
   "outputs": [
    {
     "name": "stdout",
     "output_type": "stream",
     "text": [
      "NAME 12\n"
     ]
    }
   ],
   "source": [
    "S = \"NAME\"\n",
    "print(S,12)"
   ]
  },
  {
   "cell_type": "code",
   "execution_count": 41,
   "id": "a62c99e9-b739-4567-99b8-ae20cfcaf3f0",
   "metadata": {},
   "outputs": [
    {
     "name": "stdout",
     "output_type": "stream",
     "text": [
      "The price of this bookis: 20\n"
     ]
    }
   ],
   "source": [
    "price = 20\n",
    "s = \"The price of this book\"\n",
    "v = s + \"is: \" + str( price)\n",
    "print(v)"
   ]
  },
  {
   "cell_type": "code",
   "execution_count": 42,
   "id": "e96a2bfa-1258-4443-9f99-49369e24502a",
   "metadata": {},
   "outputs": [
    {
     "name": "stdout",
     "output_type": "stream",
     "text": [
      " line 1\n",
      "   line 2 \n",
      "   line 3 \n"
     ]
    }
   ],
   "source": [
    "#multiline string\n",
    "a = \"\"\" line 1\n",
    "   line 2 \n",
    "   line 3 \"\"\"\n",
    "print(a)"
   ]
  },
  {
   "cell_type": "code",
   "execution_count": 46,
   "id": "a44fa34c-d4a8-4463-8ef7-a0014a5d7e60",
   "metadata": {},
   "outputs": [
    {
     "name": "stdout",
     "output_type": "stream",
     "text": [
      "MERI\n"
     ]
    }
   ],
   "source": [
    "a = \"AMERICA\"\n",
    "print(a[1:5])"
   ]
  },
  {
   "cell_type": "code",
   "execution_count": 49,
   "id": "5781dcfc-723f-43df-a94a-37a9c7056821",
   "metadata": {},
   "outputs": [
    {
     "name": "stdout",
     "output_type": "stream",
     "text": [
      "ICA\n"
     ]
    }
   ],
   "source": [
    "print(a[-3 :])"
   ]
  },
  {
   "cell_type": "code",
   "execution_count": 51,
   "id": "917df142-f97d-4539-bd8a-88646e8c0bfc",
   "metadata": {},
   "outputs": [
    {
     "name": "stdout",
     "output_type": "stream",
     "text": [
      "Banan na\n"
     ]
    }
   ],
   "source": [
    "b = \"    Banan na    \"\n",
    "print(b.strip())"
   ]
  },
  {
   "cell_type": "code",
   "execution_count": 52,
   "id": "b7ac3e1b-a42b-4ee4-a0d9-4f55a125a404",
   "metadata": {},
   "outputs": [
    {
     "name": "stdout",
     "output_type": "stream",
     "text": [
      "    banan na    \n"
     ]
    }
   ],
   "source": [
    "print(b.lower())"
   ]
  },
  {
   "cell_type": "code",
   "execution_count": 53,
   "id": "405ade25-76cc-4d02-b5f7-69914806d867",
   "metadata": {},
   "outputs": [
    {
     "name": "stdout",
     "output_type": "stream",
     "text": [
      "    BANAN NA    \n"
     ]
    }
   ],
   "source": [
    "print(b.upper())"
   ]
  },
  {
   "cell_type": "code",
   "execution_count": 54,
   "id": "15cfbf3c-166d-4d7e-9031-6ad402b1f145",
   "metadata": {},
   "outputs": [
    {
     "name": "stdout",
     "output_type": "stream",
     "text": [
      "    tanan na    \n"
     ]
    }
   ],
   "source": [
    "print(b.replace(\"B\", \"t\"))"
   ]
  },
  {
   "cell_type": "code",
   "execution_count": 55,
   "id": "42fc491e-bf4f-43cf-ae8d-1da32da1e170",
   "metadata": {},
   "outputs": [
    {
     "name": "stdout",
     "output_type": "stream",
     "text": [
      "    banan na    \n"
     ]
    }
   ],
   "source": [
    "print(b.capitalize())"
   ]
  },
  {
   "cell_type": "markdown",
   "id": "002f325b-cbec-45e6-9830-27bbf4562abe",
   "metadata": {},
   "source": [
    "# OTHER DATA STRUCTURES\n"
   ]
  },
  {
   "cell_type": "code",
   "execution_count": 1,
   "id": "dd78e384-6169-4906-bf84-bafe6e4736e8",
   "metadata": {},
   "outputs": [],
   "source": [
    "#LISTS\n",
    "L = [1,2,3.6,\"NAME\",4]\n",
    "#TUPLE similiar to lists but not mutable(cant change)\n",
    "T =  (1,3,4,5.6,\"name\")\n",
    "#SET no duplicates allowed\n",
    "S = { 1,2,3,\"NAME\",3}\n",
    "#DICTIONARY key and value\n",
    "D = { 2 : \"TWO\" , \"tHREE\" : 23, \"c\" : \"car\" }\n"
   ]
  },
  {
   "cell_type": "code",
   "execution_count": 2,
   "id": "5e6cfc7b-c522-4528-980e-1a50726fa5ba",
   "metadata": {},
   "outputs": [
    {
     "name": "stdout",
     "output_type": "stream",
     "text": [
      "2\n",
      "3\n",
      "True\n",
      "23\n"
     ]
    }
   ],
   "source": [
    "print(L[1])\n",
    "print(T[1])\n",
    "print(3 in S)\n",
    "print(D[\"tHREE\"])"
   ]
  },
  {
   "cell_type": "code",
   "execution_count": 3,
   "id": "e0c70402-506e-4657-a766-5376c5e919a7",
   "metadata": {},
   "outputs": [
    {
     "data": {
      "text/plain": [
       "{1, 2, 3, 'NAME'}"
      ]
     },
     "execution_count": 3,
     "metadata": {},
     "output_type": "execute_result"
    }
   ],
   "source": [
    "S"
   ]
  },
  {
   "cell_type": "code",
   "execution_count": 4,
   "id": "1f853e32-c811-4997-b755-7793a2644613",
   "metadata": {},
   "outputs": [
    {
     "data": {
      "text/plain": [
       "[1, 2, 3.6, 'NAME', 4]"
      ]
     },
     "execution_count": 4,
     "metadata": {},
     "output_type": "execute_result"
    }
   ],
   "source": [
    "L\n"
   ]
  },
  {
   "cell_type": "code",
   "execution_count": 5,
   "id": "42a7caa6-59bf-4707-98ad-baf9f5d89453",
   "metadata": {},
   "outputs": [
    {
     "data": {
      "text/plain": [
       "[2]"
      ]
     },
     "execution_count": 5,
     "metadata": {},
     "output_type": "execute_result"
    }
   ],
   "source": [
    "L[1:2]\n"
   ]
  },
  {
   "cell_type": "code",
   "execution_count": 6,
   "id": "4012650c-c680-4cc5-8ee5-7248016ef11a",
   "metadata": {},
   "outputs": [
    {
     "data": {
      "text/plain": [
       "[4, 'NAME', 3.6, 2, 1]"
      ]
     },
     "execution_count": 6,
     "metadata": {},
     "output_type": "execute_result"
    }
   ],
   "source": [
    "L[::-1]"
   ]
  },
  {
   "cell_type": "code",
   "execution_count": 7,
   "id": "cfa2c621-c795-4c6f-8110-e609e6339394",
   "metadata": {},
   "outputs": [
    {
     "data": {
      "text/plain": [
       "(1, 3, 4)"
      ]
     },
     "execution_count": 7,
     "metadata": {},
     "output_type": "execute_result"
    }
   ],
   "source": [
    "T[:3]"
   ]
  },
  {
   "cell_type": "code",
   "execution_count": 9,
   "id": "d8479849-20da-4892-bacc-83c7ae94c828",
   "metadata": {},
   "outputs": [
    {
     "data": {
      "text/plain": [
       "[1, 2, 3.6, 'NAME', 4, 8.9, 8.9]"
      ]
     },
     "execution_count": 9,
     "metadata": {},
     "output_type": "execute_result"
    }
   ],
   "source": [
    "# CAN ADD TWO LISTS , TUPLES \n",
    "# U CANNOT APPEND IN TUPLE\n",
    "L.append(8.9)\n",
    "L"
   ]
  },
  {
   "cell_type": "code",
   "execution_count": 14,
   "id": "dcb20f5c-3a82-44df-9af7-5f083f4dde8e",
   "metadata": {},
   "outputs": [
    {
     "data": {
      "text/plain": [
       "{1, 2, 23, 3, 'NAME', 'a', 'e', 'g', 'game', 'm'}"
      ]
     },
     "execution_count": 14,
     "metadata": {},
     "output_type": "execute_result"
    }
   ],
   "source": [
    "S.update({23, \"game\", 1})\n",
    "S"
   ]
  },
  {
   "cell_type": "code",
   "execution_count": 19,
   "id": "caec8e20-f63f-4f3e-8534-7e40adf0515a",
   "metadata": {},
   "outputs": [
    {
     "data": {
      "text/plain": [
       "[1, 2, 3.6, 4, 8.9, 8.9]"
      ]
     },
     "execution_count": 19,
     "metadata": {},
     "output_type": "execute_result"
    }
   ],
   "source": [
    "del L[3]\n",
    "L"
   ]
  },
  {
   "cell_type": "code",
   "execution_count": 20,
   "id": "bd3e7ebe-29d4-4a0e-a175-1d964bc7525c",
   "metadata": {},
   "outputs": [
    {
     "data": {
      "text/plain": [
       "{1, 2, 23, 3, 'NAME', 'a', 'e', 'g', 'm'}"
      ]
     },
     "execution_count": 20,
     "metadata": {},
     "output_type": "execute_result"
    }
   ],
   "source": [
    "S.remove(\"game\")\n",
    "S"
   ]
  },
  {
   "cell_type": "code",
   "execution_count": 17,
   "id": "33ec5647-7dbf-4be6-9905-a9b6ec6d4be8",
   "metadata": {},
   "outputs": [
    {
     "data": {
      "text/plain": [
       "{2: 'TWO', 'tHREE': 23, 'c': 'car', 'NEWKEY': 23}"
      ]
     },
     "execution_count": 17,
     "metadata": {},
     "output_type": "execute_result"
    }
   ],
   "source": [
    "D[\"NEWKEY\"] = 23\n",
    "D"
   ]
  },
  {
   "cell_type": "code",
   "execution_count": 25,
   "id": "22e450fa-c887-4792-9200-9afa64bad3d1",
   "metadata": {},
   "outputs": [
    {
     "data": {
      "text/plain": [
       "{2: 'TWO', 'tHREE': 23, 'c': 'car', 'NEWKEY': 23, 'X': 'x', 'Y': 23}"
      ]
     },
     "execution_count": 25,
     "metadata": {},
     "output_type": "execute_result"
    }
   ],
   "source": [
    "D2 = { \"X\" : \"x\" , \"Y\" : 23}\n",
    "D.update(D2)\n",
    "D"
   ]
  },
  {
   "cell_type": "code",
   "execution_count": 26,
   "id": "6dbd41d0-126b-4db1-afc5-95e3728917ca",
   "metadata": {},
   "outputs": [
    {
     "data": {
      "text/plain": [
       "[1, 2, 3.6, 4, 8.9, 8.9]"
      ]
     },
     "execution_count": 26,
     "metadata": {},
     "output_type": "execute_result"
    }
   ],
   "source": [
    "L"
   ]
  },
  {
   "cell_type": "code",
   "execution_count": 5,
   "id": "d9a83aa5-cde3-4df6-b77a-48b30d506739",
   "metadata": {},
   "outputs": [
    {
     "data": {
      "text/plain": [
       "['Mitsubishi', 'Ford', 'BMW', 'VW']"
      ]
     },
     "execution_count": 5,
     "metadata": {},
     "output_type": "execute_result"
    }
   ],
   "source": [
    "def myFunc(e):\n",
    "    return len(e)\n",
    "\n",
    "cars = ['Ford', 'Mitsubishi', 'BMW', 'VW']\n",
    "\n",
    "cars.sort(reverse= True,key=myFunc)\n",
    "cars"
   ]
  },
  {
   "cell_type": "code",
   "execution_count": 27,
   "id": "ecc1a830-dde5-4df8-8390-7c5851bc6fe0",
   "metadata": {},
   "outputs": [
    {
     "data": {
      "text/plain": [
       "[1, 2, 3.6, 4, 8.9, 8.9]"
      ]
     },
     "execution_count": 27,
     "metadata": {},
     "output_type": "execute_result"
    }
   ],
   "source": [
    "L2 = L\n",
    "L2"
   ]
  },
  {
   "cell_type": "code",
   "execution_count": 28,
   "id": "7d34e366-f354-45ff-8315-7e1f8f71ba02",
   "metadata": {},
   "outputs": [
    {
     "data": {
      "text/plain": [
       "[1, 2, 22, 4, 8.9, 8.9]"
      ]
     },
     "execution_count": 28,
     "metadata": {},
     "output_type": "execute_result"
    }
   ],
   "source": [
    "L2[2] = 22\n",
    "L2"
   ]
  },
  {
   "cell_type": "code",
   "execution_count": 29,
   "id": "b6a49401-7a14-4116-885b-f8fca7661eec",
   "metadata": {},
   "outputs": [
    {
     "data": {
      "text/plain": [
       "[1, 2, 22, 4, 8.9, 8.9]"
      ]
     },
     "execution_count": 29,
     "metadata": {},
     "output_type": "execute_result"
    }
   ],
   "source": [
    "L\n",
    "# Change happens in both L2 and L"
   ]
  },
  {
   "cell_type": "code",
   "execution_count": 30,
   "id": "8386d97d-9f45-40f6-927b-8f5eb3fe369d",
   "metadata": {},
   "outputs": [
    {
     "data": {
      "text/plain": [
       "[1, 2, 2, 4, 8.9, 8.9]"
      ]
     },
     "execution_count": 30,
     "metadata": {},
     "output_type": "execute_result"
    }
   ],
   "source": [
    "L2 = L.copy()\n",
    "L2[2] = 2\n",
    "L2\n",
    "#Same concept in set and dictionaries"
   ]
  },
  {
   "cell_type": "code",
   "execution_count": 31,
   "id": "78edba1a-d36f-4ed3-a9cb-799e5c9e0c3e",
   "metadata": {},
   "outputs": [
    {
     "data": {
      "text/plain": [
       "[1, 2, 22, 4, 8.9, 8.9]"
      ]
     },
     "execution_count": 31,
     "metadata": {},
     "output_type": "execute_result"
    }
   ],
   "source": [
    "L"
   ]
  },
  {
   "cell_type": "code",
   "execution_count": 32,
   "id": "16917d3d-485e-4c52-9243-803c98438df1",
   "metadata": {},
   "outputs": [],
   "source": [
    "#for functions tap TAB"
   ]
  },
  {
   "cell_type": "markdown",
   "id": "7cb0b021-9a28-43e8-972c-e448aca6cba4",
   "metadata": {},
   "source": [
    "## OOP"
   ]
  },
  {
   "cell_type": "code",
   "execution_count": 5,
   "id": "2efa1932-3d00-46f5-88e6-83d0d4fdf11c",
   "metadata": {},
   "outputs": [
    {
     "name": "stdout",
     "output_type": "stream",
     "text": [
      "Natural entity in the observable universe.\n"
     ]
    }
   ],
   "source": [
    "#Complete the code to return the output\n",
    "class AstroBody:\n",
    "    description = 'Natural entity in the observable universe.'    \n",
    "\n",
    "class Star(AstroBody):\n",
    "    pass\n",
    "\n",
    "sun = Star()\n",
    "print(sun.description)"
   ]
  },
  {
   "cell_type": "code",
   "execution_count": 7,
   "id": "e0b52ce5-5f32-40e9-95b0-142bc75c2ade",
   "metadata": {},
   "outputs": [
    {
     "data": {
      "text/plain": [
       "{'a': 1, 'b': 2}"
      ]
     },
     "execution_count": 7,
     "metadata": {},
     "output_type": "execute_result"
    }
   ],
   "source": [
    "def make_dict(**kwargs):\n",
    "    return kwargs\n",
    "\n",
    "make_dict(a = 1, b = 2)\n"
   ]
  },
  {
   "cell_type": "code",
   "execution_count": 8,
   "id": "100a8fb5-2362-47f2-aefe-5bed75384701",
   "metadata": {},
   "outputs": [
    {
     "data": {
      "text/plain": [
       "'p'"
      ]
     },
     "execution_count": 8,
     "metadata": {},
     "output_type": "execute_result"
    }
   ],
   "source": [
    "w = 'python'\n",
    "\n",
    "w_iterator = iter(w)\n",
    "\n",
    "next(w_iterator)"
   ]
  },
  {
   "cell_type": "code",
   "execution_count": 9,
   "id": "c776a6ad-0289-4826-bc2b-0e1d59313110",
   "metadata": {},
   "outputs": [
    {
     "data": {
      "text/plain": [
       "9"
      ]
     },
     "execution_count": 9,
     "metadata": {},
     "output_type": "execute_result"
    }
   ],
   "source": [
    "f = lambda x, y: x * y\n",
    "\n",
    "f(3,3)"
   ]
  },
  {
   "cell_type": "code",
   "execution_count": 10,
   "id": "348b899b-ea41-4eff-8830-df11e04dfc9e",
   "metadata": {},
   "outputs": [
    {
     "data": {
      "text/plain": [
       "{3, 4}"
      ]
     },
     "execution_count": 10,
     "metadata": {},
     "output_type": "execute_result"
    }
   ],
   "source": [
    "a = {1, 2, 3, 4}\n",
    "b = {3, 4, 5, 6}\n",
    "\n",
    "a.intersection(b)"
   ]
  },
  {
   "cell_type": "code",
   "execution_count": null,
   "id": "8bf2e1b6-d027-4896-a15e-9502154cd02d",
   "metadata": {},
   "outputs": [],
   "source": []
  }
 ],
 "metadata": {
  "kernelspec": {
   "display_name": "Python 3 (ipykernel)",
   "language": "python",
   "name": "python3"
  },
  "language_info": {
   "codemirror_mode": {
    "name": "ipython",
    "version": 3
   },
   "file_extension": ".py",
   "mimetype": "text/x-python",
   "name": "python",
   "nbconvert_exporter": "python",
   "pygments_lexer": "ipython3",
   "version": "3.9.7"
  }
 },
 "nbformat": 4,
 "nbformat_minor": 5
}
