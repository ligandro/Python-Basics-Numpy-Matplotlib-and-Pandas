{
 "cells": [
  {
   "cell_type": "markdown",
   "id": "d0f2e471",
   "metadata": {},
   "source": [
    "NUMPY"
   ]
  },
  {
   "cell_type": "code",
   "execution_count": 2,
   "id": "0ed86bb3",
   "metadata": {},
   "outputs": [],
   "source": [
    "#list with same type of elements\n"
   ]
  },
  {
   "cell_type": "code",
   "execution_count": 3,
   "id": "4ec2a007",
   "metadata": {},
   "outputs": [
    {
     "name": "stdout",
     "output_type": "stream",
     "text": [
      "[1 2 3 4 5]\n"
     ]
    }
   ],
   "source": [
    "import numpy as np\n",
    "a = np.array([1,2,3,4,5])\n",
    "print(a)"
   ]
  },
  {
   "cell_type": "code",
   "execution_count": 4,
   "id": "9f1b9dfa",
   "metadata": {},
   "outputs": [
    {
     "data": {
      "text/plain": [
       "numpy.ndarray"
      ]
     },
     "execution_count": 4,
     "metadata": {},
     "output_type": "execute_result"
    }
   ],
   "source": [
    "type(a)"
   ]
  },
  {
   "cell_type": "code",
   "execution_count": 5,
   "id": "f24c3cc2",
   "metadata": {},
   "outputs": [
    {
     "data": {
      "text/plain": [
       "dtype('int64')"
      ]
     },
     "execution_count": 5,
     "metadata": {},
     "output_type": "execute_result"
    }
   ],
   "source": [
    "a.dtype"
   ]
  },
  {
   "cell_type": "code",
   "execution_count": 6,
   "id": "eb387688",
   "metadata": {},
   "outputs": [
    {
     "data": {
      "text/plain": [
       "dtype('float32')"
      ]
     },
     "execution_count": 6,
     "metadata": {},
     "output_type": "execute_result"
    }
   ],
   "source": [
    " a = np.array([1,2,3,4,5], dtype = 'f')\n",
    "a.dtype"
   ]
  },
  {
   "cell_type": "code",
   "execution_count": 7,
   "id": "9da640d3",
   "metadata": {},
   "outputs": [
    {
     "data": {
      "text/plain": [
       "2"
      ]
     },
     "execution_count": 7,
     "metadata": {},
     "output_type": "execute_result"
    }
   ],
   "source": [
    "\n",
    "a = np.array([[1,2,3],[4,5,6]])\n",
    "a.ndim"
   ]
  },
  {
   "cell_type": "code",
   "execution_count": 8,
   "id": "75ae3679",
   "metadata": {},
   "outputs": [
    {
     "data": {
      "text/plain": [
       "3"
      ]
     },
     "execution_count": 8,
     "metadata": {},
     "output_type": "execute_result"
    }
   ],
   "source": [
    "a[0,2]"
   ]
  },
  {
   "cell_type": "code",
   "execution_count": 9,
   "id": "f908ae7a",
   "metadata": {},
   "outputs": [],
   "source": [
    "b = np.array([[[1,2,3],[4,5,6]],[[-4,-5,-6], [-7,-8,-9]]] )"
   ]
  },
  {
   "cell_type": "code",
   "execution_count": 10,
   "id": "cd08f3e4",
   "metadata": {},
   "outputs": [
    {
     "data": {
      "text/plain": [
       "3"
      ]
     },
     "execution_count": 10,
     "metadata": {},
     "output_type": "execute_result"
    }
   ],
   "source": [
    "b.ndim"
   ]
  },
  {
   "cell_type": "code",
   "execution_count": 11,
   "id": "0620fc84",
   "metadata": {},
   "outputs": [
    {
     "data": {
      "text/plain": [
       "-4"
      ]
     },
     "execution_count": 11,
     "metadata": {},
     "output_type": "execute_result"
    }
   ],
   "source": [
    "b[1,0,0]"
   ]
  },
  {
   "cell_type": "code",
   "execution_count": 12,
   "id": "3487cf11",
   "metadata": {},
   "outputs": [
    {
     "data": {
      "text/plain": [
       "(2, 2, 3)"
      ]
     },
     "execution_count": 12,
     "metadata": {},
     "output_type": "execute_result"
    }
   ],
   "source": [
    "b.shape"
   ]
  },
  {
   "cell_type": "code",
   "execution_count": 13,
   "id": "8d5c9d29",
   "metadata": {},
   "outputs": [
    {
     "data": {
      "text/plain": [
       "3"
      ]
     },
     "execution_count": 13,
     "metadata": {},
     "output_type": "execute_result"
    }
   ],
   "source": [
    "b.shape[2]"
   ]
  },
  {
   "cell_type": "code",
   "execution_count": 14,
   "id": "23ffec24",
   "metadata": {},
   "outputs": [
    {
     "data": {
      "text/plain": [
       "1"
      ]
     },
     "execution_count": 14,
     "metadata": {},
     "output_type": "execute_result"
    }
   ],
   "source": [
    "a = np.array([1])\n",
    "a.ndim"
   ]
  },
  {
   "cell_type": "code",
   "execution_count": 15,
   "id": "c9b79247",
   "metadata": {},
   "outputs": [
    {
     "data": {
      "text/plain": [
       "0"
      ]
     },
     "execution_count": 15,
     "metadata": {},
     "output_type": "execute_result"
    }
   ],
   "source": [
    "b = np.array(3)\n",
    "b.ndim"
   ]
  },
  {
   "cell_type": "code",
   "execution_count": 16,
   "id": "5ab96050",
   "metadata": {},
   "outputs": [
    {
     "data": {
      "text/plain": [
       "6"
      ]
     },
     "execution_count": 16,
     "metadata": {},
     "output_type": "execute_result"
    }
   ],
   "source": [
    "a = np.array([[1,2,3],[4,5,6]])\n",
    "a.size"
   ]
  },
  {
   "cell_type": "code",
   "execution_count": 17,
   "id": "8f0e2b8e",
   "metadata": {},
   "outputs": [
    {
     "data": {
      "text/plain": [
       "48"
      ]
     },
     "execution_count": 17,
     "metadata": {},
     "output_type": "execute_result"
    }
   ],
   "source": [
    "a.nbytes"
   ]
  },
  {
   "cell_type": "code",
   "execution_count": 18,
   "id": "711aa46d",
   "metadata": {},
   "outputs": [
    {
     "name": "stdout",
     "output_type": "stream",
     "text": [
      "[]\n"
     ]
    }
   ],
   "source": [
    "A = np.arange(20,10)\n",
    "print(A)"
   ]
  },
  {
   "cell_type": "code",
   "execution_count": 19,
   "id": "13279214",
   "metadata": {},
   "outputs": [
    {
     "name": "stdout",
     "output_type": "stream",
     "text": [
      "[20 23 26 29 32 35 38 41 44 47 50 53 56 59 62 65 68 71 74 77 80 83 86 89\n",
      " 92 95 98]\n"
     ]
    }
   ],
   "source": [
    "A = np.arange(20,100,3)\n",
    "print(A)"
   ]
  },
  {
   "cell_type": "code",
   "execution_count": 20,
   "id": "f8ebaeef",
   "metadata": {},
   "outputs": [
    {
     "name": "stdout",
     "output_type": "stream",
     "text": [
      "[0, 1, 2, 3, 4, 5, 6, 7, 8, 9]\n"
     ]
    }
   ],
   "source": [
    "print(list(range(10)))"
   ]
  },
  {
   "cell_type": "code",
   "execution_count": 21,
   "id": "f32ccaf1",
   "metadata": {},
   "outputs": [],
   "source": [
    "A = np.random.permutation(np.arange(10)) # random is a package"
   ]
  },
  {
   "cell_type": "code",
   "execution_count": 22,
   "id": "e5c8a9d2",
   "metadata": {},
   "outputs": [
    {
     "name": "stdout",
     "output_type": "stream",
     "text": [
      "[4 7 1 3 0 2 8 9 5 6]\n"
     ]
    }
   ],
   "source": [
    "print(A)"
   ]
  },
  {
   "cell_type": "code",
   "execution_count": 23,
   "id": "39ba7850",
   "metadata": {},
   "outputs": [
    {
     "name": "stdout",
     "output_type": "stream",
     "text": [
      "14\n"
     ]
    }
   ],
   "source": [
    "v = np.random.randint(10,20)\n",
    "print(v)"
   ]
  },
  {
   "cell_type": "code",
   "execution_count": 24,
   "id": "c95172a7",
   "metadata": {},
   "outputs": [],
   "source": [
    "A = np.random.rand(10)"
   ]
  },
  {
   "cell_type": "code",
   "execution_count": 25,
   "id": "5317eca4",
   "metadata": {},
   "outputs": [
    {
     "name": "stdout",
     "output_type": "stream",
     "text": [
      "[0.79743454 0.45936853 0.13994067 0.01364272 0.55155126 0.99773075\n",
      " 0.82962342 0.17215193 0.87306311 0.49645993]\n"
     ]
    }
   ],
   "source": [
    "print(A)"
   ]
  },
  {
   "cell_type": "code",
   "execution_count": 26,
   "id": "87e09d71",
   "metadata": {
    "tags": []
   },
   "outputs": [
    {
     "data": {
      "text/plain": [
       "(array([1., 2., 0., 0., 2., 1., 0., 1., 2., 1.]),\n",
       " array([0.01364272, 0.11205153, 0.21046033, 0.30886913, 0.40727793,\n",
       "        0.50568674, 0.60409554, 0.70250434, 0.80091314, 0.89932195,\n",
       "        0.99773075]),\n",
       " <BarContainer object of 10 artists>)"
      ]
     },
     "execution_count": 26,
     "metadata": {},
     "output_type": "execute_result"
    },
    {
     "data": {
      "image/png": "[encoded data removed]",
      "text/plain": [
       "<Figure size 432x288 with 1 Axes>"
      ]
     },
     "metadata": {
      "needs_background": "light"
     },
     "output_type": "display_data"
    }
   ],
   "source": [
    "import matplotlib.pyplot as  plt\n",
    "plt.hist(A) #roughly uniform"
   ]
  },
  {
   "cell_type": "code",
   "execution_count": 27,
   "id": "e2dc16cd",
   "metadata": {
    "tags": []
   },
   "outputs": [
    {
     "data": {
      "text/plain": [
       "(array([  1.,   0.,   0.,   0.,   0.,   1.,   0.,   1.,   0.,   0.,   1.,\n",
       "          0.,   1.,   2.,   0.,   1.,   0.,   0.,   1.,   0.,   4.,   1.,\n",
       "          0.,   4.,   1.,   0.,   1.,   3.,   2.,   2.,   1.,   2.,   3.,\n",
       "          6.,   4.,   1.,   0.,   5.,   3.,   5.,   4.,   4.,   9.,   8.,\n",
       "          8.,   7.,   9.,   2.,   9.,   9.,  11.,  13.,  17.,  25.,  21.,\n",
       "         20.,  20.,  30.,  33.,  26.,  30.,  39.,  32.,  38.,  38.,  44.,\n",
       "         44.,  45.,  74.,  42.,  51.,  52.,  75.,  55.,  78.,  83.,  78.,\n",
       "         80.,  92.,  74.,  78.,  99.,  96., 124., 105., 109., 108., 124.,\n",
       "        130., 124., 100., 118., 125., 156., 122., 137., 155., 138., 127.,\n",
       "        167., 161., 164., 140., 168., 169., 129., 161., 150., 138., 184.,\n",
       "        146., 142., 154., 145., 126., 130., 129., 145., 131., 151., 149.,\n",
       "        142., 114., 132., 106., 124., 125.,  98., 121., 107., 100.,  78.,\n",
       "         95., 103.,  86.,  86.,  86.,  74.,  82.,  71.,  81.,  73.,  63.,\n",
       "         49.,  49.,  53.,  44.,  57.,  29.,  36.,  26.,  36.,  40.,  34.,\n",
       "         28.,  26.,  32.,  26.,  29.,  16.,  27.,  13.,  20.,  21.,  15.,\n",
       "         12.,   6.,   8.,   7.,   4.,   6.,   8.,   4.,   5.,   2.,   5.,\n",
       "          2.,   2.,   2.,   8.,   3.,   5.,   4.,   1.,   1.,   1.,   2.,\n",
       "          1.,   1.,   2.,   0.,   1.,   0.,   0.,   0.,   0.,   1.,   0.,\n",
       "          2.,   1.]),\n",
       " array([-4.11045747, -4.07198965, -4.03352182, -3.995054  , -3.95658617,\n",
       "        -3.91811834, -3.87965052, -3.84118269, -3.80271487, -3.76424704,\n",
       "        -3.72577922, -3.68731139, -3.64884357, -3.61037574, -3.57190792,\n",
       "        -3.53344009, -3.49497227, -3.45650444, -3.41803662, -3.37956879,\n",
       "        -3.34110096, -3.30263314, -3.26416531, -3.22569749, -3.18722966,\n",
       "        -3.14876184, -3.11029401, -3.07182619, -3.03335836, -2.99489054,\n",
       "        -2.95642271, -2.91795489, -2.87948706, -2.84101924, -2.80255141,\n",
       "        -2.76408358, -2.72561576, -2.68714793, -2.64868011, -2.61021228,\n",
       "        -2.57174446, -2.53327663, -2.49480881, -2.45634098, -2.41787316,\n",
       "        -2.37940533, -2.34093751, -2.30246968, -2.26400185, -2.22553403,\n",
       "        -2.1870662 , -2.14859838, -2.11013055, -2.07166273, -2.0331949 ,\n",
       "        -1.99472708, -1.95625925, -1.91779143, -1.8793236 , -1.84085578,\n",
       "        -1.80238795, -1.76392013, -1.7254523 , -1.68698447, -1.64851665,\n",
       "        -1.61004882, -1.571581  , -1.53311317, -1.49464535, -1.45617752,\n",
       "        -1.4177097 , -1.37924187, -1.34077405, -1.30230622, -1.2638384 ,\n",
       "        -1.22537057, -1.18690275, -1.14843492, -1.10996709, -1.07149927,\n",
       "        -1.03303144, -0.99456362, -0.95609579, -0.91762797, -0.87916014,\n",
       "        -0.84069232, -0.80222449, -0.76375667, -0.72528884, -0.68682102,\n",
       "        -0.64835319, -0.60988536, -0.57141754, -0.53294971, -0.49448189,\n",
       "        -0.45601406, -0.41754624, -0.37907841, -0.34061059, -0.30214276,\n",
       "        -0.26367494, -0.22520711, -0.18673929, -0.14827146, -0.10980364,\n",
       "        -0.07133581, -0.03286798,  0.00559984,  0.04406767,  0.08253549,\n",
       "         0.12100332,  0.15947114,  0.19793897,  0.23640679,  0.27487462,\n",
       "         0.31334244,  0.35181027,  0.39027809,  0.42874592,  0.46721374,\n",
       "         0.50568157,  0.5441494 ,  0.58261722,  0.62108505,  0.65955287,\n",
       "         0.6980207 ,  0.73648852,  0.77495635,  0.81342417,  0.851892  ,\n",
       "         0.89035982,  0.92882765,  0.96729547,  1.0057633 ,  1.04423113,\n",
       "         1.08269895,  1.12116678,  1.1596346 ,  1.19810243,  1.23657025,\n",
       "         1.27503808,  1.3135059 ,  1.35197373,  1.39044155,  1.42890938,\n",
       "         1.4673772 ,  1.50584503,  1.54431285,  1.58278068,  1.62124851,\n",
       "         1.65971633,  1.69818416,  1.73665198,  1.77511981,  1.81358763,\n",
       "         1.85205546,  1.89052328,  1.92899111,  1.96745893,  2.00592676,\n",
       "         2.04439458,  2.08286241,  2.12133023,  2.15979806,  2.19826589,\n",
       "         2.23673371,  2.27520154,  2.31366936,  2.35213719,  2.39060501,\n",
       "         2.42907284,  2.46754066,  2.50600849,  2.54447631,  2.58294414,\n",
       "         2.62141196,  2.65987979,  2.69834762,  2.73681544,  2.77528327,\n",
       "         2.81375109,  2.85221892,  2.89068674,  2.92915457,  2.96762239,\n",
       "         3.00609022,  3.04455804,  3.08302587,  3.12149369,  3.15996152,\n",
       "         3.19842934,  3.23689717,  3.275365  ,  3.31383282,  3.35230065,\n",
       "         3.39076847,  3.4292363 ,  3.46770412,  3.50617195,  3.54463977,\n",
       "         3.5831076 ]),\n",
       " <BarContainer object of 200 artists>)"
      ]
     },
     "execution_count": 27,
     "metadata": {},
     "output_type": "execute_result"
    },
    {
     "data": {
      "image/png": "[encoded data removed]",
      "text/plain": [
       "<Figure size 432x288 with 1 Axes>"
      ]
     },
     "metadata": {
      "needs_background": "light"
     },
     "output_type": "display_data"
    }
   ],
   "source": [
    "A = np.random.randn(10000) #creates an array of specified shape and fills it with random values as per standard normal distribution. \n",
    "plt.hist(A,bins = 200)"
   ]
  },
  {
   "cell_type": "code",
   "execution_count": 28,
   "id": "17d16f0b",
   "metadata": {},
   "outputs": [
    {
     "data": {
      "text/plain": [
       "array([[0.83256512, 0.06278171, 0.42474643],\n",
       "       [0.84191439, 0.3629227 , 0.07314667]])"
      ]
     },
     "execution_count": 28,
     "metadata": {},
     "output_type": "execute_result"
    }
   ],
   "source": [
    "B = np.random.rand(2,3)\n",
    "B"
   ]
  },
  {
   "cell_type": "code",
   "execution_count": 29,
   "id": "b53449ec",
   "metadata": {},
   "outputs": [
    {
     "data": {
      "text/plain": [
       "2"
      ]
     },
     "execution_count": 29,
     "metadata": {},
     "output_type": "execute_result"
    }
   ],
   "source": [
    "B.ndim"
   ]
  },
  {
   "cell_type": "code",
   "execution_count": 30,
   "id": "df7ac4a4",
   "metadata": {},
   "outputs": [
    {
     "data": {
      "text/plain": [
       "array([[[[0.26428241, 0.79370588, 0.0615467 , 0.03465597]],\n",
       "\n",
       "        [[0.29941831, 0.74724171, 0.34087204, 0.35384993]],\n",
       "\n",
       "        [[0.15786009, 0.20982128, 0.96078315, 0.83570971]]],\n",
       "\n",
       "\n",
       "       [[[0.95038483, 0.07555361, 0.36323979, 0.76831105]],\n",
       "\n",
       "        [[0.97130204, 0.61217525, 0.02145991, 0.50558224]],\n",
       "\n",
       "        [[0.06355476, 0.93111103, 0.0162946 , 0.36916304]]]])"
      ]
     },
     "execution_count": 30,
     "metadata": {},
     "output_type": "execute_result"
    }
   ],
   "source": [
    "C = np.random.rand(2,3,1,4)\n",
    "C"
   ]
  },
  {
   "cell_type": "code",
   "execution_count": 31,
   "id": "69d546d6",
   "metadata": {},
   "outputs": [
    {
     "data": {
      "text/plain": [
       "4"
      ]
     },
     "execution_count": 31,
     "metadata": {},
     "output_type": "execute_result"
    }
   ],
   "source": [
    "C.ndim"
   ]
  },
  {
   "cell_type": "code",
   "execution_count": 32,
   "id": "e2dfb68a",
   "metadata": {},
   "outputs": [],
   "source": [
    "D = np.arange(100).reshape(4,25)"
   ]
  },
  {
   "cell_type": "code",
   "execution_count": 33,
   "id": "3197f021",
   "metadata": {},
   "outputs": [
    {
     "data": {
      "text/plain": [
       "(4, 25)"
      ]
     },
     "execution_count": 33,
     "metadata": {},
     "output_type": "execute_result"
    }
   ],
   "source": [
    "D.shape"
   ]
  },
  {
   "cell_type": "code",
   "execution_count": 34,
   "id": "12b1d75c",
   "metadata": {
    "tags": []
   },
   "outputs": [
    {
     "data": {
      "text/plain": [
       "array([[ 0,  1,  2,  3,  4,  5,  6,  7,  8,  9, 10, 11, 12, 13, 14, 15,\n",
       "        16, 17, 18, 19, 20, 21, 22, 23, 24],\n",
       "       [25, 26, 27, 28, 29, 30, 31, 32, 33, 34, 35, 36, 37, 38, 39, 40,\n",
       "        41, 42, 43, 44, 45, 46, 47, 48, 49],\n",
       "       [50, 51, 52, 53, 54, 55, 56, 57, 58, 59, 60, 61, 62, 63, 64, 65,\n",
       "        66, 67, 68, 69, 70, 71, 72, 73, 74],\n",
       "       [75, 76, 77, 78, 79, 80, 81, 82, 83, 84, 85, 86, 87, 88, 89, 90,\n",
       "        91, 92, 93, 94, 95, 96, 97, 98, 99]])"
      ]
     },
     "execution_count": 34,
     "metadata": {},
     "output_type": "execute_result"
    }
   ],
   "source": [
    "D"
   ]
  },
  {
   "cell_type": "markdown",
   "id": "1a8d6f73-894b-4def-9d68-9c86fff97d61",
   "metadata": {
    "tags": []
   },
   "source": [
    "SLICING\n"
   ]
  },
  {
   "cell_type": "code",
   "execution_count": 35,
   "id": "5624a015",
   "metadata": {
    "tags": []
   },
   "outputs": [
    {
     "name": "stdout",
     "output_type": "stream",
     "text": [
      "[0 1 2 3 4 5 6 7 8 9]\n"
     ]
    }
   ],
   "source": [
    "a = np.arange(10)\n",
    "print(a)"
   ]
  },
  {
   "cell_type": "code",
   "execution_count": 36,
   "id": "fb6ae104",
   "metadata": {},
   "outputs": [
    {
     "name": "stdout",
     "output_type": "stream",
     "text": [
      "[3 4 5 6 7 8 9]\n"
     ]
    }
   ],
   "source": [
    "b = a[3:10]\n",
    "print(b)"
   ]
  },
  {
   "cell_type": "code",
   "execution_count": 37,
   "id": "6568c2fe-9615-4bee-850c-b04dbd323ea5",
   "metadata": {},
   "outputs": [
    {
     "data": {
      "text/plain": [
       "array([-1200,     4,     5,     6,     7,     8,     9])"
      ]
     },
     "execution_count": 37,
     "metadata": {},
     "output_type": "execute_result"
    }
   ],
   "source": [
    "b[0] = -1200\n",
    "b"
   ]
  },
  {
   "cell_type": "code",
   "execution_count": 38,
   "id": "dda0f5a4-4a5e-46e6-b06c-ec1607cfcbc1",
   "metadata": {},
   "outputs": [
    {
     "data": {
      "text/plain": [
       "array([    0,     1,     2, -1200,     4,     5,     6,     7,     8,\n",
       "           9])"
      ]
     },
     "execution_count": 38,
     "metadata": {},
     "output_type": "execute_result"
    }
   ],
   "source": [
    "a"
   ]
  },
  {
   "cell_type": "code",
   "execution_count": 39,
   "id": "d634ae33-572f-499c-a462-37cb55867586",
   "metadata": {},
   "outputs": [],
   "source": [
    "# a also changes as b is not a copy of a ,same memory is accessed"
   ]
  },
  {
   "cell_type": "code",
   "execution_count": 40,
   "id": "c818970d-4b3f-4710-a7e3-e254616d2c8a",
   "metadata": {},
   "outputs": [],
   "source": [
    "b = a[3:10].copy()"
   ]
  },
  {
   "cell_type": "code",
   "execution_count": 41,
   "id": "aaa19c69-920d-4f59-a40c-043d0749d034",
   "metadata": {},
   "outputs": [
    {
     "data": {
      "text/plain": [
       "array([3, 4, 5, 6, 7, 8, 9])"
      ]
     },
     "execution_count": 41,
     "metadata": {},
     "output_type": "execute_result"
    }
   ],
   "source": [
    "b[0] = 3\n",
    "b"
   ]
  },
  {
   "cell_type": "code",
   "execution_count": 42,
   "id": "c6071be4-eecf-4a12-b997-337f5d6382dc",
   "metadata": {},
   "outputs": [
    {
     "data": {
      "text/plain": [
       "array([    0,     1,     2, -1200,     4,     5,     6,     7,     8,\n",
       "           9])"
      ]
     },
     "execution_count": 42,
     "metadata": {},
     "output_type": "execute_result"
    }
   ],
   "source": [
    "a"
   ]
  },
  {
   "cell_type": "code",
   "execution_count": 43,
   "id": "89484ac7-a805-4a99-8442-6c986038461b",
   "metadata": {},
   "outputs": [
    {
     "data": {
      "text/plain": [
       "array([0, 5])"
      ]
     },
     "execution_count": 43,
     "metadata": {},
     "output_type": "execute_result"
    }
   ],
   "source": [
    "a[::5] #picks elements in jumps of 5"
   ]
  },
  {
   "cell_type": "code",
   "execution_count": 44,
   "id": "6d90f704-e56d-4773-b440-14dc5f9f35bf",
   "metadata": {},
   "outputs": [
    {
     "data": {
      "text/plain": [
       "array([9, 4])"
      ]
     },
     "execution_count": 44,
     "metadata": {},
     "output_type": "execute_result"
    }
   ],
   "source": [
    "a[::-5] #picks elements in jumps of 5 from the back"
   ]
  },
  {
   "cell_type": "code",
   "execution_count": 45,
   "id": "b61b7014-747e-4f56-802d-81c2d907b52d",
   "metadata": {},
   "outputs": [
    {
     "data": {
      "text/plain": [
       "array([    9,     8,     7,     6,     5,     4, -1200,     2,     1,\n",
       "           0])"
      ]
     },
     "execution_count": 45,
     "metadata": {},
     "output_type": "execute_result"
    }
   ],
   "source": [
    "a[::-1] #reverses an array"
   ]
  },
  {
   "cell_type": "code",
   "execution_count": 46,
   "id": "a33fe216-2699-48ff-8ee3-c5bda1e05f1f",
   "metadata": {},
   "outputs": [
    {
     "data": {
      "text/plain": [
       "3"
      ]
     },
     "execution_count": 46,
     "metadata": {},
     "output_type": "execute_result"
    }
   ],
   "source": [
    "idx = np.argwhere(a == -1200)[0][0]\n",
    "idx"
   ]
  },
  {
   "cell_type": "code",
   "execution_count": 47,
   "id": "92ad8aa9-ed1f-4489-9712-e187fff8350c",
   "metadata": {},
   "outputs": [],
   "source": [
    "a = np.round(10*np.random.rand(4,4))"
   ]
  },
  {
   "cell_type": "code",
   "execution_count": 48,
   "id": "9abbc82d-5e73-49ca-b9d2-964db6c3ae54",
   "metadata": {},
   "outputs": [
    {
     "data": {
      "text/plain": [
       "array([[4., 3., 8., 2.],\n",
       "       [6., 8., 3., 8.],\n",
       "       [7., 9., 2., 2.],\n",
       "       [2., 2., 1., 3.]])"
      ]
     },
     "execution_count": 48,
     "metadata": {},
     "output_type": "execute_result"
    }
   ],
   "source": [
    "a"
   ]
  },
  {
   "cell_type": "code",
   "execution_count": 49,
   "id": "0b88a2d6-4ef0-4f21-8f12-cea4c6acd1fc",
   "metadata": {},
   "outputs": [
    {
     "data": {
      "text/plain": [
       "3.0"
      ]
     },
     "execution_count": 49,
     "metadata": {},
     "output_type": "execute_result"
    }
   ],
   "source": [
    "a[1,2]"
   ]
  },
  {
   "cell_type": "code",
   "execution_count": 50,
   "id": "eb0bc394-7114-45aa-b9ae-84c16849e3b7",
   "metadata": {},
   "outputs": [
    {
     "data": {
      "text/plain": [
       "array([6., 8., 3., 8.])"
      ]
     },
     "execution_count": 50,
     "metadata": {},
     "output_type": "execute_result"
    }
   ],
   "source": [
    "a[1,:]"
   ]
  },
  {
   "cell_type": "code",
   "execution_count": 51,
   "id": "823ed9f9-3876-4873-8a25-4295233d03f5",
   "metadata": {},
   "outputs": [
    {
     "data": {
      "text/plain": [
       "array([3., 8., 9., 2.])"
      ]
     },
     "execution_count": 51,
     "metadata": {},
     "output_type": "execute_result"
    }
   ],
   "source": [
    "a[:,1]"
   ]
  },
  {
   "cell_type": "code",
   "execution_count": 52,
   "id": "4d0dcd2a-dea3-4ac2-83ac-25fa4d338e75",
   "metadata": {},
   "outputs": [
    {
     "data": {
      "text/plain": [
       "array([[3., 8.],\n",
       "       [2., 2.]])"
      ]
     },
     "execution_count": 52,
     "metadata": {},
     "output_type": "execute_result"
    }
   ],
   "source": [
    "a[1:3,2:4]"
   ]
  },
  {
   "cell_type": "code",
   "execution_count": 53,
   "id": "d0e21abb-3310-4acd-9e86-f3e352162bae",
   "metadata": {},
   "outputs": [
    {
     "data": {
      "text/plain": [
       "array([[4., 6., 7., 2.],\n",
       "       [3., 8., 9., 2.],\n",
       "       [8., 3., 2., 1.],\n",
       "       [2., 8., 2., 3.]])"
      ]
     },
     "execution_count": 53,
     "metadata": {},
     "output_type": "execute_result"
    }
   ],
   "source": [
    "a.T #TRANSPOSES"
   ]
  },
  {
   "cell_type": "code",
   "execution_count": 54,
   "id": "2b40d1cb-bd1b-4501-b06b-00ccb2205a14",
   "metadata": {},
   "outputs": [],
   "source": [
    "import numpy.linalg as la          #linear algebra library"
   ]
  },
  {
   "cell_type": "code",
   "execution_count": 55,
   "id": "36b1756b-7e13-450f-9e36-0973beec88ef",
   "metadata": {},
   "outputs": [
    {
     "data": {
      "text/plain": [
       "array([-5.43180284, -0.34874399,  2.6182372 , 20.16230963])"
      ]
     },
     "execution_count": 55,
     "metadata": {},
     "output_type": "execute_result"
    }
   ],
   "source": [
    "la.eigvalsh(a) #eigen values"
   ]
  },
  {
   "cell_type": "code",
   "execution_count": 56,
   "id": "c2b3ea83-0003-4701-9f82-68065de7e9d2",
   "metadata": {},
   "outputs": [
    {
     "data": {
      "text/plain": [
       "array([[ 3.75496332, -0.12099676, -0.83573539],\n",
       "       [-2.58165151,  1.15979768,  0.35603559],\n",
       "       [-3.81587444, -0.45180271,  3.29689056]])"
      ]
     },
     "execution_count": 56,
     "metadata": {},
     "output_type": "execute_result"
    }
   ],
   "source": [
    "la.inv(np.random.rand(3,3))"
   ]
  },
  {
   "cell_type": "code",
   "execution_count": 57,
   "id": "e11c9d80-5137-4e5a-9f5d-34d8a078bad5",
   "metadata": {},
   "outputs": [
    {
     "data": {
      "text/plain": [
       "array([[4., 3., 8., 2.],\n",
       "       [6., 8., 3., 8.],\n",
       "       [7., 9., 2., 2.],\n",
       "       [2., 2., 1., 3.]])"
      ]
     },
     "execution_count": 57,
     "metadata": {},
     "output_type": "execute_result"
    }
   ],
   "source": [
    "a"
   ]
  },
  {
   "cell_type": "code",
   "execution_count": 58,
   "id": "cee38add-cdc3-451b-9fe0-9565b698f173",
   "metadata": {},
   "outputs": [
    {
     "data": {
      "text/plain": [
       "array([[2., 2., 1., 2.],\n",
       "       [4., 3., 2., 2.],\n",
       "       [6., 8., 3., 3.],\n",
       "       [7., 9., 8., 8.]])"
      ]
     },
     "execution_count": 58,
     "metadata": {},
     "output_type": "execute_result"
    }
   ],
   "source": [
    "a.sort(axis = 0)    #every column is sorted invidually\n",
    "a"
   ]
  },
  {
   "cell_type": "code",
   "execution_count": 59,
   "id": "260d7610-3bf3-4d71-964a-40e0d3b32877",
   "metadata": {},
   "outputs": [
    {
     "data": {
      "text/plain": [
       "array([[1., 2., 2., 2.],\n",
       "       [2., 2., 3., 4.],\n",
       "       [3., 3., 6., 8.],\n",
       "       [7., 8., 8., 9.]])"
      ]
     },
     "execution_count": 59,
     "metadata": {},
     "output_type": "execute_result"
    }
   ],
   "source": [
    "a.sort(axis = 1)  #every row is sorted invidually\n",
    "a"
   ]
  },
  {
   "cell_type": "code",
   "execution_count": 60,
   "id": "5e84a156-c1c2-42df-be8d-8abcd10f992f",
   "metadata": {},
   "outputs": [
    {
     "data": {
      "text/plain": [
       "array([1, 2, 3])"
      ]
     },
     "execution_count": 60,
     "metadata": {},
     "output_type": "execute_result"
    }
   ],
   "source": [
    "a = np.arange(4)\n",
    "a[[1,2,3]]  #pick elements at index"
   ]
  },
  {
   "cell_type": "code",
   "execution_count": 61,
   "id": "b2489f1a-1790-4ea6-96ba-37c188e220f2",
   "metadata": {},
   "outputs": [
    {
     "data": {
      "text/plain": [
       "array([0, 1, 2])"
      ]
     },
     "execution_count": 61,
     "metadata": {},
     "output_type": "execute_result"
    }
   ],
   "source": [
    " a [[True,True,True,False]] #picks 0,1 and 2"
   ]
  },
  {
   "cell_type": "markdown",
   "id": "adf5c8b7-65f8-490e-95c0-56024ebbaea0",
   "metadata": {},
   "source": [
    " This is by default a copy of a , main difference between normal slicing and this\n",
    " "
   ]
  },
  {
   "cell_type": "code",
   "execution_count": 62,
   "id": "4462f66f-d3c6-4403-ab99-cc96aea3da6e",
   "metadata": {},
   "outputs": [
    {
     "data": {
      "text/plain": [
       "array([0, 1, 2, 3])"
      ]
     },
     "execution_count": 62,
     "metadata": {},
     "output_type": "execute_result"
    }
   ],
   "source": [
    "a[a<4] #checks each element of array if less than 4"
   ]
  },
  {
   "cell_type": "code",
   "execution_count": 63,
   "id": "67d29929-e9af-4e39-9eba-a012d20eea3f",
   "metadata": {},
   "outputs": [
    {
     "data": {
      "text/plain": [
       "array([2, 3])"
      ]
     },
     "execution_count": 63,
     "metadata": {},
     "output_type": "execute_result"
    }
   ],
   "source": [
    " a[(a<4) & (a > 1)] #elements less than 4 but greater than 1"
   ]
  },
  {
   "cell_type": "markdown",
   "id": "13b3f93b-9271-47fd-959d-c22bbd0c5eb1",
   "metadata": {},
   "source": [
    "&,/,~ is used for arrays  _______   and,or not is used for single objects"
   ]
  },
  {
   "cell_type": "markdown",
   "id": "a99522fa-1433-4138-ad44-b1fd640a201d",
   "metadata": {},
   "source": [
    "Broadcasting"
   ]
  },
  {
   "cell_type": "code",
   "execution_count": 64,
   "id": "d2a3e53a-bc44-4d12-b1c8-c4e20a12c68a",
   "metadata": {},
   "outputs": [
    {
     "data": {
      "text/plain": [
       "array([10, 11, 12, 13])"
      ]
     },
     "execution_count": 64,
     "metadata": {},
     "output_type": "execute_result"
    }
   ],
   "source": [
    "a = a + 10\n",
    "a"
   ]
  },
  {
   "cell_type": "code",
   "execution_count": 65,
   "id": "2640d93f-0877-47bb-9518-259508472db1",
   "metadata": {},
   "outputs": [
    {
     "data": {
      "text/plain": [
       "array([[7., 9., 5.],\n",
       "       [8., 2., 9.]])"
      ]
     },
     "execution_count": 65,
     "metadata": {},
     "output_type": "execute_result"
    }
   ],
   "source": [
    "a = np.round(10*np.random.rand(2,3))\n",
    "a"
   ]
  },
  {
   "cell_type": "code",
   "execution_count": 66,
   "id": "fe57c613-8b15-4da8-9e5d-0bab0e217fa2",
   "metadata": {},
   "outputs": [
    {
     "data": {
      "text/plain": [
       "array([[10., 12.,  8.],\n",
       "       [11.,  5., 12.]])"
      ]
     },
     "execution_count": 66,
     "metadata": {},
     "output_type": "execute_result"
    }
   ],
   "source": [
    " a+3"
   ]
  },
  {
   "cell_type": "code",
   "execution_count": 67,
   "id": "f15825f1-6898-433e-838a-7a07b6e600dd",
   "metadata": {},
   "outputs": [
    {
     "data": {
      "text/plain": [
       "array([[ 7.,  9.,  5.],\n",
       "       [ 9.,  3., 10.]])"
      ]
     },
     "execution_count": 67,
     "metadata": {},
     "output_type": "execute_result"
    }
   ],
   "source": [
    "a + (np.arange(2).reshape(2,1)) # 2 elements in 2 rows 1 column"
   ]
  },
  {
   "cell_type": "code",
   "execution_count": 68,
   "id": "5581d2a7-c36b-41cb-bd3f-5d288a9ff35f",
   "metadata": {},
   "outputs": [
    {
     "data": {
      "text/plain": [
       "array([[5., 6., 5.],\n",
       "       [7., 8., 0.]])"
      ]
     },
     "execution_count": 68,
     "metadata": {},
     "output_type": "execute_result"
    }
   ],
   "source": [
    "b = np.round(10*np.random.rand(2,3))\n",
    "b"
   ]
  },
  {
   "cell_type": "code",
   "execution_count": 69,
   "id": "52909678-4487-436a-bbe2-1c58cd163552",
   "metadata": {},
   "outputs": [
    {
     "data": {
      "text/plain": [
       "array([[7., 9., 5.],\n",
       "       [8., 2., 9.]])"
      ]
     },
     "execution_count": 69,
     "metadata": {},
     "output_type": "execute_result"
    }
   ],
   "source": [
    "a"
   ]
  },
  {
   "cell_type": "code",
   "execution_count": 70,
   "id": "b685513a-8342-48d7-812b-984e46a9a328",
   "metadata": {},
   "outputs": [
    {
     "data": {
      "text/plain": [
       "array([[7., 9., 5., 5., 6., 5.],\n",
       "       [8., 2., 9., 7., 8., 0.]])"
      ]
     },
     "execution_count": 70,
     "metadata": {},
     "output_type": "execute_result"
    }
   ],
   "source": [
    "c = np.hstack((a,b))\n",
    "c"
   ]
  },
  {
   "cell_type": "code",
   "execution_count": 71,
   "id": "09347a92-a842-47e9-af2b-5abce5c952c1",
   "metadata": {},
   "outputs": [
    {
     "data": {
      "text/plain": [
       "array([[7., 9., 5.],\n",
       "       [8., 2., 9.],\n",
       "       [5., 6., 5.],\n",
       "       [7., 8., 0.]])"
      ]
     },
     "execution_count": 71,
     "metadata": {},
     "output_type": "execute_result"
    }
   ],
   "source": [
    "d = np.vstack((a,b))  #only possible when column size is same ,one on top of other\n",
    "d"
   ]
  },
  {
   "cell_type": "code",
   "execution_count": 72,
   "id": "986cbe6a-a008-46b8-bbac-01f7ee8f95ed",
   "metadata": {},
   "outputs": [
    {
     "data": {
      "text/plain": [
       "array([0, 3, 4, 1, 2])"
      ]
     },
     "execution_count": 72,
     "metadata": {},
     "output_type": "execute_result"
    }
   ],
   "source": [
    "a = np.random.permutation(np.arange(5)) \n",
    "a"
   ]
  },
  {
   "cell_type": "code",
   "execution_count": 73,
   "id": "5e1037ce-5cac-401b-8b50-06f30b7d5b66",
   "metadata": {},
   "outputs": [
    {
     "data": {
      "text/plain": [
       "array([0, 1, 2, 3, 4])"
      ]
     },
     "execution_count": 73,
     "metadata": {},
     "output_type": "execute_result"
    }
   ],
   "source": [
    "a.sort()\n",
    "a"
   ]
  },
  {
   "cell_type": "code",
   "execution_count": 74,
   "id": "808d1671-870a-4171-8e18-704b232907d3",
   "metadata": {},
   "outputs": [
    {
     "data": {
      "text/plain": [
       "array([4, 3, 2, 1, 0])"
      ]
     },
     "execution_count": 74,
     "metadata": {},
     "output_type": "execute_result"
    }
   ],
   "source": [
    "a[::-1]"
   ]
  },
  {
   "cell_type": "code",
   "execution_count": 75,
   "id": "165dd6c9-3773-4cc5-aecf-35a0a66124df",
   "metadata": {},
   "outputs": [
    {
     "data": {
      "text/plain": [
       "array(['abc', 'def', 'xyx', 'mn0'], dtype='<U3')"
      ]
     },
     "execution_count": 75,
     "metadata": {},
     "output_type": "execute_result"
    }
   ],
   "source": [
    "a = np.array([\"abc\", \"def\", \"xyx\",\"mn0\"])\n",
    "a"
   ]
  },
  {
   "cell_type": "code",
   "execution_count": 76,
   "id": "c4aba0ef-bace-4dc0-83d9-3d0c680d3e9f",
   "metadata": {},
   "outputs": [
    {
     "data": {
      "text/plain": [
       "array(['abc', 'def', 'mn0', 'xyx'], dtype='<U3')"
      ]
     },
     "execution_count": 76,
     "metadata": {},
     "output_type": "execute_result"
    }
   ],
   "source": [
    "a.sort()   #alphabetical order\n",
    "a     "
   ]
  },
  {
   "cell_type": "code",
   "execution_count": 77,
   "id": "2c0ad8ae-b5dc-4223-b237-29dae7ced4ca",
   "metadata": {},
   "outputs": [
    {
     "name": "stdout",
     "output_type": "stream",
     "text": [
      "36.3 ms ± 8.62 ms per loop (mean ± std. dev. of 7 runs, 10 loops each)\n",
      "98 µs ± 30.3 µs per loop (mean ± std. dev. of 7 runs, 10000 loops each)\n"
     ]
    }
   ],
   "source": [
    "a = np.random.rand(100000)\n",
    "%timeit sum(a)\n",
    "%timeit np.sum(a)"
   ]
  },
  {
   "cell_type": "markdown",
   "id": "31df955d-74e4-432c-bd33-d0d063189253",
   "metadata": {},
   "source": [
    "Numpy is faster"
   ]
  },
  {
   "cell_type": "code",
   "execution_count": 78,
   "id": "f93c65d7-44dc-4e56-9051-23c7ce1fb93d",
   "metadata": {},
   "outputs": [],
   "source": [
    "def mysum(g):\n",
    "    s = 0 \n",
    "    for x  in g:\n",
    "        s = s + x\n",
    "    return s"
   ]
  },
  {
   "cell_type": "code",
   "execution_count": 79,
   "id": "45195d96-8c6c-49c0-921e-deaca39e0bc2",
   "metadata": {},
   "outputs": [
    {
     "name": "stdout",
     "output_type": "stream",
     "text": [
      "25.6 ms ± 8.59 ms per loop (mean ± std. dev. of 7 runs, 10 loops each)\n"
     ]
    }
   ],
   "source": [
    "%timeit mysum(a)"
   ]
  },
  {
   "cell_type": "code",
   "execution_count": null,
   "id": "6964bcbb-5005-48e4-ae53-7b982d1911b5",
   "metadata": {},
   "outputs": [],
   "source": []
  }
 ],
 "metadata": {
  "kernelspec": {
   "display_name": "Python 3 (ipykernel)",
   "language": "python",
   "name": "python3"
  },
  "language_info": {
   "codemirror_mode": {
    "name": "ipython",
    "version": 3
   },
   "file_extension": ".py",
   "mimetype": "text/x-python",
   "name": "python",
   "nbconvert_exporter": "python",
   "pygments_lexer": "ipython3",
   "version": "3.9.7"
  }
 },
 "nbformat": 4,
 "nbformat_minor": 5
}
