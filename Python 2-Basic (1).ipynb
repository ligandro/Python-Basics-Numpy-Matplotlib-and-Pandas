{
 "cells": [
  {
   "cell_type": "markdown",
   "id": "fa16fa09-4534-49ac-9d7f-64857a78d23e",
   "metadata": {},
   "source": [
    "*****TYPES OF VARIABLES*****"
   ]
  },
  {
   "cell_type": "markdown",
   "id": "038228ff-8afc-42d7-8c6d-dedd413002aa",
   "metadata": {},
   "source": [
    "Local variables are the ones which are created inside a function. They are created when the owning function starts execution and remains in memory till owning function finishes execution. They can be accessed only inside that function.\n",
    "\n",
    "Global variables are the ones which are created outside the functions. They are created when the program execution starts and remains in memory till the program terminates. They can be read anywhere in the program - within a function or outside."
   ]
  },
  {
   "cell_type": "code",
   "execution_count": 1,
   "id": "e1d3fc2b-236e-4767-9f41-55c7706e1040",
   "metadata": {},
   "outputs": [
    {
     "name": "stdout",
     "output_type": "stream",
     "text": [
      "This airline allows baggage limit till 30 kgs\n",
      "Pay the extra baggage charge of 500 rupees\n",
      "This airline now allows baggage limit till 45 kgs\n",
      "Pay the extra baggage charge of 500 rupees\n",
      "30\n"
     ]
    }
   ],
   "source": [
    "wt_limit=30\n",
    "\n",
    "def baggage_check(baggage_wt):\n",
    "    extra_baggage_charge=0\n",
    "    if not(baggage_wt>=0 and baggage_wt<=wt_limit):\n",
    "        extra_baggage=baggage_wt-wt_limit\n",
    "        extra_baggage_charge=extra_baggage*100\n",
    "    return extra_baggage_charge\n",
    "\n",
    "def update_baggage_limit(new_wt_limit):\n",
    "    wt_limit=new_wt_limit\n",
    "    print(\"This airline now allows baggage limit till\",wt_limit,\"kgs\")\n",
    "\n",
    "print(\"This airline allows baggage limit till\",wt_limit,\"kgs\")\n",
    "print(\"Pay the extra baggage charge of\",baggage_check(35),\"rupees\")\n",
    "update_baggage_limit(45)\n",
    "print(\"Pay the extra baggage charge of\",baggage_check(35),\"rupees\")\n",
    "print(wt_limit)"
   ]
  },
  {
   "cell_type": "markdown",
   "id": "241f6536-21e5-4f0f-9c25-f217df5e4468",
   "metadata": {},
   "source": [
    "As we can see the wt_limit accessed stays at 30 and not 45 . This is because in update baggage limit, python does not allow modification of a global variable \"wt_limit\" and hence creates a new local variable wt_limit"
   ]
  },
  {
   "cell_type": "code",
   "execution_count": 2,
   "id": "3661193c-2706-43af-a893-3dfcd2c1ad66",
   "metadata": {},
   "outputs": [
    {
     "name": "stdout",
     "output_type": "stream",
     "text": [
      "This airline allows baggage limit till 30 kgs\n",
      "Pay the extra baggage charge of 500 rupees\n",
      "This airline now allows baggage limit till 45 kgs\n",
      "Pay the extra baggage charge of 0 rupees\n"
     ]
    },
    {
     "ename": "NameError",
     "evalue": "name 'extra_baggage' is not defined",
     "output_type": "error",
     "traceback": [
      "\u001b[0;31m---------------------------------------------------------------------------\u001b[0m",
      "\u001b[0;31mNameError\u001b[0m                                 Traceback (most recent call last)",
      "\u001b[0;32m/var/folders/y9/7jjg2kks2396zw687mh2t7vc0000gn/T/ipykernel_1294/1211386827.py\u001b[0m in \u001b[0;36m<module>\u001b[0;34m\u001b[0m\n\u001b[1;32m     21\u001b[0m \u001b[0mupdate_baggage_limit\u001b[0m\u001b[0;34m(\u001b[0m\u001b[0;36m45\u001b[0m\u001b[0;34m)\u001b[0m\u001b[0;34m\u001b[0m\u001b[0;34m\u001b[0m\u001b[0m\n\u001b[1;32m     22\u001b[0m \u001b[0mprint\u001b[0m\u001b[0;34m(\u001b[0m\u001b[0;34m\"Pay the extra baggage charge of\"\u001b[0m\u001b[0;34m,\u001b[0m\u001b[0mbaggage_check\u001b[0m\u001b[0;34m(\u001b[0m\u001b[0;36m35\u001b[0m\u001b[0;34m)\u001b[0m\u001b[0;34m,\u001b[0m\u001b[0;34m\"rupees\"\u001b[0m\u001b[0;34m)\u001b[0m\u001b[0;34m\u001b[0m\u001b[0;34m\u001b[0m\u001b[0m\n\u001b[0;32m---> 23\u001b[0;31m \u001b[0museless_function_to_prove_a_point\u001b[0m\u001b[0;34m(\u001b[0m\u001b[0;34m)\u001b[0m\u001b[0;34m\u001b[0m\u001b[0;34m\u001b[0m\u001b[0m\n\u001b[0m",
      "\u001b[0;32m/var/folders/y9/7jjg2kks2396zw687mh2t7vc0000gn/T/ipykernel_1294/1211386827.py\u001b[0m in \u001b[0;36museless_function_to_prove_a_point\u001b[0;34m()\u001b[0m\n\u001b[1;32m     14\u001b[0m \u001b[0;34m\u001b[0m\u001b[0m\n\u001b[1;32m     15\u001b[0m \u001b[0;32mdef\u001b[0m \u001b[0museless_function_to_prove_a_point\u001b[0m\u001b[0;34m(\u001b[0m\u001b[0;34m)\u001b[0m\u001b[0;34m:\u001b[0m\u001b[0;34m\u001b[0m\u001b[0;34m\u001b[0m\u001b[0m\n\u001b[0;32m---> 16\u001b[0;31m     \u001b[0mprint\u001b[0m\u001b[0;34m(\u001b[0m\u001b[0;34m\"Extra baggage:\"\u001b[0m\u001b[0;34m,\u001b[0m\u001b[0mextra_baggage\u001b[0m\u001b[0;34m)\u001b[0m\u001b[0;34m\u001b[0m\u001b[0;34m\u001b[0m\u001b[0m\n\u001b[0m\u001b[1;32m     17\u001b[0m     \u001b[0mprint\u001b[0m\u001b[0;34m(\u001b[0m\u001b[0;34m\"Extra baggage charge:\"\u001b[0m\u001b[0;34m,\u001b[0m\u001b[0mextra_baggage_charge\u001b[0m\u001b[0;34m)\u001b[0m\u001b[0;34m\u001b[0m\u001b[0;34m\u001b[0m\u001b[0m\n\u001b[1;32m     18\u001b[0m \u001b[0;34m\u001b[0m\u001b[0m\n",
      "\u001b[0;31mNameError\u001b[0m: name 'extra_baggage' is not defined"
     ]
    }
   ],
   "source": [
    "wt_limit=30\n",
    "\n",
    "def baggage_check(baggage_wt):\n",
    "    extra_baggage_charge=0\n",
    "    if not(baggage_wt>=0 and baggage_wt<=wt_limit):\n",
    "        extra_baggage=baggage_wt-wt_limit\n",
    "        extra_baggage_charge=extra_baggage*100\n",
    "    return extra_baggage_charge\n",
    "\n",
    "def update_baggage_limit(new_wt_limit):\n",
    "    global wt_limit\n",
    "    wt_limit=new_wt_limit\n",
    "    print(\"This airline now allows baggage limit till\",wt_limit,\"kgs\")\n",
    "\n",
    "def useless_function_to_prove_a_point():\n",
    "    print(\"Extra baggage:\",extra_baggage)\n",
    "    print(\"Extra baggage charge:\",extra_baggage_charge)\n",
    "\n",
    "print(\"This airline allows baggage limit till\",wt_limit,\"kgs\")\n",
    "print(\"Pay the extra baggage charge of\",baggage_check(35),\"rupees\")\n",
    "update_baggage_limit(45)\n",
    "print(\"Pay the extra baggage charge of\",baggage_check(35),\"rupees\")\n",
    "useless_function_to_prove_a_point()  "
   ]
  },
  {
   "cell_type": "markdown",
   "id": "159824b6-d9f7-473a-b85b-4d92c85b6d0c",
   "metadata": {},
   "source": [
    "We cannot access a local variable directly without calling the function"
   ]
  },
  {
   "cell_type": "markdown",
   "id": "6052d0f6-be96-474c-a58c-d2b735ba3ec1",
   "metadata": {},
   "source": [
    "QUESTION : Write a Python function to find all the Strong numbers in a given list of numbers.\n",
    "Write another function to find and return the factorial of a number. Use it to solve the problem.\n"
   ]
  },
  {
   "cell_type": "code",
   "execution_count": 4,
   "id": "3abb2aad-260f-45bf-96f5-8e8411dc0039",
   "metadata": {},
   "outputs": [
    {
     "name": "stdout",
     "output_type": "stream",
     "text": [
      "[145, 2]\n"
     ]
    }
   ],
   "source": [
    "def factorial(number):\n",
    "    if(number == 0 or number == 1):\n",
    "        fact = 1\n",
    "    else:\n",
    "        fact = number * factorial(number - 1)\n",
    "    return fact\n",
    "\n",
    "\n",
    "def find_strong_numbers(num_list):\n",
    "    new_list =[]\n",
    "  \n",
    "    for x in num_list:\n",
    "        temp = x\n",
    "        sum = 0\n",
    "        while(temp):\n",
    "            rem = temp % 10\n",
    "            sum += factorial(rem)\n",
    "            temp = temp // 10\n",
    "        if(sum == x):\n",
    "            new_list.append(x)\n",
    "        else:\n",
    "            pass  \n",
    "              \n",
    "    return new_list\n",
    "\n",
    "\n",
    "num_list=[145,375,100,2,10]\n",
    "strong_num_list=find_strong_numbers(num_list)\n",
    "print(strong_num_list)"
   ]
  },
  {
   "cell_type": "markdown",
   "id": "3d749a5b-8f96-4adc-9035-0c082c6b8022",
   "metadata": {},
   "source": [
    "QUESTION : Write a python function, find_pairs_of_numbers() which accepts a list of positive integers with no repetitions and returns count of pairs of numbers in the list that adds up to n. The function should return 0, if no such pairs are found in the list."
   ]
  },
  {
   "cell_type": "code",
   "execution_count": 1,
   "id": "7ae893db-3ae4-442d-a9f8-a88f0a1d240a",
   "metadata": {},
   "outputs": [
    {
     "name": "stdout",
     "output_type": "stream",
     "text": [
      "2\n"
     ]
    }
   ],
   "source": [
    "def find_pairs_of_numbers(num_list,n):\n",
    "    count  = 0 \n",
    "    x  = len(num_list)\n",
    "    for i in range(0,x):\n",
    "        for j in range(i+1,x):\n",
    "            if num_list[i] + num_list[j]  == n :\n",
    "                count =  count + 1 \n",
    "    return count\n",
    "\n",
    "num_list=[1, 2, 4, 5, 6]\n",
    "n=6\n",
    "print(find_pairs_of_numbers(num_list,n))"
   ]
  },
  {
   "cell_type": "markdown",
   "id": "c3bc5c3a-5d26-4ad9-a8ca-80ce34761c8d",
   "metadata": {},
   "source": [
    "Consider sample data as follows: sample_data=range(1,11)\n",
    "\n",
    "Create two functions: odd() and even()\n",
    "The function even() returns a list of all the even numbers from sample_data\n",
    "The function odd() returns a list of all the odd numbers from sample_data\n",
    "\n",
    "Create a function sum_of_numbers() which will accept the sample data and/or a function.\n",
    "If a function is not passed, the sum_of_numbers() should return the sum of all the numbers from sample_data\n",
    "If a function is passed, the sum_of_numbers() should return the sum of numbers returned from the function passed."
   ]
  },
  {
   "cell_type": "code",
   "execution_count": 3,
   "id": "2428a927-8dbe-4da6-baa9-34ae43d6c34e",
   "metadata": {},
   "outputs": [
    {
     "name": "stdout",
     "output_type": "stream",
     "text": [
      "Even Numbers: [2, 4, 6, 8, 10]\n",
      "Odd Numbers: [1, 3, 5, 7, 9]\n",
      "55\n"
     ]
    }
   ],
   "source": [
    "def sum_of_numbers(list_of_num,filter_func=None):\n",
    "    num_sum = 0 \n",
    "    if filter_func is None: \n",
    "        for i in list_of_num: \n",
    "            num_sum = num_sum + i \n",
    "        print(\"Even Numbers:\", even(list_of_num)) \n",
    "        print(\"Odd Numbers:\", odd(list_of_num)) \n",
    "        return num_sum \n",
    "    else: \n",
    "        return filter_func(list_of_num)\n",
    "        \n",
    "\n",
    "def even(data):\n",
    "    even_list = list() \n",
    "    for i in data: \n",
    "        if i % 2 == 0: \n",
    "            even_list.append(i) \n",
    "    return even_list\n",
    "            \n",
    "\n",
    "def odd(data):\n",
    "    odd_list = list() \n",
    "    for i in data: \n",
    "        if i % 2 != 0: \n",
    "            odd_list.append(i) \n",
    "    return odd_list\n",
    "\n",
    "sample_data = range(1,11)\n",
    "\n",
    "print(sum_of_numbers(sample_data,None))"
   ]
  },
  {
   "cell_type": "markdown",
   "id": "3bf39396-0f2f-456b-a48e-fe9df4e2a1e7",
   "metadata": {},
   "source": [
    "Write a python function, check_double(number) which accepts a whole number and returns True if it satisfies the given conditions.\n",
    "\n",
    "The number and its double should have exactly the same number of digits.\n",
    "\n",
    "Both the numbers should have the same digits ,but in different order.\n",
    "\n",
    "Otherwise it should return False.\n",
    "\n",
    "Example: If the number is 125874 and its double, 251748, contain exactly the same digits, but in a different order."
   ]
  },
  {
   "cell_type": "code",
   "execution_count": 2,
   "id": "4117b285-e5ed-4ffe-b7e2-b455a1b6e68a",
   "metadata": {},
   "outputs": [
    {
     "name": "stdout",
     "output_type": "stream",
     "text": [
      "False\n"
     ]
    }
   ],
   "source": [
    "#lex_auth_01269441810970214471\n",
    "\n",
    "def check_double(number):\n",
    "    n2 =  number*2 \n",
    "    n2d = ndigits(n2)\n",
    "    numberd = ndigits(number)\n",
    "    n22 = nreverse(n2)\n",
    "    if n22 == number  and n2d == numberd:\n",
    "        return True\n",
    "    else :\n",
    "        return False\n",
    "    \n",
    "    \n",
    "def ndigits(n1):\n",
    "    digits = 0\n",
    "    while(n1>0):\n",
    "        n1 = n1/10\n",
    "        digits = digits +1 \n",
    "    return digits\n",
    "        \n",
    "def nreverse(n1):\n",
    "    revs_number = 0   \n",
    "    while (n1 > 0): \n",
    "        remainder = n1 % 10  \n",
    "        revs_number = (revs_number * 10) + remainder  \n",
    "        n1 = n1 // 10  \n",
    "    return revs_number\n",
    "    \n",
    "#Provide different values for number and test your program\n",
    "print(check_double(125874))"
   ]
  },
  {
   "cell_type": "markdown",
   "id": "16aa12b6-6409-470b-92f8-3bd8c98d24c4",
   "metadata": {},
   "source": [
    "A teacher is in the process of generating few reports based on the marks scored by the students of her class in a project based assessment.\n",
    "Assume that the marks of her 10 students are available in a tuple. The marks are out of 25.\n",
    "\n",
    "Write a python program to implement the following functions:\n",
    "\n",
    "1. find_more_than_average(): Find and return the percentage of students who have scored more than the average mark of the class.\n",
    "\n",
    "2. generate_frequency(): Find how many students have scored the same marks. For example, how many have scored 0, how many have scored 1, how many have scored 3….how many have scored 25. The result should be populated in a list and returned.\n",
    "\n",
    "3. sort_marks(): Sort the marks in the increasing order from 0 to 25. The sorted values should be populated in a list and returned."
   ]
  },
  {
   "cell_type": "code",
   "execution_count": 3,
   "id": "b79b6263-38a8-41cf-bbcf-ecb99670a2d1",
   "metadata": {},
   "outputs": [
    {
     "name": "stdout",
     "output_type": "stream",
     "text": [
      "70\n",
      "[0, 0, 1, 0, 0, 1, 0, 0, 0, 0, 0, 0, 1, 0, 0, 0, 0, 0, 2, 0, 2, 1, 0, 0, 1, 1]\n",
      "[2, 5, 12, 18, 18, 20, 20, 21, 24, 25]\n"
     ]
    }
   ],
   "source": [
    "#lex_auth_01269438947391897654\n",
    "\n",
    "#Global variable\n",
    "list_of_marks=(12,18,25,24,2,5,18,20,20,21)\n",
    "\n",
    "def find_more_than_average():\n",
    "    global list_of_marks\n",
    "    avg = sum(list_of_marks)/ len(list_of_marks)\n",
    "    count = 0\n",
    "    for x in list_of_marks:\n",
    "        if x > avg :\n",
    "            count = count+1\n",
    "    return count*10\n",
    "    \n",
    "    \n",
    "def sort_marks():\n",
    "    global list_of_marks\n",
    "    return sorted(list_of_marks)\n",
    "\n",
    "def generate_frequency():\n",
    "    global list_of_marks\n",
    "    total = list()\n",
    "    for x in range(0,26):\n",
    "        count = 0\n",
    "        for y in list_of_marks:\n",
    "            if x == y :\n",
    "                count = count+1\n",
    "        total.append(count)\n",
    "    return total\n",
    "\n",
    "print(find_more_than_average())\n",
    "print(generate_frequency())\n",
    "print(sort_marks())"
   ]
  },
  {
   "cell_type": "markdown",
   "id": "1840ed91-9e1b-4d60-a672-b6f004b63465",
   "metadata": {},
   "source": [
    "***TRY AND EXCEPT***"
   ]
  },
  {
   "cell_type": "code",
   "execution_count": 6,
   "id": "dab6e26c-1291-45ff-848e-ca78fc4b5710",
   "metadata": {},
   "outputs": [
    {
     "name": "stdout",
     "output_type": "stream",
     "text": [
      "Some error occured\n",
      "Returning back from function.\n",
      "600\n"
     ]
    }
   ],
   "source": [
    "#calculating airport expenditure\n",
    "def calculate_expenditure(list_of_expenditure):\n",
    "    total=0\n",
    "    try:\n",
    "        for expenditure in list_of_expenditure:\n",
    "            total+=expenditure\n",
    "        print(total)\n",
    "    except:\n",
    "        print(\"Some error occured\")\n",
    "    print(\"Returning back from function.\")\n",
    "    print(total)\n",
    "\n",
    "list_of_values=[100,200,300,\"400\",500]\n",
    "calculate_expenditure(list_of_values)"
   ]
  },
  {
   "cell_type": "code",
   "execution_count": 1,
   "id": "22665079-dd11-4909-aa8d-7dc54cf8cbfd",
   "metadata": {},
   "outputs": [
    {
     "name": "stdout",
     "output_type": "stream",
     "text": [
      "Total: 1500\n",
      "Name error occured\n"
     ]
    }
   ],
   "source": [
    "def calculate_sum(list_of_expenditure):\n",
    "    total=0\n",
    "    try:\n",
    "        for expenditure in list_of_expenditure:\n",
    "            total+=expenditure\n",
    "        print(\"Total:\",total)\n",
    "        avg=total/no_values\n",
    "        print(\"Average:\",avg)\n",
    "    except ZeroDivisionError:\n",
    "        print(\"Divide by Zero error\")\n",
    "    except TypeError:\n",
    "        print(\"Wrong data type\")\n",
    "\n",
    "try:\n",
    "    list_of_values=[100,200,300,400,500]\n",
    "    num_values=len(list_of_values)\n",
    "    calculate_sum(list_of_values)\n",
    "except NameError:\n",
    "    print(\"Name error occured\")\n",
    "except:\n",
    "    print(\"Some error occured\")\n"
   ]
  },
  {
   "cell_type": "code",
   "execution_count": 2,
   "id": "ca377c94-ef17-4f07-b195-c14b569eb2f5",
   "metadata": {},
   "outputs": [
    {
     "name": "stdout",
     "output_type": "stream",
     "text": [
      "Value Error Occurred\n",
      "Take the card out of ATM\n"
     ]
    }
   ],
   "source": [
    "balance=1000\n",
    "amount=\"300Rs\"\n",
    "def take_card():\n",
    "    print(\"Take the card out of ATM\")\n",
    "try:\n",
    "    if balance>=int(amount):\n",
    "        print(\"Withdraw\")\n",
    "    else:\n",
    "        print(\"Invalid amount\")\n",
    "\n",
    "except TypeError:\n",
    "    print(\"Type Error Occurred\")\n",
    "except ValueError:\n",
    "    print(\"Value Error Occurred\")\n",
    "except:\n",
    "    print(\"Some error Occurred\")\n",
    "finally:\n",
    "    take_card()\n"
   ]
  },
  {
   "cell_type": "code",
   "execution_count": 4,
   "id": "661ffc2f-20da-4c41-ac8d-fede47ac06b7",
   "metadata": {},
   "outputs": [
    {
     "name": "stdout",
     "output_type": "stream",
     "text": [
      "Inside function\n"
     ]
    }
   ],
   "source": [
    "\n",
    "def divide(num1, num2):\n",
    "    try:\n",
    "        num3 = num1 / num2\n",
    "        print(num3)\n",
    "    except:\n",
    "        print(\"Inside function\")\n",
    "try:\n",
    "    divide(100, 0)\n",
    "except:\n",
    "    print(\"Outside function\")\n",
    "\n"
   ]
  },
  {
   "cell_type": "code",
   "execution_count": 6,
   "id": "6762e44a-acda-41b6-83f2-270ac826bf9d",
   "metadata": {},
   "outputs": [
    {
     "name": "stdout",
     "output_type": "stream",
     "text": [
      "Wrong data type\n",
      "Average marks: None\n"
     ]
    }
   ],
   "source": [
    "def find_average(mark_list):\n",
    "    total = 0\n",
    "    try:\n",
    "        for i in range(0, len(mark_list)):\n",
    "            total += mark_list[i]\n",
    "        marks_avg = total / len(mark_list)\n",
    "        return marks_avg\n",
    "\n",
    "    except ZeroDivisionError:\n",
    "        print(\"Divide by Zero error\")\n",
    "    except TypeError:\n",
    "        print(\"Wrong data type\")\n",
    "    except:\n",
    "        print(\"Some error occured\")\n",
    "\n",
    "m_list = [1,\" 2\", 3, 4]\n",
    "print(\"Average marks:\", find_average(m_list))\n"
   ]
  },
  {
   "cell_type": "markdown",
   "id": "4e910c82-bc53-48fd-afd7-8e03ae468042",
   "metadata": {},
   "source": [
    "*****RECURSION*****"
   ]
  },
  {
   "cell_type": "markdown",
   "id": "53a5f9a6-2cda-464f-8039-b09bbbf54f14",
   "metadata": {},
   "source": [
    "In recursion, two things are important – termination condition and recursive call. Recursive call invokes itself with a smaller argument and termination condition helps to terminate the recursive calls.\n"
   ]
  },
  {
   "cell_type": "code",
   "execution_count": 2,
   "id": "0efeb28c-4cb5-4efe-a4e7-d785490e223c",
   "metadata": {},
   "outputs": [
    {
     "name": "stdout",
     "output_type": "stream",
     "text": [
      "Total weight of human tower:  16200\n"
     ]
    }
   ],
   "source": [
    "def human_tower(no_of_people):\n",
    "    if(no_of_people==1):\n",
    "        return 1*(50)\n",
    "    else:\n",
    "        return no_of_people*(50)+human_tower(no_of_people-2)\n",
    "print(\"Total weight of human tower: \",human_tower(35))\n"
   ]
  },
  {
   "cell_type": "code",
   "execution_count": 1,
   "id": "bb474287-5547-48c8-b051-2abad1e9e388",
   "metadata": {},
   "outputs": [],
   "source": [
    "import turtle\n",
    "\n",
    "my_turtle = turtle.Turtle()\n",
    "my_win = turtle.Screen()\n",
    "my_win.setup(500, 500)\n",
    "\n",
    "\n",
    "def draw_spiral(my_turtle, line_len):\n",
    "   if line_len <= 0:  # works till length is greater than 0\n",
    "       return\n",
    "   else:\n",
    "       my_turtle.forward(line_len)\n",
    "       my_turtle.right(90)\n",
    "       draw_spiral(my_turtle, line_len - 10)  # recursive call\n",
    "\n",
    "\n",
    "draw_spiral(my_turtle, 160)\n",
    "\n",
    "# Write the logic to take the turtle to its destination\n",
    "# Refer the statements given above to draw the pattern\n",
    "\n",
    "# Provide different values and test your program\n",
    "destination = \"south\""
   ]
  },
  {
   "cell_type": "code",
   "execution_count": 4,
   "id": "a063411c-70cf-4d46-8a0c-34c0d011fbbd",
   "metadata": {},
   "outputs": [
    {
     "name": "stdout",
     "output_type": "stream",
     "text": [
      "Source: []\n",
      "Destination: ['blue', 'green', 'orange']\n"
     ]
    }
   ],
   "source": [
    "def tower_of_hanoi(n, source,destination,temp):\n",
    "    if(n==1):\n",
    "        disk=source.pop(0) #Removes the element in specified position\n",
    "        destination.insert(0,disk) #Inserts the given element in specified position\n",
    "        return\n",
    "    tower_of_hanoi(n-1, source, temp, destination)\n",
    "    disk=source.pop(0)\n",
    "    destination.insert(0,disk)\n",
    "    tower_of_hanoi(n-1, temp, destination, source)\n",
    "    return\n",
    "\n",
    "source=[\"blue\",\"green\",\"orange\"]\n",
    "destination=[]\n",
    "temp=[]\n",
    "tower_of_hanoi(3, source, destination, temp)\n",
    "print(\"Source:\",source)\n",
    "print(\"Destination:\",destination)\n",
    "\n"
   ]
  },
  {
   "cell_type": "markdown",
   "id": "088ab2a8-7d52-43ab-b852-7814363c0dc8",
   "metadata": {},
   "source": [
    "QUES What is the output of the following code snippet?\n",
    "def fun(number):\n",
    "    if(number<2):\n",
    "        return 1\n",
    "    elif(number/2==2):\n",
    "        return fun(number-1)\n",
    "    else:\n",
    "        return (number-1)*fun(number-1)\n",
    "\n",
    "print(fun(7))\n",
    "\n",
    "240\n"
   ]
  },
  {
   "cell_type": "markdown",
   "id": "d970898b-ed70-46d3-9b2d-b9f4de3a3d8c",
   "metadata": {},
   "source": [
    "\n",
    "Consider that the human tower is to be performed on a stage and the stage has a maximum weight limit. \n",
    "\n",
    "Write a python program to find the maximum number of people at the base level such that the total weight of tower does not exceed the maximum weight limit of the stage. \n",
    "\n",
    "Assume that:\n",
    "1. Each person weighs 50 kg \n",
    "2. There will always be odd number of men at the base level of the human tower.\n",
    "\n"
   ]
  },
  {
   "cell_type": "code",
   "execution_count": 5,
   "id": "e54c5d83-8a38-49b5-9f05-10afc5c5ba6e",
   "metadata": {},
   "outputs": [
    {
     "name": "stdout",
     "output_type": "stream",
     "text": [
      "9\n"
     ]
    }
   ],
   "source": [
    "\n",
    "#lex_auth_01269437527007232044\n",
    "\n",
    "def human_pyramid(no_of_people):\n",
    "    if ( no_of_people == 1):\n",
    "        return 1*50\n",
    "    else :\n",
    "        return no_of_people*50 + human_pyramid(no_of_people-2)\n",
    "\n",
    "def find_maximum_people(max_weight):\n",
    "    no_of_people=1\n",
    "    while ( human_pyramid(no_of_people) <= max_weight):\n",
    "        no_of_people += 2\n",
    "    return no_of_people\n",
    "\n",
    "#Provide different values for max_weight and test your program\n",
    "max_people=find_maximum_people(1050)\n",
    "print(max_people)\n"
   ]
  },
  {
   "cell_type": "markdown",
   "id": "ab7ea648-b8ba-42e2-9ce1-4a3b30880f3b",
   "metadata": {},
   "source": [
    "QUES. Write a recursive function, is_palindrome() to find out whether a string is a palindrome or not. The function should return true, if it is a palindrome. Else it should return false. \n",
    "\n",
    "Note- Perform case insensitive operations wherever necessary."
   ]
  },
  {
   "cell_type": "code",
   "execution_count": 1,
   "id": "8caf4a1e-6e8d-4963-8832-4686984f6b1c",
   "metadata": {},
   "outputs": [
    {
     "name": "stdout",
     "output_type": "stream",
     "text": [
      "The given word is a Palindrome\n"
     ]
    }
   ],
   "source": [
    "#lex_auth_01269442114344550475\n",
    "\n",
    "def is_palindrome(word):\n",
    "    str1 = word[::-1]\n",
    "    str1 = str1.lower()\n",
    "    word = word.lower()\n",
    "    if str1 == word :\n",
    "        return True\n",
    "    else : \n",
    "        return False\n",
    "\n",
    "#Provide different values for word and test your program\n",
    "result=is_palindrome(\"MadAM\")\n",
    "if(result):\n",
    "    print(\"The given word is a Palindrome\")\n",
    "else:\n",
    "    print(\"The given word is not a Palindrome\")"
   ]
  },
  {
   "cell_type": "markdown",
   "id": "f1a8005e-1b4b-4bfa-8c2f-62bcef82c2b5",
   "metadata": {},
   "source": [
    "QUES Given a number n, write a program to find the sum of the largest prime factors of each of nine consecutive numbers starting from n.\n",
    "g(n) = f(n) + f(n+1) + f(n+2) + f(n+3) + f(n+4) + f(n+5) + f(n+6) + f(n+7) + f(n+8)\n",
    "where, g(n) is the sum and f(n) is the largest prime factor of n\n",
    "\n",
    "For example,\n",
    "g(10)=f(10)+f(11)+f(12)+f(13)+f(14)+f(15)+f(16)+f(17)+f(18) \n",
    "        =5 + 11 + 3 + 13 + 7 + 5 + 2 + 17 + 3 \n",
    "        =66 "
   ]
  },
  {
   "cell_type": "code",
   "execution_count": 17,
   "id": "cd5871bb-161b-4deb-bbb0-aefe58246130",
   "metadata": {},
   "outputs": [
    {
     "name": "stdout",
     "output_type": "stream",
     "text": [
      "69\n"
     ]
    }
   ],
   "source": [
    "#lex_auth_01269442963365068878\n",
    "\n",
    "def find_factors(num):\n",
    "    factors = []\n",
    "    for i in range(1,(num+1)):\n",
    "        if(num%i==0):\n",
    "            factors.append(i)\n",
    "    return factors\n",
    "\n",
    "def is_prime(num):\n",
    "    #Accepts the number num and num/2 --> i and returns True if the number is prime ,else returns False\n",
    "    count = 0\n",
    "    for i in range(int(num/2),2, -1):\n",
    "        if(num%i==0):\n",
    "            count = 1\n",
    "    if count == 0 :\n",
    "        return True\n",
    "    else :\n",
    "        return False\n",
    "\n",
    "def find_largest_prime_factor(list_of_factors):\n",
    "    #Accepts the list of factors and returns the largest prime factor\n",
    "    primel = []\n",
    "    for x in list_of_factors:\n",
    "        if is_prime(x):\n",
    "            primel.append(x)\n",
    "    return max(primel)\n",
    "\n",
    "def find_f(num):\n",
    "    return find_largest_prime_factor(find_factors(num))\n",
    "\n",
    "def find_g(num):\n",
    "    #Accepts the number and returns the sum of the largest prime factors of the 9 consecutive numbers starting from the given number\n",
    "    sum = 0\n",
    "    for y in range(num,num+9):\n",
    "        sum += find_f(y)\n",
    "    return sum\n",
    "#Note: Invoke function(s) from other function(s), wherever applicable.\n",
    "print(find_g(10))"
   ]
  },
  {
   "cell_type": "markdown",
   "id": "3bbefad3-bf4a-4453-b324-bc2c478d981d",
   "metadata": {},
   "source": [
    ">>QUES Write a python function find_smallest_number() which accepts a number n and returns the smallest number having n divisors.\n",
    "Handle the possible errors in the code written inside the function."
   ]
  },
  {
   "cell_type": "code",
   "execution_count": 2,
   "id": "a627ce05-0eda-47cb-903e-9afd29f3f3ba",
   "metadata": {},
   "outputs": [
    {
     "name": "stdout",
     "output_type": "stream",
     "text": [
      "The number of divisors : 16\n",
      "[1, 2, 3, 4, 5, 6, 8, 10, 12, 15, 20, 24, 30, 40, 60, 120]\n",
      "The smallest number having 16  divisors: 120\n"
     ]
    }
   ],
   "source": [
    "def find_factors(num):\n",
    "    #Accepts a number and returns the list of all the factors of a given number\n",
    "    factors = []\n",
    "    for i in range(1,(num+1)):\n",
    "        if(num%i==0):\n",
    "            factors.append(i)\n",
    "    return factors\n",
    "\n",
    "def find_smallest_number(num):\n",
    "    i=int(1)\n",
    "    while(True):\n",
    "        x=find_factors(i)\n",
    "        if(len(x)==num):\n",
    "            print(x)\n",
    "            break\n",
    "        else:\n",
    "            i=i+int(1)\n",
    "    return x[-1]\n",
    "    #start writing your code here\n",
    "\n",
    "num=16\n",
    "print(\"The number of divisors :\",num)\n",
    "result=find_smallest_number(num)\n",
    "print(\"The smallest number having\",num,\" divisors:\",result)"
   ]
  },
  {
   "cell_type": "markdown",
   "id": "a997941b-3666-4cc8-9051-ec7bad720e3e",
   "metadata": {},
   "source": [
    "QUES.\n",
    "A 10-substring of a number is a substring of its digits that sum up to 10.\n",
    "\n",
    "For example, the 10-substrings of the number 3523014 are:\n",
    "3523014, 3523014, 3523014, 3523014\n",
    "\n",
    "Write a python function, find_ten_substring(num_str) which accepts a string and returns the list of 10-substrings of that string."
   ]
  },
  {
   "cell_type": "code",
   "execution_count": 8,
   "id": "9c9e1a7d-de15-4737-ad6d-50cbd0e75d89",
   "metadata": {},
   "outputs": [
    {
     "name": "stdout",
     "output_type": "stream",
     "text": [
      "The number is: 2825302\n",
      "['28', '82', '253', '2530', '5302']\n"
     ]
    }
   ],
   "source": [
    "\n",
    "def find_ten_substring(num_str):\n",
    "    list1 = []\n",
    "    for i in range(len(num_str)):\n",
    "        sum = 0\n",
    "        for j in range(i,len(num_str)):\n",
    "            sum += int(num_str[j])\n",
    "            if sum == 10:\n",
    "                list1.append(num_str[i:j+1])\n",
    "    return list1\n",
    "    \n",
    "\n",
    "num_str=\"2825302\"\n",
    "print(\"The number is:\",num_str)\n",
    "result_list=find_ten_substring(num_str)\n",
    "print(result_list)"
   ]
  },
  {
   "cell_type": "markdown",
   "id": "ec20af57-3edb-4c11-a49f-218c8f3c190b",
   "metadata": {},
   "source": [
    ">>QUES :Write a python function find_duplicates(), which accepts a list of numbers and returns another list containing all the duplicate values in the input list and the order should be same as in the input list. If there are no duplicate values, it should return an empty list."
   ]
  },
  {
   "cell_type": "markdown",
   "id": "6c01dfb6-6f1a-4cd2-9326-3c12e263462f",
   "metadata": {},
   "source": [
    "**DICT  IMPORTANT**"
   ]
  },
  {
   "cell_type": "code",
   "execution_count": 12,
   "id": "fb4069b9-ac1f-4173-9577-b124f765d928",
   "metadata": {},
   "outputs": [
    {
     "name": "stdout",
     "output_type": "stream",
     "text": [
      "[2, 3, 4]\n"
     ]
    }
   ],
   "source": [
    "def find_duplicates(list_of_numbers):\n",
    "    dict = {}\n",
    "    for n in list_of_numbers:\n",
    "        keys = dict.keys() \n",
    "        if n in keys:\n",
    "            dict[n] += 1 \n",
    "        else:\n",
    "            dict[n] = 1 \n",
    "    list1 =[]\n",
    "    for n in dict :\n",
    "        if dict[n] > 1:\n",
    "            list1.append(n)\n",
    "    return list1\n",
    "\n",
    "\n",
    "list_of_numbers=[1,2,2,3,3,3,4,4,4,4]\n",
    "list_of_duplicates=find_duplicates(list_of_numbers)\n",
    "print(list_of_duplicates)"
   ]
  },
  {
   "cell_type": "markdown",
   "id": "f32ae24b-6410-4b3b-b787-52d3f7f537df",
   "metadata": {},
   "source": [
    "***MODULES AND PACKAGES***"
   ]
  },
  {
   "cell_type": "code",
   "execution_count": null,
   "id": "885e1f8c-e696-4791-aaa6-9420f67912af",
   "metadata": {},
   "outputs": [
    {
     "ename": "ModuleNotFoundError",
     "evalue": "No module named 'Flights'",
     "output_type": "error",
     "traceback": [
      "\u001b[0;31m---------------------------------------------------------------------------\u001b[0m",
      "\u001b[0;31mModuleNotFoundError\u001b[0m                       Traceback (most recent call last)",
      "\u001b[0;32m/var/folders/y9/7jjg2kks2396zw687mh2t7vc0000gn/T/ipykernel_989/4050574987.py\u001b[0m in \u001b[0;36m<module>\u001b[0;34m\u001b[0m\n\u001b[0;32m----> 1\u001b[0;31m \u001b[0;32mfrom\u001b[0m \u001b[0mFlights\u001b[0m \u001b[0;32mimport\u001b[0m \u001b[0mManageFlights\u001b[0m \u001b[0;31m#from packagename import modulename\u001b[0m\u001b[0;34m\u001b[0m\u001b[0;34m\u001b[0m\u001b[0m\n\u001b[0m\u001b[1;32m      2\u001b[0m \u001b[0mManageFlights\u001b[0m\u001b[0;34m.\u001b[0m\u001b[0madd\u001b[0m\u001b[0;34m(\u001b[0m\u001b[0;36m10\u001b[0m\u001b[0;34m)\u001b[0m\u001b[0;34m\u001b[0m\u001b[0;34m\u001b[0m\u001b[0m\n",
      "\u001b[0;31mModuleNotFoundError\u001b[0m: No module named 'Flights'"
     ]
    }
   ],
   "source": [
    "from Flights import ManageFlights #from packagename import modulename\n",
    "ManageFlights.add(10)\n"
   ]
  },
  {
   "cell_type": "code",
   "execution_count": 15,
   "id": "44ea5b50-ccba-4c55-9ce9-2ed14245f5dd",
   "metadata": {},
   "outputs": [
    {
     "ename": "ModuleNotFoundError",
     "evalue": "No module named 'Flights'",
     "output_type": "error",
     "traceback": [
      "\u001b[0;31m---------------------------------------------------------------------------\u001b[0m",
      "\u001b[0;31mModuleNotFoundError\u001b[0m                       Traceback (most recent call last)",
      "\u001b[0;32m/var/folders/y9/7jjg2kks2396zw687mh2t7vc0000gn/T/ipykernel_989/1621368785.py\u001b[0m in \u001b[0;36m<module>\u001b[0;34m\u001b[0m\n\u001b[0;32m----> 1\u001b[0;31m \u001b[0;32mimport\u001b[0m \u001b[0mFlights\u001b[0m\u001b[0;34m.\u001b[0m\u001b[0mManageFlights\u001b[0m \u001b[0;31m#import packagename.modulename\u001b[0m\u001b[0;34m\u001b[0m\u001b[0;34m\u001b[0m\u001b[0m\n\u001b[0m\u001b[1;32m      2\u001b[0m \u001b[0mFlights\u001b[0m\u001b[0;34m.\u001b[0m\u001b[0mManageFlights\u001b[0m\u001b[0;34m.\u001b[0m\u001b[0madd\u001b[0m\u001b[0;34m(\u001b[0m\u001b[0;36m10\u001b[0m\u001b[0;34m)\u001b[0m\u001b[0;34m\u001b[0m\u001b[0;34m\u001b[0m\u001b[0m\n",
      "\u001b[0;31mModuleNotFoundError\u001b[0m: No module named 'Flights'"
     ]
    }
   ],
   "source": [
    "import Flights.ManageFlights #import packagename.modulename\n",
    "Flights.ManageFlights.add(10)\n"
   ]
  },
  {
   "cell_type": "markdown",
   "id": "20b24f8c-70f3-442c-8253-ac655dd995db",
   "metadata": {},
   "source": [
    "Choose TWO CORRECT options.\n",
    "Q1\n",
    "ticket_data.py\n",
    "\n",
    "ticket_list = [\"AI567\", \"AI077\", \"BA896\", \"SI267\", \"AI077\", \"SI267\",\"AI567\"]\n",
    "def get_ticket_data():  #function to return the ticket_list\n",
    "    return ticket_list\n",
    "logic.py\n",
    "\n",
    "(1)____________________________\n",
    "def find_passengers_flight(airline_name):\n",
    "    # get the ticket list using get_ticket_data function from ticket_data.py module\n",
    "    ticket_list = (2)_____________________\n",
    "    count=0\n",
    "    for ticket in ticket_list:\n",
    "        if(ticket.startswith(airline_name)):\n",
    "            count+=1\n",
    "    return count\n",
    "menu.py\n",
    "\n",
    "(3)__________________________________________\n",
    "airline_name = input(\"Enter airline name : \")\n",
    "no_of_passengers = find_passengers_flight(airline_name)\n",
    "print(\"No of passengers in \", airline_name, \":\", no_of_passengers )\n",
    " \n",
    "\n",
    "1- from ticket_data import get_ticket_data 2 - get_ticket_data() 3 - from logic import find_passengers_flight\n",
    "1- from ticket_data import get_ticket_data 2 - get_ticket_data() 3 - import logic\n",
    "1- import ticket_data 2 - ticket_data.get_ticket_data() 3 - from logic import find_passengers_flight\n",
    "1- import ticket_data 2 - get_ticket_data() 3 - from logic import find_passengers_flight\n",
    "\n",
    "CORRECT :\n",
    "Option 1- from ticket_data import get_ticket_data 2 - get_ticket_data() 3 - from logic import find_passengers_flight is Correct\n",
    "\n",
    "Option 1- import ticket_data 2 - ticket_data.get_ticket_data() 3 - from logic import find_passengers_flight is Correct\n",
    "\n",
    "\n",
    "\n"
   ]
  },
  {
   "cell_type": "markdown",
   "id": "099c8fad-c8ad-44a5-bddf-5fe205acb926",
   "metadata": {},
   "source": [
    "Q2\n",
    "of 2\n",
    "Consider an application with the file structure as shown below :\n",
    "\n",
    "Which of the following statements are correct to import function_1 from Data.loader.py into UserInterface.menu.py ?\n",
    "\n",
    "Choose TWO CORRECT options.\n",
    "\n",
    "1)from Data.loader import function_1 as loader_function1\n",
    "2)from Data.loader import function_1 as function_1\n",
    "3)from Data.loader import function1\n",
    "4)from Data.loader import function_1 as new_function\n",
    "\n",
    "CORRECT :\n",
    "1 AND 2"
   ]
  },
  {
   "cell_type": "markdown",
   "id": "76acd51b-2f7d-4e3b-9a86-643445dc927e",
   "metadata": {},
   "source": [
    "***FILE HANDLING***"
   ]
  },
  {
   "cell_type": "markdown",
   "id": "852a861d-f9bc-4230-bf43-168fa105cbab",
   "metadata": {},
   "source": [
    "Python allows to create files, read from files, write content to file and append content to existing content through inbuilt functions!\n",
    "\n",
    "Method\n",
    "\n",
    "Description\n",
    "\n",
    "open(file_path,operation)\n",
    "\n",
    "This method is used to open the file for the specified operation. The operation can either be r,w,a for read, write and append.\n",
    "\n",
    "close()\n",
    "\n",
    "This method is used to close a file which is already open.\n",
    "\n",
    "write()\n",
    "\n",
    "This method is used to write a string to a file, if file is present. If not, it creates the file and writes the string into it.\n",
    "\n",
    "read()\n",
    "\n",
    "This method is used to read all the contents of a file into a string."
   ]
  },
  {
   "cell_type": "markdown",
   "id": "dee0b0fe-5718-4def-b249-c8460456fe96",
   "metadata": {},
   "source": [
    "The number of files that can be simultaneously opened by a program is limited. So it is very important to close all the files, once the operations are completed."
   ]
  },
  {
   "cell_type": "code",
   "execution_count": 3,
   "id": "c1600911-9f47-41ad-80b2-7dc90f6a3250",
   "metadata": {},
   "outputs": [],
   "source": [
    "flight_file=open(\"flight.txt\",\"w\")\n",
    "flight_file.write(\"Hello\")\n",
    "flight_file.close()"
   ]
  },
  {
   "cell_type": "code",
   "execution_count": 4,
   "id": "f927e2dd-38e8-47f7-b403-239d9fab2aef",
   "metadata": {},
   "outputs": [
    {
     "name": "stdout",
     "output_type": "stream",
     "text": [
      "Hello\n",
      "Error occurred\n",
      "File is open\n"
     ]
    }
   ],
   "source": [
    "try:\n",
    "    flight_file=open(\"flight.txt\",\"r\")\n",
    "    text=flight_file.read()\n",
    "    print(text)\n",
    "    flight_file.write(\",Good Morning\")\n",
    "    flight_file.close()\n",
    "except:\n",
    "    print(\"Error occurred\")\n",
    "    if flight_file.closed:\n",
    "        print(\"File is closed\")\n",
    "    else:\n",
    "        print(\"File is open\")\n"
   ]
  },
  {
   "cell_type": "code",
   "execution_count": 7,
   "id": "d8f8b615-9ee0-4062-85e2-248a095b51d3",
   "metadata": {},
   "outputs": [
    {
     "name": "stdout",
     "output_type": "stream",
     "text": [
      "Hello\n",
      "Error occurred\n",
      "File is open\n"
     ]
    }
   ],
   "source": [
    "try:\n",
    "    flight_file=open(\"flight.txt\",\"r\")\n",
    "    text=flight_file.read()\n",
    "    print(text)\n",
    "    flight_file.write(\",Good Morning\") #Exception occurs in this line\n",
    "    flight_file.close()#This line will not be executed\n",
    "except:\n",
    "    print(\"Error occurred\")\n",
    "    if flight_file.closed:\n",
    "        print(\"File is closed\")\n",
    "    else:\n",
    "        print(\"File is open\")\n"
   ]
  },
  {
   "cell_type": "code",
   "execution_count": 8,
   "id": "bcd92b1e-f53e-44a4-b96d-36f93d4c5f00",
   "metadata": {},
   "outputs": [
    {
     "name": "stdout",
     "output_type": "stream",
     "text": [
      "Hello\n",
      "Error occurred\n",
      "File is being closed\n",
      "File is closed\n"
     ]
    }
   ],
   "source": [
    "try:\n",
    "    flight_file=open(\"flight.txt\",\"r\")\n",
    "    text=flight_file.read()\n",
    "    print(text)\n",
    "    flight_file.write(\",Good Morning\")\n",
    "except:\n",
    "    print(\"Error occurred\")\n",
    "finally:\n",
    "    print(\"File is being closed\")\n",
    "    flight_file.close()\n",
    "    if flight_file.closed:\n",
    "        print(\"File is closed\")\n",
    "    else:\n",
    "        print(\"File is open\")\n"
   ]
  },
  {
   "cell_type": "markdown",
   "id": "a52d37be-175a-4830-a2af-b214443fbbd2",
   "metadata": {},
   "source": [
    "code 1:"
   ]
  },
  {
   "cell_type": "code",
   "execution_count": 13,
   "id": "e675e36f-b4bf-442e-b296-dfdc4b80bfe9",
   "metadata": {},
   "outputs": [
    {
     "name": "stdout",
     "output_type": "stream",
     "text": [
      "Error Occurred, not able to read from file\n"
     ]
    }
   ],
   "source": [
    "try:\n",
    "    hello_file=open(\"flight.txt\",\"w\")\n",
    "    text=\"Hello everyone! Welcome\"\n",
    "    hello_file.write(text)\n",
    "except:\n",
    "    print(\"Error occurred, not able to write to file\")\n",
    "finally:\n",
    "    hello_file.close()\n",
    "try:\n",
    "    hello_file=open(\"flights.txt\",\"r\")\n",
    "    text_from_file=hello_file.read()\n",
    "    print(text_from_file)\n",
    "except:\n",
    "    print(\"Error Occurred, not able to read from file\")\n",
    "finally:\n",
    "    hello_file.close()\n"
   ]
  },
  {
   "cell_type": "markdown",
   "id": "fdbc2ea0-732e-49d2-bc50-bc6eb0a7bd0d",
   "metadata": {},
   "source": [
    "code 2 :\n",
    "    "
   ]
  },
  {
   "cell_type": "code",
   "execution_count": 12,
   "id": "1aac1937-df1f-4992-bf82-61a198fff218",
   "metadata": {},
   "outputs": [
    {
     "name": "stdout",
     "output_type": "stream",
     "text": [
      "Hello everyone! Welcome\n"
     ]
    }
   ],
   "source": [
    "try:\n",
    "    hello_file=open(\"flight.txt\",\"w\")\n",
    "    text=\"Hello everyone! Welcome\"\n",
    "    hello_file.write(text)\n",
    "except:\n",
    "    print(\"Error occurred, not able to write to file\")\n",
    "finally:\n",
    "    hello_file.close()\n",
    "try:\n",
    "    hello_file=open(\"flight.txt\",\"r\")\n",
    "    text_from_file=hello_file.read()\n",
    "    print(text_from_file)\n",
    "except:\n",
    "    print(\"Error Occurred, not able to read from file\")\n",
    "finally:\n",
    "    hello_file.close()\n"
   ]
  },
  {
   "cell_type": "markdown",
   "id": "6e5cb68c-6a25-48a8-886a-9936d652a3c0",
   "metadata": {},
   "source": [
    ">>Q1.Write a python function, check_anagram() which accepts two strings and returns True, if one string is a special anagram of another string. Otherwise returns False.\n",
    "\n",
    "The two strings are considered to be a special anagram if they contain repeating characters but none of the characters repeat at the same position. The length of the strings should be the same.\n",
    "\n",
    "Note: Perform case insensitive comparison wherever applicable."
   ]
  },
  {
   "cell_type": "code",
   "execution_count": 23,
   "id": "a750959e-a8f2-46c1-9e85-9b365a9e6504",
   "metadata": {},
   "outputs": [
    {
     "name": "stdout",
     "output_type": "stream",
     "text": [
      "True\n"
     ]
    }
   ],
   "source": [
    "def check_anagram(data1,data2):\n",
    "    flag = 0\n",
    "    for i in range(len(data1)):\n",
    "        for j in range(len(data2)):\n",
    "            if ( data1[i].upper() == data2[j].upper() and i != j):\n",
    "                flag += 1\n",
    "    if flag >= len(data1):\n",
    "        return True\n",
    "    else:\n",
    "        return False\n",
    "            \n",
    "\n",
    "print(check_anagram(\"Schoolmaster\",\"Theclassroom\"))"
   ]
  },
  {
   "cell_type": "markdown",
   "id": "aec25d71-30c5-4648-845e-a669bd586280",
   "metadata": {},
   "source": [
    ">>Q2.Write a python function, remove_duplicates() which accepts a string and removes all duplicate characters from the given string and return it."
   ]
  },
  {
   "cell_type": "code",
   "execution_count": 32,
   "id": "52713a68-0fb3-4a61-b981-a654345cf8af",
   "metadata": {},
   "outputs": [
    {
     "name": "stdout",
     "output_type": "stream",
     "text": [
      "123456abz@#*\n"
     ]
    }
   ],
   "source": [
    "def remove_duplicates(value):\n",
    "    listd =[]\n",
    "    for i in value :\n",
    "        if i not in listd:\n",
    "            listd.append(i)\n",
    "    return (''.join(listd))\n",
    "\n",
    "print(remove_duplicates(\"11223445566666ababzzz@@@123#*#*\"))"
   ]
  },
  {
   "cell_type": "markdown",
   "id": "76f46761-9099-4c77-bd67-ebce4919f056",
   "metadata": {},
   "source": [
    ">>Q3.Write a python function to check whether the given number is a perfect number or not. The function should returns true if the number is a perfect number, else it should returns false.\n",
    "\n",
    "Hint: Perfect number is a positive whole number that is equal to the sum of its proper divisors.\n",
    "The first perfect number is 6 as the sum of its proper positive divisors, 1,2 and 3 is 6. Other perfect numbers are 28, 496, 8128 ...\n",
    "\n",
    "Extend the program written for the above problem to write another function to find all perfect numbers in a given list of numbers. Populate the perfect numbers in a list and return the list. If no perfect numbers found, return an empty list."
   ]
  },
  {
   "cell_type": "code",
   "execution_count": 36,
   "id": "095272cb-2eb1-4fb4-8ce9-7ac4f6352825",
   "metadata": {},
   "outputs": [
    {
     "name": "stdout",
     "output_type": "stream",
     "text": [
      "[6, 28]\n"
     ]
    }
   ],
   "source": [
    "def find_factors(num):\n",
    "    #Accepts a number and returns the list of all the factors of a given number\n",
    "    factors = []\n",
    "    for i in range(1,(num)):\n",
    "        if(num%i==0):\n",
    "            factors.append(i)\n",
    "    return sum(factors)\n",
    "\n",
    "def check_perfect_number(number):\n",
    "    fac = find_factors(number)\n",
    "    if (fac == number):\n",
    "        return 0\n",
    "    else :\n",
    "        return 1\n",
    "    \n",
    "\n",
    "def check_perfectno_from_list(no_list):\n",
    "    list1 = []\n",
    "    for val in no_list:\n",
    "        if check_perfect_number(val)== 0:\n",
    "            list1.append(val)\n",
    "    return list1\n",
    "            \n",
    "        \n",
    "    \n",
    "\n",
    "perfectno_list=check_perfectno_from_list([18,6,4,2,1,28])\n",
    "print(perfectno_list)"
   ]
  },
  {
   "cell_type": "markdown",
   "id": "73d4c146-3e93-41c3-ac9f-f03459134153",
   "metadata": {},
   "source": [
    ">>\n",
    "Write a python program to help an airport manager to generate few statistics based on the ticket details available for a day."
   ]
  },
  {
   "cell_type": "code",
   "execution_count": 1,
   "id": "60dc3121-2f32-4efc-964f-8a15275eeb2b",
   "metadata": {},
   "outputs": [
    {
     "name": "stdout",
     "output_type": "stream",
     "text": [
      "6\n",
      "4\n",
      "['AI567:2', 'AI077:4', 'BA896:1', 'SI267:3']\n",
      "['AI077:4', 'SI267:3', 'AI567:2', 'BA896:1']\n"
     ]
    }
   ],
   "source": [
    "#Sample ticket list - ticket format: \"flight_no:source:destination:ticket_no\"\n",
    "#Note: flight_no has the following format - \"airline_name followed by three digit number\n",
    "\n",
    "#Global variable\n",
    "import operator\n",
    "\n",
    "ticket_list=[\"AI567:MUM:LON:014\",\"AI077:MUM:LON:056\", \"BA896:MUM:LON:067\", \"SI267:MUM:SIN:145\",\"AI077:MUM:CAN:060\",\"SI267:BLR:MUM:148\",\"AI567:CHE:SIN:015\",\"AI077:MUM:SIN:050\",\"AI077:MUM:LON:051\",\"SI267:MUM:SIN:146\"]\n",
    "\n",
    "def find_passengers_flight(airline_name=\"AI\"):\n",
    "    #This function finds and returns the number of passengers travelling in the specified airline.\n",
    "    count=0\n",
    "    for i in ticket_list:\n",
    "        string_list=i.split(\":\")\n",
    "        if(string_list[0].startswith(airline_name)):\n",
    "            count+=1\n",
    "    return count\n",
    "\n",
    "def find_passengers_destination(destination):\n",
    "    #Write the logic to find and return the number of passengers traveling to the specified destination\n",
    "    count=0\n",
    "    for i in ticket_list:\n",
    "        string_list=i.split(\":\")\n",
    "        if(string_list[2] == destination):\n",
    "            count+=1\n",
    "    return count\n",
    "    #Remove pass and write your logic here\n",
    "\n",
    "def find_passengers_per_flight():\n",
    "    '''Write the logic to find and return a list having number of passengers traveling per flight based on the details in the ticket_list\n",
    "    In the list, details should be provided in the format:\n",
    "    [flight_no:no_of_passengers, flight_no:no_of_passengers, etc.].'''\n",
    "    count=0\n",
    "    flight=[]\n",
    "    number_of_pass = []\n",
    "    for i in ticket_list:\n",
    "        string_list=i.split(\":\")\n",
    "        if string_list[0] in flight:\n",
    "            index = flight.index(string_list[0])\n",
    "            number_of_pass[index] +=1\n",
    "        else:\n",
    "            flight.append(string_list[0])\n",
    "            number_of_pass.append(1)\n",
    "    result_list = []\n",
    "    for i, j in zip(flight, number_of_pass):\n",
    "        result_list.append(str(i) + \":\" + str(j))\n",
    "    #Remove pass and write your logic here\n",
    "    return result_list\n",
    "\n",
    "def sort_passenger_list():\n",
    "    #Write the logic to sort the list returned from find_passengers_per_flight() function in the descending order of number of passengers\n",
    "    list_passenger_per_flight = find_passengers_per_flight()\n",
    "    dict1 = {}\n",
    "    print(list_passenger_per_flight)\n",
    "    for i in list_passenger_per_flight:\n",
    "        string_list=i.split(\":\")\n",
    "        dict1[string_list[0]] = int(string_list[1])\n",
    "    dict2 = []\n",
    "    for key, value in sorted(dict1.items(), key=lambda item: item[1], reverse = True):\n",
    "        dict2.append(str(key)+\":\"+str(value))\n",
    "    return dict2\n",
    "    #Remove pass and write your logic here\n",
    "\n",
    "#Provide different values for airline_name and destination and test your program.\n",
    "print(find_passengers_flight(\"AI\"))\n",
    "print(find_passengers_destination(\"LON\"))\n",
    "find_passengers_per_flight()\n",
    "print(sort_passenger_list())"
   ]
  },
  {
   "cell_type": "markdown",
   "id": "7f127153-0eda-430f-9936-fed7ef2d1f50",
   "metadata": {},
   "source": [
    ">>Write a python function, nearest_palindrome() which accepts a number and returns the nearest palindrome greater than the given number. "
   ]
  },
  {
   "cell_type": "code",
   "execution_count": 15,
   "id": "6c3ff5e4-3256-4740-9253-802b162ea827",
   "metadata": {},
   "outputs": [
    {
     "name": "stdout",
     "output_type": "stream",
     "text": [
      "12321\n"
     ]
    }
   ],
   "source": [
    "\n",
    "def is_palindrome(num):\n",
    "    num1 = num\n",
    "    str1 = str(num)\n",
    "    word = str1[::-1]\n",
    "    if str1 == word :\n",
    "        return True\n",
    "    else : \n",
    "        return False\n",
    "        \n",
    "        \n",
    "def nearest_palindrome(number):\n",
    "    if (is_palindrome(number)):\n",
    "        return number\n",
    "    else :\n",
    "        number = number+1\n",
    "        return nearest_palindrome(number)\n",
    "\n",
    "number=12300\n",
    "print(nearest_palindrome(number))"
   ]
  },
  {
   "cell_type": "markdown",
   "id": "716d8a99-eb9b-4b2a-94bf-2703f637b920",
   "metadata": {},
   "source": [
    ">>QUES\n",
    "The number, 197, is called a circular prime because all rotations of the digits: 197, 971, and 719, are themselves prime.\n",
    "\n",
    "There are thirteen such primes below 100: 2, 3, 5, 7, 11, 13, 17, 31, 37, 71, 73, 79, and 97.\n",
    "\n",
    "Write a python program to find and display the number of circular primes less than the given limit."
   ]
  },
  {
   "cell_type": "code",
   "execution_count": 17,
   "id": "5d7f0014-b8fa-451b-b03e-fb338fbde653",
   "metadata": {},
   "outputs": [
    {
     "name": "stdout",
     "output_type": "stream",
     "text": [
      "[2, 3, 5, 7, 11, 13, 17, 31, 37, 71, 73, 79, 97]\n"
     ]
    }
   ],
   "source": [
    "\n",
    "def check_prime(num):\n",
    "    flag = False\n",
    "    if num > 1: \n",
    "         for i in range(2, num):\n",
    "            if (num % i) == 0:\n",
    "                   flag = True\n",
    "                   break\n",
    "    if flag:\n",
    "        return False\n",
    "    else:\n",
    "        return True\n",
    "    \n",
    "\n",
    "def rotations(num):\n",
    "    num1 = str(num)\n",
    "    len1 = len(num1)\n",
    "    list1 = []\n",
    "    while (len1>0):\n",
    "        list1.append(num1)\n",
    "        num1 = num1[1:]+num1[0] \n",
    "        len1 = len1-1\n",
    "    return list1\n",
    "        \n",
    "        \n",
    "        \n",
    "\n",
    "def get_circular_prime_count(limit):\n",
    "    list3 = []\n",
    "    y = 2\n",
    "    while( y < limit):\n",
    "        list2 = rotations(y)\n",
    "        count = 0\n",
    "        for x in list2 :\n",
    "            if (check_prime(int(x))):\n",
    "                count +=1\n",
    "        if count==len(list2) and y >1:\n",
    "            list3.append(y)\n",
    "        y = y +1\n",
    "        \n",
    "    return list3\n",
    "        \n",
    "\n",
    "#Provide different values for limit and test your program\n",
    "print(get_circular_prime_count(100))"
   ]
  },
  {
   "cell_type": "markdown",
   "id": "6a0ba7d7-c25b-4237-9040-657af9898bea",
   "metadata": {},
   "source": [
    ">>QUES : Write a python program to validate the details provided by a user as part of registering to a web application.\n",
    "\n",
    "Write a function validate_name(name) to validate the user name\n",
    "    Name should not be empty, name should not exceed 15 characters\n",
    "    Name should contain only alphabets\n",
    "\n",
    "Write a function validate_phone_no(phoneno) to validate the phone number\n",
    "    Phone number should have 10 digits\n",
    "    Phone number should not have any characters or special characters\n",
    "    All the digits of the phone number should not be same.\n",
    "    Example: 9999999999 is not a valid phone number\n",
    "\n",
    "Write a function validate_email_id(email_id) to validate email Id\n",
    "    It should contain one '@' character and '.com'\n",
    "    '.com' should be present at the end of the email id.\n",
    "    Domain name should be either 'gmail', 'yahoo' or 'hotmail'\n",
    "Note: Consider the format of email id to be username@domain_name.com\n",
    "\n",
    "All the functions should return true if the corresponding value is valid. Otherwise, it should return false.\n",
    "\n",
    "Write a function validate_all(name,phone_no,email_id) which should invoke appropriate functions to validate the arguments passed to it and display appropriate message. Refer the comments provided in the code.\n",
    "\n",
    "Note: You may use str.isalpha(), str.isdigit() methods to check whether a string contains alphabets or digits alone."
   ]
  },
  {
   "cell_type": "code",
   "execution_count": 28,
   "id": "73c5264c-926e-4cb7-960a-2fb3966f030e",
   "metadata": {},
   "outputs": [
    {
     "name": "stdout",
     "output_type": "stream",
     "text": [
      "Invalid phone number\n"
     ]
    }
   ],
   "source": [
    "def validate_name(name):\n",
    "    if (len(name)>0 and len(name)<15 and name.isalpha() == True ):\n",
    "        return True\n",
    "    else :\n",
    "        return False\n",
    "\n",
    "def validate_phone_no(phno):\n",
    "    first = phno[0]\n",
    "    count = 0\n",
    "    for x in phno :\n",
    "        if x == first:\n",
    "            count += 1\n",
    "    if count == len(phno):\n",
    "        x = True \n",
    "    else : \n",
    "        x = False\n",
    "    if (x==False and len(phno) == 10 and  phno.isdigit() == True):\n",
    "        return True\n",
    "    else :\n",
    "        return False\n",
    "        \n",
    "        \n",
    "\n",
    "def validate_email_id(email_id):\n",
    "    string_list=email_id.split(\"@\")\n",
    "    if (string_list[1] == \"gmail.com\") and (string_list[1] == \"yahoo.com\") and (string_list[1] == \"hotmail.com\"):\n",
    "        return True\n",
    "    else : \n",
    "        return False\n",
    "\n",
    "def validate_all(name,phone_no,email_id):\n",
    "    if not validate_name(name):\n",
    "          print(\"Invalid Name\")\n",
    "    elif not validate_phone_no(phone_no):\n",
    "          print(\"Invalid phone number\")\n",
    "    elif not validate_email_id(email_id):\n",
    "          print(\"Invalid email id\")\n",
    "    else :\n",
    "        print(\"All the details are valid\")\n",
    "\n",
    "\n",
    "#Provide different values for name, phone_no and email_id and test your program\n",
    "validate_all(\"Tina\", \"999429998\", \"tina@aahoo.com\")"
   ]
  },
  {
   "cell_type": "markdown",
   "id": "fdda26fb-9ddd-4c76-aa75-f7744bb5dfb3",
   "metadata": {},
   "source": [
    ">>QUES Use Luhn algorithm to validate a credit card number.\n",
    "\n",
    "A credit card number has 16 digits, the last digit being the check digit. A credit card number can be validated using Luhn algorithm as follows:\n",
    "\n",
    "Step 1a: From the second last digit (inclusive), double the value of every second digit.\n",
    "Suppose the credit card number is 1456734512345698.\n",
    "Take the double of 9,5,3,1,4,7,5 and 1\n",
    "i.e., 18, 10, 6, 2, 8, 14, 10 and 2\n",
    "\n",
    "Note: If any number is greater than 9, then sum the digits of that number.\n",
    "i.e., 9, 1, 6, 2, 8, 5 ,1 and 2\n",
    "\n",
    "Step 1b: Sum the numbers obtained in Step 1a.\n",
    "i.e., 34\n",
    "\n",
    "Step 2: Sum the remaining digits in the credit card and add it with the sum from Step 1b.\n",
    "i.e., 34 + (8+6+4+2+5+3+6+4) = 72\n",
    "\n",
    "Step 3: If the total is divisible by 10 then the number is valid else it is not valid.\n",
    "\n",
    "Write a function, validate_credit_card_number(), which accepts a 16 digit credit card number and returns true if it is valid as per Luhn’s algorithm or false, if it is invalid. "
   ]
  },
  {
   "cell_type": "code",
   "execution_count": 5,
   "id": "9ff0379c-3ec3-4446-9618-28bc5d4264f7",
   "metadata": {},
   "outputs": [
    {
     "name": "stdout",
     "output_type": "stream",
     "text": [
      "credit card number is invalid\n"
     ]
    }
   ],
   "source": [
    "def validate_credit_card_number(card_number):\n",
    "    str_n = str(card_number)\n",
    "    doubll = []\n",
    "    for x in range(0,16,2):\n",
    "        doubll.append(int(str_n[x]))\n",
    "    suml = 0\n",
    "    for x in doubll: \n",
    "        if x>9:\n",
    "            suml = 0\n",
    "            for digit in str(x): \n",
    "                 suml += int(digit) \n",
    "            x = suml\n",
    "    summ = sum(doubll)\n",
    "    sumo = 0\n",
    "    for x in range(1,16,2):\n",
    "                 sumo += int(str_n[x])\n",
    "    if ( (sumo + suml)%10  == 0 ):\n",
    "        return True\n",
    "    else :\n",
    "        return False\n",
    "    \n",
    "        \n",
    "\n",
    "card_number= 1456734512345698 #4539869650133101  #1456734512345698 # #5239512608615007\n",
    "result=validate_credit_card_number(card_number)\n",
    "if(result):\n",
    "    print(\"credit card number is valid\")\n",
    "else:\n",
    "    print(\"credit card number is invalid\")"
   ]
  },
  {
   "cell_type": "markdown",
   "id": "87507d17-fe36-48c3-adf8-62d9d67d403c",
   "metadata": {},
   "source": [
    "FETCH VALUES FROM DICT"
   ]
  },
  {
   "cell_type": "code",
   "execution_count": 7,
   "id": "090d43d4-4ecb-423b-a814-6f5f0604bc20",
   "metadata": {},
   "outputs": [
    {
     "name": "stdout",
     "output_type": "stream",
     "text": [
      "60000\n"
     ]
    }
   ],
   "source": [
    "dict1 = {\"BTech\":50000,\"MTech\":60000,\"MCA\":30000,\"BCA\":25000}\n",
    "def fetch_fee(course):\n",
    "    if(course in dict1.keys()):\n",
    "        return dict1[course]\n",
    "    else:\n",
    "        return -1\n",
    "print(fetch_fee(\"MTech\"))"
   ]
  },
  {
   "cell_type": "markdown",
   "id": "7dc6d609-d65f-457c-b579-205055a4ea50",
   "metadata": {},
   "source": [
    "To delete more than one element from a list\u000b",
    "\n",
    "\n",
    "Copy the elements other than those to be deleted to a new list\n",
    "\n",
    "Copy the new list to the original list\n",
    "\n"
   ]
  },
  {
   "cell_type": "code",
   "execution_count": 8,
   "id": "79a04b69-6ed7-49c3-ab10-9d740c294c42",
   "metadata": {},
   "outputs": [
    {
     "name": "stdout",
     "output_type": "stream",
     "text": [
      "[2]\n"
     ]
    }
   ],
   "source": [
    "def delete_ones(num_list):\n",
    "    temp_list = []\n",
    "    #Copy the elements other than 1 to temp_list\n",
    "    for num in num_list:\n",
    "        if(num != 1):\n",
    "            temp_list.append(num)\n",
    "    #Copy temp_list to num_list\n",
    "    num_list = temp_list\n",
    "    return num_list\n",
    "num_list = [1,1,2,1]\n",
    "print(delete_ones(num_list))\n"
   ]
  },
  {
   "cell_type": "markdown",
   "id": "a0fa59ca-1563-453c-9c94-506bf586be0b",
   "metadata": {},
   "source": [
    "QUESTIONS AND ANSWERS"
   ]
  },
  {
   "cell_type": "code",
   "execution_count": 1,
   "id": "bbb8ad55-4296-4eb4-ae91-1856d709bb6b",
   "metadata": {},
   "outputs": [
    {
     "ename": "IndexError",
     "evalue": "list index out of range",
     "output_type": "error",
     "traceback": [
      "\u001b[0;31m---------------------------------------------------------------------------\u001b[0m",
      "\u001b[0;31mIndexError\u001b[0m                                Traceback (most recent call last)",
      "\u001b[0;32m/var/folders/y9/7jjg2kks2396zw687mh2t7vc0000gn/T/ipykernel_3479/864372100.py\u001b[0m in \u001b[0;36m<module>\u001b[0;34m\u001b[0m\n\u001b[1;32m      5\u001b[0m     \u001b[0;32mreturn\u001b[0m \u001b[0mnum_list\u001b[0m\u001b[0;34m\u001b[0m\u001b[0;34m\u001b[0m\u001b[0m\n\u001b[1;32m      6\u001b[0m \u001b[0mnum_list\u001b[0m \u001b[0;34m=\u001b[0m \u001b[0;34m[\u001b[0m\u001b[0;36m1\u001b[0m\u001b[0;34m,\u001b[0m\u001b[0;36m1\u001b[0m\u001b[0;34m,\u001b[0m\u001b[0;36m2\u001b[0m\u001b[0;34m,\u001b[0m\u001b[0;36m1\u001b[0m\u001b[0;34m]\u001b[0m\u001b[0;34m\u001b[0m\u001b[0;34m\u001b[0m\u001b[0m\n\u001b[0;32m----> 7\u001b[0;31m \u001b[0mdelete_ones\u001b[0m\u001b[0;34m(\u001b[0m\u001b[0mnum_list\u001b[0m\u001b[0;34m)\u001b[0m\u001b[0;34m\u001b[0m\u001b[0;34m\u001b[0m\u001b[0m\n\u001b[0m\u001b[1;32m      8\u001b[0m \u001b[0mprint\u001b[0m\u001b[0;34m(\u001b[0m\u001b[0mdelete_ones\u001b[0m\u001b[0;34m(\u001b[0m\u001b[0mnum_list\u001b[0m\u001b[0;34m)\u001b[0m\u001b[0;34m)\u001b[0m\u001b[0;34m\u001b[0m\u001b[0;34m\u001b[0m\u001b[0m\n",
      "\u001b[0;32m/var/folders/y9/7jjg2kks2396zw687mh2t7vc0000gn/T/ipykernel_3479/864372100.py\u001b[0m in \u001b[0;36mdelete_ones\u001b[0;34m(num_list)\u001b[0m\n\u001b[1;32m      1\u001b[0m \u001b[0;32mdef\u001b[0m \u001b[0mdelete_ones\u001b[0m\u001b[0;34m(\u001b[0m\u001b[0mnum_list\u001b[0m\u001b[0;34m)\u001b[0m\u001b[0;34m:\u001b[0m\u001b[0;34m\u001b[0m\u001b[0;34m\u001b[0m\u001b[0m\n\u001b[1;32m      2\u001b[0m     \u001b[0;32mfor\u001b[0m \u001b[0mnum\u001b[0m \u001b[0;32min\u001b[0m \u001b[0mrange\u001b[0m\u001b[0;34m(\u001b[0m\u001b[0mlen\u001b[0m\u001b[0;34m(\u001b[0m\u001b[0mnum_list\u001b[0m\u001b[0;34m)\u001b[0m\u001b[0;34m)\u001b[0m\u001b[0;34m:\u001b[0m\u001b[0;34m\u001b[0m\u001b[0;34m\u001b[0m\u001b[0m\n\u001b[0;32m----> 3\u001b[0;31m         \u001b[0;32mif\u001b[0m \u001b[0mnum_list\u001b[0m\u001b[0;34m[\u001b[0m\u001b[0mnum\u001b[0m\u001b[0;34m]\u001b[0m\u001b[0;34m%\u001b[0m\u001b[0;36m2\u001b[0m \u001b[0;34m==\u001b[0m \u001b[0;36m0\u001b[0m\u001b[0;34m:\u001b[0m\u001b[0;34m\u001b[0m\u001b[0;34m\u001b[0m\u001b[0m\n\u001b[0m\u001b[1;32m      4\u001b[0m             \u001b[0mnum_list\u001b[0m\u001b[0;34m.\u001b[0m\u001b[0mremove\u001b[0m\u001b[0;34m(\u001b[0m\u001b[0mnum_list\u001b[0m\u001b[0;34m[\u001b[0m\u001b[0mnum\u001b[0m\u001b[0;34m]\u001b[0m\u001b[0;34m)\u001b[0m\u001b[0;34m\u001b[0m\u001b[0;34m\u001b[0m\u001b[0m\n\u001b[1;32m      5\u001b[0m     \u001b[0;32mreturn\u001b[0m \u001b[0mnum_list\u001b[0m\u001b[0;34m\u001b[0m\u001b[0;34m\u001b[0m\u001b[0m\n",
      "\u001b[0;31mIndexError\u001b[0m: list index out of range"
     ]
    }
   ],
   "source": [
    "def delete_ones(num_list):\n",
    "    for num in range(len(num_list)):\n",
    "        if num_list[num]%2 == 0:\n",
    "            num_list.remove(num_list[num])\n",
    "    return num_list\n",
    "num_list = [1,1,2,1]\n",
    "delete_ones(num_list)\n",
    "print(delete_ones(num_list))"
   ]
  },
  {
   "cell_type": "markdown",
   "id": "1cdbf1e8-061c-475c-81af-fcadde2906b4",
   "metadata": {},
   "source": [
    "1.This is because when we remove an element the list changes so it gets smaller . The index hence goes out of range."
   ]
  },
  {
   "cell_type": "markdown",
   "id": "fe7943f3-2971-4ac4-bb61-ffaa96e19dc0",
   "metadata": {},
   "source": [
    "**EASY**"
   ]
  },
  {
   "cell_type": "markdown",
   "id": "7d5d9a5f-348e-4f94-8d78-d08fc05b4d10",
   "metadata": {},
   "source": [
    ">>Write a python function to add 'ing' at the end of a given string and return the new string. \n",
    "If the given string already ends with 'ing' then add 'ly'.\n",
    "If the length of the given string is less than 3, leave it unchanged."
   ]
  },
  {
   "cell_type": "code",
   "execution_count": 11,
   "id": "e2bb9caf-86bb-445c-b392-2a21f070da2f",
   "metadata": {},
   "outputs": [
    {
     "name": "stdout",
     "output_type": "stream",
     "text": [
      "coming\n"
     ]
    }
   ],
   "source": [
    "def add_string(str1):\n",
    "    if len(str1) < 3:\n",
    "        return str1\n",
    "    elif (str1[-1:-4] == 'ing'):\n",
    "        str1 = str1+ing \n",
    "    else :\n",
    "        str1 = str1+ \"ing\"\n",
    "    return str1\n",
    "\n",
    "str1=\"com\"\n",
    "print(add_string(str1))"
   ]
  },
  {
   "cell_type": "markdown",
   "id": "33ab8bb7-61c0-4566-97da-96edf0df5af4",
   "metadata": {},
   "source": [
    ">>Write a python function which accepts a string containing a pattern of brackets and returns true if the pattern of brackets is correct. Otherwise it returns false.\n",
    "\n",
    "The string of brackets is correct if it satisfies the following conditions:\n",
    "1. Number of opening and closing brackets are equal.\n",
    "2. Pattern should not start with closing bracket and end with opening bracket."
   ]
  },
  {
   "cell_type": "code",
   "execution_count": 12,
   "id": "19f40811-63e2-4714-8c76-8f8b82510b31",
   "metadata": {},
   "outputs": [
    {
     "name": "stdout",
     "output_type": "stream",
     "text": [
      "True\n"
     ]
    }
   ],
   "source": [
    "def bracket_pattern(input_str):\n",
    "    #Remove pass and write your code here\n",
    "    cou=0\n",
    "    c=0\n",
    "    if(input_str.startswith(\"(\")and input_str.endswith(\")\")):\n",
    "        for i in input_str:\n",
    "            if(i==\"(\"):\n",
    "                cou+=1\n",
    "            else:\n",
    "                c+=1\n",
    "        if(c==cou and c+cou==len(input_str)):\n",
    "            \n",
    "            return True\n",
    "    return False\n",
    "\n",
    "    \n",
    "input_str=\"(())\"\n",
    "print(bracket_pattern(input_str))"
   ]
  },
  {
   "cell_type": "markdown",
   "id": "3c512b8d-3431-4e1d-bd24-e715348c46e1",
   "metadata": {},
   "source": [
    ">>Write a python function to create and return a new dictionary from the given dictionary(item:price).\n",
    "\n",
    "Given the following input, create a new dictionary with elements having price more than 200."
   ]
  },
  {
   "cell_type": "code",
   "execution_count": 18,
   "id": "c8a1db27-9c58-4589-b104-e6346fb197ed",
   "metadata": {},
   "outputs": [
    {
     "name": "stdout",
     "output_type": "stream",
     "text": [
      "{'AAPL': 612.78, 'IBM': 205.55}\n"
     ]
    }
   ],
   "source": [
    "def create_new_dictionary(prices):\n",
    "    new = {}\n",
    "    for x in prices:\n",
    "        if prices[x] > 200:\n",
    "            new[x] = prices[x]\n",
    "    return new\n",
    "\n",
    "prices = { 'ACME': 45.23,'AAPL': 612.78,'IBM': 205.55,'HPQ': 37.20,'FB': 10.75}\n",
    "print(create_new_dictionary(prices))"
   ]
  },
  {
   "cell_type": "markdown",
   "id": "d37ca893-c8a3-428d-a073-ba860feeb354",
   "metadata": {},
   "source": [
    ">>Write a python function which accepts a sentence and finds the number of letters and digits in the sentence.\n",
    "\n",
    "It should return a list in which the first value should be letter count and second value should be digit count. Ignore the spaces or any other special character in the sentence."
   ]
  },
  {
   "cell_type": "code",
   "execution_count": 25,
   "id": "a97b3e62-14bf-4f7b-b6c7-519a27bd510c",
   "metadata": {},
   "outputs": [
    {
     "name": "stdout",
     "output_type": "stream",
     "text": [
      "[6, 13]\n"
     ]
    }
   ],
   "source": [
    "def count_digits_letters(sentence):\n",
    "    d = 0\n",
    "    a = 0\n",
    "    for x in sentence:\n",
    "        if x.isnumeric() :\n",
    "            d += 1\n",
    "        elif x.isalpha():\n",
    "            a +=1\n",
    "    result_list =[d,a]\n",
    "    return result_list\n",
    "\n",
    "sentence=\"Infosys Mysore 570027\"\n",
    "print(count_digits_letters(sentence))"
   ]
  },
  {
   "cell_type": "markdown",
   "id": "6f494842-174b-4814-a6bd-6296e8aa6411",
   "metadata": {},
   "source": [
    ">>Write a python function which accepts a list of numbers and returns true, if 1, 2, 3 appears in sequence in the list.\n",
    "\n",
    "Otherwise, it should return false."
   ]
  },
  {
   "cell_type": "code",
   "execution_count": 26,
   "id": "f5ebca3b-3cec-4fb4-9188-11c4956fb9c5",
   "metadata": {},
   "outputs": [
    {
     "name": "stdout",
     "output_type": "stream",
     "text": [
      "True\n"
     ]
    }
   ],
   "source": [
    "def list123(nums):\n",
    "    str1 = ''.join(map(str, nums))\n",
    "    if '123' in str1:\n",
    "        return True\n",
    "    else :\n",
    "        return False\n",
    "    \n",
    "\n",
    "nums=[1,2,3,4,5]\n",
    "print(list123(nums))"
   ]
  },
  {
   "cell_type": "markdown",
   "id": "95d28bf4-a4b2-44c6-b462-cc6d026cf8da",
   "metadata": {},
   "source": [
    ">>Given two numbers, write a python function which returns true if first number is a seed of second number. Otherwise it returns false.\n",
    "\n",
    "A number X is said to be a seed of number Y, if multiplying X by its each digit equates to Y\n",
    "\n",
    "For example, 123 is a seed of 738 as 123*1*2*3 = 738."
   ]
  },
  {
   "cell_type": "code",
   "execution_count": 28,
   "id": "7566e301-4993-4d69-bd0b-b5b22e1a7c77",
   "metadata": {},
   "outputs": [
    {
     "name": "stdout",
     "output_type": "stream",
     "text": [
      "True\n"
     ]
    }
   ],
   "source": [
    "def seed_no(number,ref_no):\n",
    "    nstr = str(number)\n",
    "    no = number\n",
    "    for x in nstr:\n",
    "        no *= int(x)\n",
    "    if no == ref_no:\n",
    "        return True\n",
    "    else :\n",
    "        return False\n",
    "        \n",
    "    \n",
    "number=123\n",
    "ref_no=738\n",
    "print(seed_no(number,ref_no))"
   ]
  },
  {
   "cell_type": "markdown",
   "id": "06d993f6-1280-4b74-a9ed-eb68b9afea2e",
   "metadata": {},
   "source": [
    ">>Write a python function which accepts a list of strings containing details of deposits and withdrawals made in a bank account and returns the net amount in the account.\n",
    "\n",
    "Suppose the following input is supplied to the function \n",
    "[\"D:300\",\"D:300\",\"W:200\",\"D:100\"] where D means deposit and W means withdrawal,\n",
    "then the net amount in the account is 500."
   ]
  },
  {
   "cell_type": "code",
   "execution_count": 33,
   "id": "281170c2-4b2b-428c-b143-8bc492cf0d38",
   "metadata": {},
   "outputs": [
    {
     "name": "stdout",
     "output_type": "stream",
     "text": [
      "400\n"
     ]
    }
   ],
   "source": [
    "def calculate_net_amount(trans_list):\n",
    "    d=0\n",
    "    w=0\n",
    "    for x in trans_list:\n",
    "        if  x[0] == 'D':\n",
    "            d += int(x[2:])\n",
    "        else :\n",
    "            w += int(x[2:])\n",
    "    return d-w\n",
    "\n",
    "trans_list=[\"D:300\",\"D:200\",\"W:200\",\"D:100\"]\n",
    "print(calculate_net_amount(trans_list))"
   ]
  },
  {
   "cell_type": "markdown",
   "id": "09d3e413-f6cd-48a9-8784-057783199045",
   "metadata": {},
   "source": [
    ">>Write a Python function which generates and returns a dictionary where the keys are numbers between 1 and n (both inclusive) and the values are square of keys.>>"
   ]
  },
  {
   "cell_type": "code",
   "execution_count": 1,
   "id": "48e66fc2-2f7b-43af-b3d0-454027a76951",
   "metadata": {},
   "outputs": [
    {
     "name": "stdout",
     "output_type": "stream",
     "text": [
      "{1: 1, 2: 4, 3: 9, 4: 16, 5: 25, 6: 36, 7: 49, 8: 64, 9: 81, 10: 100, 11: 121, 12: 144, 13: 169, 14: 196, 15: 225, 16: 256, 17: 289, 18: 324, 19: 361, 20: 400}\n"
     ]
    }
   ],
   "source": [
    "def generate_dict(number):\n",
    "    new = {}\n",
    "    for i in range(1,number+1):\n",
    "            new[i] = i**2\n",
    "    return new\n",
    "\n",
    "number=20\n",
    "print(generate_dict(number))"
   ]
  },
  {
   "cell_type": "markdown",
   "id": "cf7da861-cd12-40a7-a06b-62964c09cb78",
   "metadata": {},
   "source": [
    ">>Write a Python function which accepts a string and returns a string made of the first 2 and the last 2 characters of the given string.\n",
    "\n",
    "If the string length is less than 2, return -1.\n",
    "\n",
    "Note: If the string length is equal to 2, consider the 2 characters to be the first as well as the last two characters."
   ]
  },
  {
   "cell_type": "code",
   "execution_count": 8,
   "id": "968c7029-a690-4ec0-951e-bda7ff809f9a",
   "metadata": {},
   "outputs": [
    {
     "name": "stdout",
     "output_type": "stream",
     "text": [
      "w33w\n"
     ]
    }
   ],
   "source": [
    "def string_both_ends(input_string):\n",
    "    n = len(input_string)\n",
    "    if n < 2:\n",
    "        return -1\n",
    "    else :\n",
    "        return input_string[0:2]+input_string[n-2:]\n",
    "\n",
    "input_string=\"w3w\"\n",
    "print(string_both_ends(input_string))"
   ]
  },
  {
   "cell_type": "markdown",
   "id": "7fb76cbb-2312-4c1a-bdc9-13d800eea8cd",
   "metadata": {},
   "source": [
    ">>Write a python function to generate and return the list of all possible sentences created from the given lists of Subject, Verb and Object.\n",
    "\n",
    "Note: The sentence should contain only one subject, verb and object each."
   ]
  },
  {
   "cell_type": "code",
   "execution_count": 15,
   "id": "02e1f39a-1aa8-42db-96b5-30aac0fd0094",
   "metadata": {},
   "outputs": [
    {
     "name": "stdout",
     "output_type": "stream",
     "text": [
      "['I love Hockey', 'I love Football', 'I play Hockey', 'I play Football', 'You love Hockey', 'You love Football', 'You play Hockey', 'You play Football']\n"
     ]
    }
   ],
   "source": [
    "def generate_sentences(subjects,verbs,objects):\n",
    "    sentence_list =[]\n",
    "    for x in subjects:\n",
    "        for y in verbs:\n",
    "            for z in objects:\n",
    "                sentence_list.append(x+\" \"+y+\" \"+z)\n",
    "    return sentence_list\n",
    "\n",
    "subjects=[\"I\",\"You\"]\n",
    "verbs=[\"love\", \"play\"]\n",
    "objects=[\"Hockey\",\"Football\"]\n",
    "print(generate_sentences(subjects,verbs,objects))"
   ]
  },
  {
   "cell_type": "markdown",
   "id": "b4d9b136-4a82-402f-913a-53956b33a3a8",
   "metadata": {},
   "source": [
    ">>Write a python function which accepts a list of numbers and returns true if the list contains a 2 next to a 2. Otherwise it should return false."
   ]
  },
  {
   "cell_type": "code",
   "execution_count": 20,
   "id": "dcf47efd-295e-4e39-a768-d1d8828e3a48",
   "metadata": {},
   "outputs": [
    {
     "name": "stdin",
     "output_type": "stream",
     "text": [
      " 1 2 2 4 5 2\n"
     ]
    },
    {
     "name": "stdout",
     "output_type": "stream",
     "text": [
      "[1, 2, 2, 4, 5, 2]\n",
      "True\n"
     ]
    }
   ],
   "source": [
    "def calculate_net_amount(s_l):\n",
    "    for x in range(len(s_l)-1):\n",
    "        if  s_l[x] == 2 and s_l[x+1] == 2:\n",
    "            return True\n",
    "    else :\n",
    "        return False\n",
    "    \n",
    "\n",
    "list1 = [i for i in map(int,input().split())]\n",
    "print(list1)\n",
    "print(calculate_net_amount(list1))"
   ]
  },
  {
   "cell_type": "markdown",
   "id": "6eaa8ab7-3753-421a-bbb4-4ee1721595b0",
   "metadata": {},
   "source": [
    ">>Write a python function to find out whether a number is divisible by the sum of its digits. If so return True,else return False."
   ]
  },
  {
   "cell_type": "code",
   "execution_count": 21,
   "id": "296e39af-89f8-4d5a-a72e-fc421d1071a4",
   "metadata": {},
   "outputs": [
    {
     "name": "stdout",
     "output_type": "stream",
     "text": [
      "NO\n"
     ]
    }
   ],
   "source": [
    "def isDivisible(n):\n",
    " \n",
    "    temp = n\n",
    "    sumx = 0\n",
    "    while (n):\n",
    "     \n",
    "        k = n % 10\n",
    "        sumx += k\n",
    "        n /= 10\n",
    "     \n",
    "    # check if sum of digits divides n\n",
    "    if (temp % sumx == 0):\n",
    "        return \"YES\";\n",
    " \n",
    "    return \"NO\";\n",
    " \n",
    "n = 123;\n",
    " \n",
    "print(isDivisible(n));"
   ]
  },
  {
   "cell_type": "markdown",
   "id": "f0445cc7-0be4-4a5d-a11e-ed588227ec59",
   "metadata": {},
   "source": [
    ">>Given two positive integers. Write a python function to return the greatest common divisor of the given numbers."
   ]
  },
  {
   "cell_type": "code",
   "execution_count": 30,
   "id": "3190a8a8-e788-4e22-88cb-d94f7fda9ff7",
   "metadata": {},
   "outputs": [
    {
     "name": "stdout",
     "output_type": "stream",
     "text": [
      "9\n"
     ]
    }
   ],
   "source": [
    "def find_gcd(num1,num2):\n",
    "    if num1<num2:\n",
    "        x = num1\n",
    "    else :\n",
    "        x = num2\n",
    "    max = 0\n",
    "    for i in range(1,x+1):\n",
    "        if num1%i == 0 and num2%i == 0:\n",
    "            max = i\n",
    "    return max\n",
    "    \n",
    "\n",
    "num1=45\n",
    "\n",
    "num2=9\n",
    "print(find_gcd(num1,num2))"
   ]
  },
  {
   "cell_type": "markdown",
   "id": "5075c255-fa61-4fde-b30a-2e3825ae1739",
   "metadata": {},
   "source": [
    ">>Write a python function that accepts a list of words and returns the list of integers representing the length of the corresponding words.\n",
    "\n",
    "\n",
    "\n"
   ]
  },
  {
   "cell_type": "code",
   "execution_count": 33,
   "id": "3fe2f342-8003-4c0b-a02c-7b2a3a2094db",
   "metadata": {},
   "outputs": [
    {
     "data": {
      "text/plain": [
       "[3, 3]"
      ]
     },
     "execution_count": 33,
     "metadata": {},
     "output_type": "execute_result"
    }
   ],
   "source": [
    "def map_to_length(words):\n",
    "    return [len(word) for word in words]\n",
    "map_to_length([\"aka\",\"ana\"])"
   ]
  },
  {
   "cell_type": "markdown",
   "id": "aa415c61-0081-42b9-8aba-d0cfb98dcb4c",
   "metadata": {},
   "source": [
    ">>Given a string, write a python function to return True if the strings \"mat\" and \"jet\" appear the same number of times in the given string, else return False."
   ]
  },
  {
   "cell_type": "code",
   "execution_count": 4,
   "id": "d968118a-faba-4365-a212-ec88cee3e0f1",
   "metadata": {},
   "outputs": [
    {
     "name": "stdout",
     "output_type": "stream",
     "text": [
      "False\n"
     ]
    }
   ],
   "source": [
    "def check_occurence(string):\n",
    "    m,j =0,0\n",
    "    if \"mat\" in string :\n",
    "        m +=1\n",
    "    elif \"jet\" in string:\n",
    "        j +=1\n",
    "    return m == j\n",
    "string=\"Jet on the Mat but mat is too long\"\n",
    "print(check_occurence(string))"
   ]
  },
  {
   "cell_type": "markdown",
   "id": "bddba869-d6d3-4d9a-b15c-b7ad504f3974",
   "metadata": {},
   "source": [
    ">>Given a list of numbers, write a python function to exchange the first n/2 elements of a list with the last n/2 elements. The function should return the new list.\n",
    "\n",
    "n represents the number of elements in the list. Assume that it will always be even."
   ]
  },
  {
   "cell_type": "code",
   "execution_count": 13,
   "id": "ca591c5b-bd29-451b-ae57-6c382bbf59d9",
   "metadata": {},
   "outputs": [
    {
     "name": "stdout",
     "output_type": "stream",
     "text": [
      "[6, 5, 4, 1, 2, 3]\n"
     ]
    }
   ],
   "source": [
    "\n",
    "def exchange_list(number_list):\n",
    "    nl =[]\n",
    "    n = len(number_list)\n",
    "    for i in range(int(n/2)):\n",
    "        nl.append(number_list[n-1-i])\n",
    "    for i in range(int(n/2)):\n",
    "        nl.append(number_list[i]) \n",
    "    return nl\n",
    "     \n",
    "number_list=[1,2,3,4,5,6]\n",
    "print(exchange_list(number_list))"
   ]
  },
  {
   "cell_type": "markdown",
   "id": "9bd2eb19-0a02-47ba-bdda-acb3ca13e79e",
   "metadata": {},
   "source": [
    ">>Given a list of integers and a number. Write a python function to find and return the sum of the elements of the list. \n",
    "Note: Don't add the given number and also the numbers present before and after the given number in the list."
   ]
  },
  {
   "cell_type": "code",
   "execution_count": 18,
   "id": "4279525e-ce6c-4094-9434-07b01796ec33",
   "metadata": {},
   "outputs": [
    {
     "name": "stdout",
     "output_type": "stream",
     "text": [
      "5\n"
     ]
    }
   ],
   "source": [
    "ls = [1, 7, 3, 7, 1, 7, 10 ,5]\n",
    "num = 7\n",
    "\n",
    "sum_ = 0\n",
    "\n",
    "for i in range(len(ls)):\n",
    "    t = ls[max(0, i-1):i+2]\n",
    "    if not any(n == num for n in t):\n",
    "        sum_ += ls[i]\n",
    "\n",
    "print(sum_) # 9"
   ]
  },
  {
   "cell_type": "markdown",
   "id": "38765bf9-1c83-4eae-82ae-a674bd554663",
   "metadata": {},
   "source": [
    "**MEDIUM**"
   ]
  },
  {
   "cell_type": "markdown",
   "id": "9d6eb13c-52e7-4ef2-988d-ebc37480609a",
   "metadata": {},
   "source": [
    ">>Write a python function which accepts three numbers and returns True if\n",
    "\n",
    "a. one of the three numbers is \"close\" to any one of the other numbers (differing from a number by at most 1), and\n",
    "\n",
    "b.Number that is left out is \"far\", differing from both other values by 2 or more."
   ]
  },
  {
   "cell_type": "code",
   "execution_count": 20,
   "id": "d9c49c22-5485-4f44-b48b-c01eaf5b7f73",
   "metadata": {},
   "outputs": [
    {
     "name": "stdout",
     "output_type": "stream",
     "text": [
      "False\n"
     ]
    }
   ],
   "source": [
    "def close_number(num1,num2,num3):\n",
    "    lis  = [num1, num2, num3]\n",
    "    lis.sort()\n",
    "    if lis[1] == lis[0]+1 or lis[1] == lis[2]-1 or lis[1] == lis[0] or lis[1] == lis[2]:\n",
    "        if lis[1]+2 <= lis[2] or lis[0]+2 <=lis[1]:  \n",
    "            return True\n",
    "        else:\n",
    "            return False\n",
    "    else:\n",
    "        return False\n",
    "            \n",
    "    \n",
    "print(close_number(5,6,7))"
   ]
  },
  {
   "cell_type": "markdown",
   "id": "3069a1da-fb5f-4004-91f9-931be8659700",
   "metadata": {},
   "source": [
    ">>Write a Python function to rotate the list of elements by N positions. The function should return the rotated list."
   ]
  },
  {
   "cell_type": "markdown",
   "id": "42afa305-8453-4001-87be-6aebd6524c6b",
   "metadata": {},
   "source": [
    "Input list: [1, 2, 3, 4, 5, 6]\n",
    "Number of positions to be rotated = 2\n",
    "\n",
    "[5, 6, 1, 2, 3, 4]"
   ]
  },
  {
   "cell_type": "code",
   "execution_count": 30,
   "id": "a03ebb8e-9561-4bb0-8d21-048a98f55c3c",
   "metadata": {},
   "outputs": [
    {
     "name": "stdout",
     "output_type": "stream",
     "text": [
      "[3, 4, 5, 6, 1, 2]\n"
     ]
    }
   ],
   "source": [
    "def rotate_list(input_list,n):\n",
    "    l1 = []\n",
    "    no = len(input_list)\n",
    "    for x in range(no-n,no):\n",
    "        l1.append(input_list[x])\n",
    "    for x in range(no-n):\n",
    "        l1.append(input_list[x])\n",
    "    return l1\n",
    "    \n",
    "\n",
    "input_list= [1,2,3,4,5,6]\n",
    "output_list=rotate_list(input_list,4)\n",
    "print(output_list)"
   ]
  },
  {
   "cell_type": "markdown",
   "id": "1e1471be-2269-45a0-8d34-32373d422eef",
   "metadata": {},
   "source": [
    ">>Tom is working in a shop where he labels items. Each item is labelled with a number between num1 and num2(both inclusive). Since Tom is also a natural mathematician, he likes to observe patterns in numbers. Tom could observe that some of these label numbers are divisible by other label numbers.\n",
    "\n",
    "Write a Python function to find out those label numbers that are divisible by another label number and display how many such label numbers are there totally.\n",
    "\n",
    "Note:- Consider only the distinct label numbers. The list of those label numbers should be considered as a set."
   ]
  },
  {
   "cell_type": "code",
   "execution_count": 45,
   "id": "908dc84a-a0c2-401f-a8d7-6b61b2aee22d",
   "metadata": {},
   "outputs": [
    {
     "name": "stdout",
     "output_type": "stream",
     "text": [
      "[{20, 22, 24, 26, 28, 30}, 6]\n"
     ]
    }
   ],
   "source": [
    "def check_numbers(num1,num2):\n",
    "    c =0\n",
    "    num_list =[]\n",
    "    for i in range(num1,num2+1):\n",
    "        for j in range(num1,i):\n",
    "            if i%j ==0 :\n",
    "                c +=1\n",
    "                num_list.append(i)\n",
    "                break\n",
    "    return [set(num_list),c]\n",
    "\n",
    "num1=10\n",
    "num2=30\n",
    "print(check_numbers(num1, num2))"
   ]
  },
  {
   "cell_type": "markdown",
   "id": "4023993c-ba93-42f0-95c8-4c4481c5e41d",
   "metadata": {},
   "source": [
    ">>Given an integer n, write a python function to return true, if it is possible to represent it as a sum of the squares of two different integers, else return false."
   ]
  },
  {
   "cell_type": "code",
   "execution_count": 51,
   "id": "b54beb1f-74eb-44bb-b489-f639833ad5e1",
   "metadata": {},
   "outputs": [
    {
     "name": "stdout",
     "output_type": "stream",
     "text": [
      "False\n"
     ]
    }
   ],
   "source": [
    "def check_squares(number):\n",
    "    for i in range(int(number/2)):\n",
    "        for j in range(i+1,int(number/2)):\n",
    "            if i**2 + j**2 == number:\n",
    "                return True\n",
    "    else :\n",
    "        return False\n",
    "\n",
    "number=69\n",
    "print(check_squares(number))"
   ]
  },
  {
   "cell_type": "markdown",
   "id": "458f1975-180f-4ce0-b34e-0e650c8642a5",
   "metadata": {},
   "source": [
    ">>Write a python function to identify and return the number name of a given number. The number should be in the range 1 to 1000. If the number is invalid, return -1."
   ]
  },
  {
   "cell_type": "code",
   "execution_count": 52,
   "id": "7f699163-7ac1-406f-9df8-ddd2c23a0668",
   "metadata": {},
   "outputs": [
    {
     "name": "stdout",
     "output_type": "stream",
     "text": [
      "9923 : nine thousand nine hundred twenty three\n",
      "523 : five hundred twenty three\n",
      "89 : eighty nine\n",
      "8 : eight\n"
     ]
    }
   ],
   "source": [
    "# Python program to print a given number in\n",
    "# words. The program handles numbers\n",
    "# from 0 to 9999\n",
    "\n",
    "# A function that prints\n",
    "# given number in words\n",
    "\n",
    "\n",
    "def convert_to_words(num):\n",
    "\n",
    "\t# Get number of digits\n",
    "\t# in given number\n",
    "\tl = len(num)\n",
    "\n",
    "\t# Base cases\n",
    "\tif (l == 0):\n",
    "\t\tprint(\"empty string\")\n",
    "\t\treturn\n",
    "\n",
    "\tif (l > 4):\n",
    "\t\tprint(\"Length more than 4 is not supported\")\n",
    "\t\treturn\n",
    "\n",
    "\t# The first string is not used,\n",
    "\t# it is to make array indexing simple\n",
    "\tsingle_digits = [\"zero\", \"one\", \"two\", \"three\",\n",
    "\t\t\t\t\t\"four\", \"five\", \"six\", \"seven\",\n",
    "\t\t\t\t\t\"eight\", \"nine\"]\n",
    "\n",
    "\t# The first string is not used,\n",
    "\t# it is to make array indexing simple\n",
    "\ttwo_digits = [\"\", \"ten\", \"eleven\", \"twelve\",\n",
    "\t\t\t\t\"thirteen\", \"fourteen\", \"fifteen\",\n",
    "\t\t\t\t\"sixteen\", \"seventeen\", \"eighteen\",\n",
    "\t\t\t\t\"nineteen\"]\n",
    "\n",
    "\t# The first two string are not used,\n",
    "\t# they are to make array indexing simple\n",
    "\ttens_multiple = [\"\", \"\", \"twenty\", \"thirty\", \"forty\",\n",
    "\t\t\t\t\t\"fifty\", \"sixty\", \"seventy\", \"eighty\",\n",
    "\t\t\t\t\t\"ninety\"]\n",
    "\n",
    "\ttens_power = [\"hundred\", \"thousand\"]\n",
    "\n",
    "\t# Used for debugging purpose only\n",
    "\tprint(num, \":\", end=\" \")\n",
    "\n",
    "\t# For single digit number\n",
    "\tif (l == 1):\n",
    "\t\tprint(single_digits[ord(num[0]) - 48])\n",
    "\t\treturn\n",
    "\n",
    "\t# Iterate while num is not '\\0'\n",
    "\tx = 0\n",
    "\twhile (x < len(num)):\n",
    "\n",
    "\t\t# Code path for first 2 digits\n",
    "\t\tif (l >= 3):\n",
    "\t\t\tif (ord(num[x]) - 48 != 0):\n",
    "\t\t\t\tprint(single_digits[ord(num[x]) - 48],\n",
    "\t\t\t\t\tend=\" \")\n",
    "\t\t\t\tprint(tens_power[l - 3], end=\" \")\n",
    "\t\t\t\t# here len can be 3 or 4\n",
    "\n",
    "\t\t\tl -= 1\n",
    "\n",
    "\t\t# Code path for last 2 digits\n",
    "\t\telse:\n",
    "\n",
    "\t\t\t# Need to explicitly handle\n",
    "\t\t\t# 10-19. Sum of the two digits\n",
    "\t\t\t# is used as index of \"two_digits\"\n",
    "\t\t\t# array of strings\n",
    "\t\t\tif (ord(num[x]) - 48 == 1):\n",
    "\t\t\t\tsum = (ord(num[x]) - 48 +\n",
    "\t\t\t\t\tord(num[x+1]) - 48)\n",
    "\t\t\t\tprint(two_digits[sum])\n",
    "\t\t\t\treturn\n",
    "\n",
    "\t\t\t# Need to explicitly handle 20\n",
    "\t\t\telif (ord(num[x]) - 48 == 2 and\n",
    "\t\t\t\tord(num[x + 1]) - 48 == 0):\n",
    "\t\t\t\tprint(\"twenty\")\n",
    "\t\t\t\treturn\n",
    "\n",
    "\t\t\t# Rest of the two digit\n",
    "\t\t\t# numbers i.e., 21 to 99\n",
    "\t\t\telse:\n",
    "\t\t\t\ti = ord(num[x]) - 48\n",
    "\t\t\t\tif(i > 0):\n",
    "\t\t\t\t\tprint(tens_multiple[i], end=\" \")\n",
    "\t\t\t\telse:\n",
    "\t\t\t\t\tprint(\"\", end=\"\")\n",
    "\t\t\t\tx += 1\n",
    "\t\t\t\tif(ord(num[x]) - 48 != 0):\n",
    "\t\t\t\t\tprint(single_digits[ord(num[x]) - 48])\n",
    "\t\tx += 1\n",
    "\n",
    "\n",
    "# Driver Code\n",
    "convert_to_words(\"9923\") # Four Digits\n",
    "convert_to_words(\"523\") # Three Digits\n",
    "convert_to_words(\"89\") # Two Digits\n",
    "convert_to_words(\"8\") # One Digits\n",
    "\n",
    "# This code is contributed\n",
    "# by Mithun Kumar\n"
   ]
  },
  {
   "cell_type": "markdown",
   "id": "5e707367-9a3f-45a3-b2ee-082ed621985c",
   "metadata": {},
   "source": [
    ">>[Cornell University CS1110 Final Exam 2014 Spring]\n",
    "\n",
    "Write a recursive python function which returns True if the input is well-formatted with respect to the list labels. Else it should return False.\n",
    "\n",
    "We say that an input is well-formatted with respect to the labels if:\n",
    "(a) input item is a list \n",
    "(b) input item has length at least two \n",
    "(c) input’s first item is in the list labels \n",
    "(d) each of the remaining items in input is either a string or a well-formatted list "
   ]
  },
  {
   "cell_type": "code",
   "execution_count": 58,
   "id": "32e795bc-2381-42cd-9032-b2398269bea1",
   "metadata": {},
   "outputs": [
    {
     "name": "stdout",
     "output_type": "stream",
     "text": [
      "Not Well formatted\n"
     ]
    }
   ],
   "source": [
    "def check_well_formatted(input_item,list_label):\n",
    "    if type(input) != list or len(input) < 2 or (input[0] not in labels):\n",
    "         return False\n",
    "## +1 nonlist base case\n",
    "## +1 too short base case\n",
    "## +1 check of input[0] not in labels\n",
    "## +1 order correct (if you do len(input) before checking if list, could get error)\n",
    "## +1 these should be ors, not ands. OK if implemented via if-elif cascase.\n",
    "    else:\n",
    "        for item in input[1:]:\n",
    "            if type(item) != str and not wellformatted(item, labels):\n",
    "                return False\n",
    "        return True\n",
    "## +1 loop through input starting at 1 *\n",
    "## +1 check for type not being string *\n",
    "## +2 (all or none): correct recursive call *\n",
    "## +1 conjunction check (not disjunction) *\n",
    "## +1 return False if one check fails *\n",
    "## +1 return True if all checks pass\n",
    "## A solution that uses tail recursion (i.e. checks the base case, then\n",
    "## makes a recursive call on input[1:]) instead of making recursive\n",
    "## calls on the items of the list, loses 6 points (all the points\n",
    "## marked '*' above.)\n",
    "    #Start writing your code here\n",
    "\n",
    "\n",
    "input_list1=['VP', ['V', 'eat']]\n",
    "list_label1=['VP', 'V']\n",
    "result=check_well_formatted(input_list1,list_label1)\n",
    "if result is True:\n",
    "    print(\"Well formatted\")\n",
    "else:\n",
    "    print(\"Not Well formatted\")\n",
    "    \n",
    "    \n",
    "    \n"
   ]
  },
  {
   "cell_type": "markdown",
   "id": "29cdfadc-db0e-4cdf-98ee-ec671977946e",
   "metadata": {},
   "source": [
    ">>Write a python function which accepts any number in the range of 1 to 4999 (both inclusive) and returns the equivalent roman numeral of it."
   ]
  },
  {
   "cell_type": "code",
   "execution_count": null,
   "id": "0bce0682-6c97-4bbc-bf61-7b4a7f03edd1",
   "metadata": {},
   "outputs": [],
   "source": [
    "def convert_to_roman(num):\n",
    "    #Start writing your code here\n",
    "\n",
    "\n",
    "for num in range(1,5000):    \n",
    "    print(num,\" : \",convert_to_roman(num))"
   ]
  },
  {
   "cell_type": "code",
   "execution_count": 5,
   "id": "bff1987d-bee1-4c7e-986f-edb7d2071b10",
   "metadata": {},
   "outputs": [
    {
     "name": "stdout",
     "output_type": "stream",
     "text": [
      "0\n",
      "0\n",
      "0\n",
      "0\n",
      "0\n",
      "0\n",
      "0\n",
      "0\n",
      "1\n",
      "X\n"
     ]
    }
   ],
   "source": [
    "class py_solution:\n",
    "    def int_to_Roman(self, num):\n",
    "        val = [\n",
    "            1000, 900, 500, 400,\n",
    "            100, 90, 50, 40,\n",
    "            10, 9, 5, 4,\n",
    "            1\n",
    "            ]\n",
    "        syb = [\n",
    "            \"M\", \"CM\", \"D\", \"CD\",\n",
    "            \"C\", \"XC\", \"L\", \"XL\",\n",
    "            \"X\", \"IX\", \"V\", \"IV\",\n",
    "            \"I\"\n",
    "            ]\n",
    "        roman_num = ''\n",
    "        i = 0\n",
    "        while  num > 0:\n",
    "            for j in range(num // val[i]):\n",
    "                roman_num += syb[i]\n",
    "                num -= val[i]\n",
    "            i += 1\n",
    "        return roman_num\n",
    "\n",
    "\n",
    "print(py_solution().int_to_Roman(10))\n"
   ]
  },
  {
   "cell_type": "markdown",
   "id": "58ba63c7-9664-4915-b365-42943d1dc0c1",
   "metadata": {},
   "source": [
    ">>Part-1:\n",
    "Write a python function which accepts a string of words and a target word, and returns the list of the positions of the target word in the string of words.\n",
    "\n",
    "Sample input\tExpected output\n",
    "input String- we dont need no education we dont need no thought control no we dont\n",
    "target word- dont\t[1, 6, 13 ]\n",
    "Part-2:\n",
    "Write a python function which accepts a string of words and returns a dict which contains the words in the input string as key and the list of positions of these words in the input string as value. Use the function written in part-1.\n",
    "\n",
    "Sample input\tExpected output\n",
    "we dont need no education we dont need no thought control no we dont\t{'no': [3, 8, 11], 'thought': [9], 'dont': [1, 6, 13], 'need': [2, 7], 'control': [10], 'we': [0, 5, 12], 'education': [4]}"
   ]
  },
  {
   "cell_type": "code",
   "execution_count": 16,
   "id": "1e0731d4-a229-48ea-b860-385771590f96",
   "metadata": {},
   "outputs": [
    {
     "name": "stdout",
     "output_type": "stream",
     "text": [
      "{'we': [0, 5, 12], 'dont': [1, 6, 13], 'need': [2, 7], 'no': [3, 8, 11], 'education': [4], 'thought': [9], 'control': [10]}\n"
     ]
    }
   ],
   "source": [
    "def find_target_positions(input_string, target_word):\n",
    "    target_list=[]\n",
    "    a =[]\n",
    "    target_list = [i for i in map(str,input_string.split())]\n",
    "    for i in range(len(target_list)):\n",
    "        if target_list[i] == target_word:\n",
    "            a.append(i)\n",
    "    return a\n",
    "\n",
    "def find_inverted_index(input_string):\n",
    "    target_dict={}\n",
    "    target_list=[]\n",
    "    target_list = [i for i in map(str,input_string.split())]\n",
    "    for i in target_list:\n",
    "        if i not in target_dict:\n",
    "            target_dict[i] = find_target_positions(input_string,i)\n",
    "    return target_dict\n",
    "\n",
    "    \n",
    "    \n",
    "input_string=\"we dont need no education we dont need no thought control no we dont\"\n",
    "result_dict=find_inverted_index(input_string)\n",
    "print(result_dict)"
   ]
  },
  {
   "cell_type": "markdown",
   "id": "b58b72a0-ab87-4008-a6a2-afc5dd148d21",
   "metadata": {},
   "source": [
    "**HARD**"
   ]
  },
  {
   "cell_type": "markdown",
   "id": "3fc0a5f2-a02b-4d28-808b-704f42f71c0d",
   "metadata": {},
   "source": [
    ">>The following are the details of trains:\n",
    "\n",
    "Train No\n",
    "\n",
    "Train Name\n",
    "\n",
    "From\n",
    "\n",
    "To\n",
    "\n",
    "Running days\n",
    "\n",
    "Sleeper Fare\n",
    "\n",
    "AC Fare\n",
    "\n",
    "16453\n",
    "\n",
    "Prasanti Express\n",
    "\n",
    "SBC\n",
    "\n",
    "BBS\n",
    "\n",
    "'Mo', 'We', 'Th'\n",
    "\n",
    "600\n",
    "\n",
    "987\n",
    "\n",
    "25627\n",
    "\n",
    "Karnataka Express\n",
    "\n",
    "SBC\n",
    "\n",
    "DEC\n",
    "\n",
    "'Su', 'Tu'\n",
    "\n",
    "1600\n",
    "\n",
    "2500\n",
    "\n",
    "22642\n",
    "\n",
    "Trivandrum SF Express\n",
    "\n",
    "VSKP\n",
    "\n",
    "TVM\n",
    "\n",
    "'Mo', 'Tu', 'We', 'Th', 'Fr', 'Sa'\n",
    "\n",
    "800\n",
    "\n",
    "1256\n",
    "\n",
    "22905\n",
    "\n",
    "Okha Howrah Express\n",
    "\n",
    "ST\n",
    "\n",
    "KOAA\n",
    "\n",
    "'We', 'Sa'\n",
    "\n",
    "987\n",
    "\n",
    "2879\n",
    "\n",
    "Represent each train's detail as a dictionary in the following format:\n",
    "train_dict={“train_no”:train number, “name”:train name, “from”:source, “to”:destination, “days_of_run”:list of running days, “sleeper_fare”:sleeper fare, “ac_fare”:AC fare }\n",
    "\n",
    "Create a list of trains, name it as train_list. Consider it to be a global variable.\n",
    "Refer the table below for the error messages to be returned for various conditions.\n",
    "\n",
    "Function\n",
    "\n",
    "Condition\n",
    "\n",
    "Error message\n",
    "\n",
    "get_train_name (train_no)\n",
    "\n",
    "If train number is not valid\n",
    "\n",
    "“Invalid Train_no”\n",
    "\n",
    "get_trains_for_day (day_of_run)\n",
    "\n",
    "If day is not in proper format\n",
    "\n",
    "“Invalid day”\n",
    "\n",
    " get_train_name(train_no)\n",
    "\n",
    "        This function accepts the train number and returns the dict which contains the details of the train.\n",
    "\n",
    "get_trains_for_day(day_of_run)\n",
    "\n",
    "       This function accepts a day and returns the list of numbers of the trains running on that day.\n",
    "\n",
    "get_total_fare(train_no,passenger_dict)\n",
    "\n",
    "       This function accepts train_no and a dictionary of passenger details. The passenger_dict is of the following format:\n",
    "       passenger_dict={ “sleeper”:5, “ac”,1 }\n",
    "       This function returns the total fare based on the passenger details and train number.\n",
    "\n",
    "Sample Input\n",
    "\n",
    "Expected Output\n",
    "\n",
    "train_no = 25627\n",
    "day_of_run = “We”\n",
    "passenger_dict ={\"sleeper\":10, \"ac\":10}\n",
    "\n",
    "Karnataka Express\n",
    "[16453, 22642, 22905]\n",
    "41000\n",
    "\n"
   ]
  },
  {
   "cell_type": "code",
   "execution_count": 32,
   "id": "4b128df0-312f-4312-8daa-c4d9a23fe2a5",
   "metadata": {},
   "outputs": [
    {
     "name": "stdout",
     "output_type": "stream",
     "text": [
      "Karnataka Express\n",
      "[16453, 22642]\n",
      "5256\n"
     ]
    }
   ],
   "source": [
    "\n",
    "train_list=[\n",
    "{\"train_no\":16453,\"name\":\"Prasanti Express\",\"from\":\"SBC\",\"to\":\"BBS\",\"days_of_run\":['Mo','We','Th'],\"sleeper_fare\":600,\"ac_fare\": 987},\n",
    "{\"train_no\":25627,\"name\":\"Karnataka Express\",\"from\":\"SBC\",\"to\":\"DEC\",\"days_of_run\":['Su','Tu'],\"sleeper_fare\":1600,\"ac_fare\": 2500},\n",
    "{\"train_no\":22642,\"name\":\"Trivandrum SF Express\",\"from\":\"VSKP\",\"to\":\"TVM\",\"days_of_run\":['Mo','Tu','We','Th','Fr','Sa'],\"sleeper_fare\":800,\"ac_fare\": 1256},\n",
    "{\"train_no\":22905,\"name\":\"Okha Howrah Express\",\"from\":\"ST\",\"to\":\"KOAA\",\"days_of_run\":['We','Sa'],\"sleeper_fare\":987,\"ac_fare\": 2879}]\n",
    "\n",
    "def get_train_name (train_no):\n",
    "    for x in train_list:\n",
    "        res = list(x.values())[0]\n",
    "        if res == train_no:\n",
    "            return list(x.values())[1]\n",
    "    \n",
    "\n",
    "def get_trains_for_day(day_of_run):\n",
    "    a = []\n",
    "    for x in train_list:\n",
    "        res = list(x.values())[4]\n",
    "        for y in res :\n",
    "            if y == day_of_run:\n",
    "                a.append(list(x.values())[0])\n",
    "    return a\n",
    "\n",
    "def get_total_fare(train_no,passenger_dict):\n",
    "    pay = list(passenger_dict.values())\n",
    "    for x in train_list:\n",
    "        res = list(x.values())\n",
    "        if res[0] == train_no:\n",
    "            sum = res[5]*pay[0] + res[6]*pay[1]\n",
    "    return sum\n",
    "    \n",
    "print(get_train_name(25627))\n",
    "print(get_trains_for_day(\"Mo\"))\n",
    "print(get_total_fare(22642,{\"sleeper\":5, \"ac\":1}))"
   ]
  },
  {
   "cell_type": "markdown",
   "id": "b67285cb-0f30-49fe-8467-cf2d02aa3853",
   "metadata": {},
   "source": [
    ">>A Ducci sequence is a sequence of lists of integers. Given a starting list of integers, the next list in the sequence is formed by taking the absolute differences of neighboring integers in the previous list.\n",
    "\n",
    "Start List: [0,653,1854,4063]\n",
    "\n",
    "Ducci Sequence:[653,1201,2209,4063], [548,1008,1854,3410], ...........,[0,0,0,0]\n",
    "\n",
    "Assumption: The Ducci sequence ends with a list containing 0s and the starting list contains four elements.\n",
    "\n",
    "Write a python function that takes a starting list of integers and a number ‘n’ as input, and returns the nth element of the Ducci sequence."
   ]
  },
  {
   "cell_type": "code",
   "execution_count": 33,
   "id": "efec6b79-b75f-40a9-aaed-e9293973c770",
   "metadata": {},
   "outputs": [
    {
     "name": "stdout",
     "output_type": "stream",
     "text": [
      "(0, 345, 1788, 5078)\n",
      "(5078, 345, 1443, 3290)\n",
      "(1788, 4733, 1098, 1847)\n",
      "(59, 2945, 3635, 749)\n",
      "(690, 2886, 690, 2886)\n",
      "(2196, 2196, 2196, 2196)\n",
      "(0, 0, 0, 0)\n",
      "7 steps\n"
     ]
    }
   ],
   "source": [
    "def ducci_sequence(*ns):\n",
    "    while True:\n",
    "        yield ns\n",
    "        ns = tuple(abs(ns[i - 1] - ns[i]) for i in range(len(ns)))\n",
    "\n",
    "def ducci(*ns):\n",
    "    known = set()\n",
    "    for ns in ducci_sequence(*ns):\n",
    "        print(ns)\n",
    "        if ns in known or set(ns) == {0}:\n",
    "            break\n",
    "        known.add(ns)\n",
    "    return len(known) + 1\n",
    "print(ducci(0, 345, 1788, 5078), \"steps\")"
   ]
  },
  {
   "cell_type": "markdown",
   "id": "1048308e-22cb-4dce-8236-0b528e8e32c7",
   "metadata": {},
   "source": [
    "**ASSESMENT QUES***"
   ]
  },
  {
   "cell_type": "code",
   "execution_count": 39,
   "id": "cb628f97-f006-47f2-a85c-c19a808a206d",
   "metadata": {},
   "outputs": [
    {
     "name": "stdout",
     "output_type": "stream",
     "text": [
      "2\n",
      "4\n",
      "5\n"
     ]
    }
   ],
   "source": [
    "list1=[10,20,0,40,0]\n",
    "def test():\n",
    "    try:\n",
    "        var1=30\n",
    "        if(list1[var1]/list1[var1+1]>1):\n",
    "            value=var1+1\n",
    "    except ZeroDivisionError:\n",
    "        print(\"1\" )\n",
    "    except IndexError:\n",
    "        print(\"2\")\n",
    "    finally:\n",
    "        print (\"4\")\n",
    "    print(\"5\")\n",
    "test()"
   ]
  },
  {
   "cell_type": "code",
   "execution_count": 42,
   "id": "3200a11b-096a-4b7a-815e-3b785e01387c",
   "metadata": {},
   "outputs": [
    {
     "name": "stdout",
     "output_type": "stream",
     "text": [
      "IF\n",
      "V\n",
      "OF\n"
     ]
    }
   ],
   "source": [
    "def func(var1, var2) :\n",
    "    try:\n",
    "        var3= (int)(var1)\n",
    "        var2=var3+\"A\"\n",
    "        print(var2)\n",
    "    except TypeError:\n",
    "        print(\"T\")\n",
    "    finally:\n",
    "        print(\"IF\")\n",
    "try:\n",
    "    func(\"R\",13)\n",
    "except ValueError:\n",
    "         print(\"V\")\n",
    "finally:\n",
    "         print ( \"OF\")"
   ]
  },
  {
   "cell_type": "code",
   "execution_count": 45,
   "id": "3e665618-d6f2-4475-a49e-b1e8a06458f0",
   "metadata": {},
   "outputs": [
    {
     "name": "stdout",
     "output_type": "stream",
     "text": [
      "False\n"
     ]
    }
   ],
   "source": [
    "def func1(arg1, *arg2) :\n",
    "    for num in arg2:\n",
    "        if(arg1>=num) :\n",
    "            return num\n",
    "    return 0\n",
    "def func2(arg3, arg4=10) :\n",
    "    if (arg3<=arg4) :\n",
    "        return arg3\n",
    "    return arg4\n",
    "def func3 (arg5, arg6) :\n",
    "    if (arg5!=arg6) :\n",
    "        return False\n",
    "    return True\n",
    "res2=func2(1)\n",
    "res1=func1 (res2,1,1,2,5,7,8)\n",
    "print (func3 (arg6=10,arg5=res2))"
   ]
  },
  {
   "cell_type": "code",
   "execution_count": 49,
   "id": "69c465d4-22d0-4348-b823-4e34fbb39152",
   "metadata": {},
   "outputs": [
    {
     "name": "stdout",
     "output_type": "stream",
     "text": [
      "FI CA\n"
     ]
    }
   ],
   "source": [
    "def func1():\n",
    "    try:\n",
    "        dictl= {\"IN\":\"India\",\"US\":\"Unites\"}\n",
    "        del dictl[\"IN\"]\n",
    "        value = 100 // (len(dict1) - 1)\n",
    "        print (value)\n",
    "    except ZeroDivisionError:\n",
    "        print ( \"ZD\", end=\"\")\n",
    "        value = int (dictl[0])\n",
    "    except KeyError:\n",
    "        print(\"KE\", end=\" \")\n",
    "    finally:\n",
    "        print(\"FI\", end=\" \")\n",
    "try:\n",
    "    func1()\n",
    "    print (\"TR\")\n",
    "except:\n",
    "    print(\"CA\")"
   ]
  },
  {
   "cell_type": "code",
   "execution_count": null,
   "id": "6d22d2cd-4387-4bc0-b582-eaed78bcd60c",
   "metadata": {},
   "outputs": [],
   "source": []
  }
 ],
 "metadata": {
  "kernelspec": {
   "display_name": "Python 3 (ipykernel)",
   "language": "python",
   "name": "python3"
  },
  "language_info": {
   "codemirror_mode": {
    "name": "ipython",
    "version": 3
   },
   "file_extension": ".py",
   "mimetype": "text/x-python",
   "name": "python",
   "nbconvert_exporter": "python",
   "pygments_lexer": "ipython3",
   "version": "3.9.7"
  }
 },
 "nbformat": 4,
 "nbformat_minor": 5
}
